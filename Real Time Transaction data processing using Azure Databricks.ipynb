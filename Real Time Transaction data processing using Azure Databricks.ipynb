{
 "cells": [
  {
   "cell_type": "code",
   "execution_count": 0,
   "metadata": {
    "application/vnd.databricks.v1+cell": {
     "cellMetadata": {
      "byteLimit": 2048000,
      "rowLimit": 10000
     },
     "inputWidgets": {},
     "nuid": "d376948f-980e-4887-a319-45a525172d43",
     "showTitle": false,
     "title": ""
    }
   },
   "outputs": [],
   "source": [
    "from pyspark.sql.functions import *\n",
    "from pyspark.sql.types import *"
   ]
  },
  {
   "cell_type": "code",
   "execution_count": 0,
   "metadata": {
    "application/vnd.databricks.v1+cell": {
     "cellMetadata": {
      "byteLimit": 2048000,
      "rowLimit": 10000
     },
     "inputWidgets": {},
     "nuid": "3397f5f1-841b-4911-9099-8b99b92ab7c0",
     "showTitle": false,
     "title": ""
    }
   },
   "outputs": [],
   "source": [
    "connectionString = \"<copy paste your sharedAccessKey here>\"\n",
    "eventHubName = \"eh-dev-transaction\"\n",
    "\n",
    "ehConfig = {\n",
    "  'eventhubs.connectionString' : sc._jvm.org.apache.spark.eventhubs.EventHubsUtils.encrypt(connectionString),\n",
    "  'eventhubs.eventHubName': eventHubName\n",
    "}"
   ]
  },
  {
   "cell_type": "code",
   "execution_count": 0,
   "metadata": {
    "application/vnd.databricks.v1+cell": {
     "cellMetadata": {
      "byteLimit": 2048000,
      "rowLimit": 10000
     },
     "inputWidgets": {},
     "nuid": "2c600486-0258-4b5f-b129-dd9ac85078d1",
     "showTitle": false,
     "title": ""
    }
   },
   "outputs": [
    {
     "data": {
      "text/html": [
       "<style scoped>\n",
       "  .table-result-container {\n",
       "    max-height: 300px;\n",
       "    overflow: auto;\n",
       "  }\n",
       "  table, th, td {\n",
       "    border: 1px solid black;\n",
       "    border-collapse: collapse;\n",
       "  }\n",
       "  th, td {\n",
       "    padding: 5px;\n",
       "  }\n",
       "  th {\n",
       "    text-align: left;\n",
       "  }\n",
       "</style><div class='table-result-container'><table class='table-result'><thead style='background-color: white'><tr><th>body</th><th>partition</th><th>offset</th><th>sequenceNumber</th><th>enqueuedTime</th><th>publisher</th><th>partitionKey</th><th>properties</th><th>systemProperties</th></tr></thead><tbody><tr><td>ew0KICAgICJpZCI6IDIxLA0KICAgICJhY2NvdW50X2lkIjogODA0NzI0LA0KICAgICJsaW1pdCI6IDU2OTcsDQogICAgInByb2R1Y3RzIjogWw0KICAgICAgICAiRGVyaXZhdGl2ZXMiLA0KICAgICAgICAiSW52ZXN0bWVudFM= (truncated)</td><td>0</td><td>154896</td><td>149</td><td>2024-09-16T14:12:39.023+0000</td><td>null</td><td>null</td><td>Map()</td><td>Map(x-opt-sequence-number-epoch -> -1, correlation-id -> 4bab08e1-c385-46ae-871e-941a1c46637b, message-id -> EHExplorer-f7baaa74-ba1d-4841-bf6f-27730ece8f0a, content-type -> application/json)</td></tr><tr><td>ew0KICAiaWQiOiAyMSwNCiAgImFjY291bnRfaWQiOiA4MDQ3MjQsDQogICJsaW1pdCI6IDU2OTcsDQogICJwcm9kdWN0cyI6IFsNCiAgICAiRGVyaXZhdGl2ZXMiLA0KICAgICJJbnZlc3RtZW50U3RvY2siDQogIF0sDQogICI= (truncated)</td><td>0</td><td>157816</td><td>150</td><td>2024-09-16T14:12:45.429+0000</td><td>null</td><td>null</td><td>Map()</td><td>Map(x-opt-sequence-number-epoch -> -1, correlation-id -> 5739a00d-e203-44e7-9cc4-43f0e5e4ee98, message-id -> EHExplorer-3116e9bd-7ac1-4959-9693-9f900b99ac12, content-type -> application/json)</td></tr></tbody></table></div>"
      ]
     },
     "metadata": {
      "application/vnd.databricks.v1+output": {
       "addedWidgets": {},
       "aggData": [],
       "aggError": "",
       "aggOverflow": false,
       "aggSchema": [],
       "aggSeriesLimitReached": false,
       "aggType": "",
       "arguments": {},
       "columnCustomDisplayInfos": {},
       "data": [
        [
         "ew0KICAgICJpZCI6IDIxLA0KICAgICJhY2NvdW50X2lkIjogODA0NzI0LA0KICAgICJsaW1pdCI6IDU2OTcsDQogICAgInByb2R1Y3RzIjogWw0KICAgICAgICAiRGVyaXZhdGl2ZXMiLA0KICAgICAgICAiSW52ZXN0bWVudFM= (truncated)",
         "0",
         "154896",
         149,
         "2024-09-16T14:12:39.023+0000",
         null,
         null,
         {},
         {
          "content-type": "application/json",
          "correlation-id": "4bab08e1-c385-46ae-871e-941a1c46637b",
          "message-id": "EHExplorer-f7baaa74-ba1d-4841-bf6f-27730ece8f0a",
          "x-opt-sequence-number-epoch": "-1"
         }
        ],
        [
         "ew0KICAiaWQiOiAyMSwNCiAgImFjY291bnRfaWQiOiA4MDQ3MjQsDQogICJsaW1pdCI6IDU2OTcsDQogICJwcm9kdWN0cyI6IFsNCiAgICAiRGVyaXZhdGl2ZXMiLA0KICAgICJJbnZlc3RtZW50U3RvY2siDQogIF0sDQogICI= (truncated)",
         "0",
         "157816",
         150,
         "2024-09-16T14:12:45.429+0000",
         null,
         null,
         {},
         {
          "content-type": "application/json",
          "correlation-id": "5739a00d-e203-44e7-9cc4-43f0e5e4ee98",
          "message-id": "EHExplorer-3116e9bd-7ac1-4959-9693-9f900b99ac12",
          "x-opt-sequence-number-epoch": "-1"
         }
        ]
       ],
       "datasetInfos": [],
       "dbfsResultPath": null,
       "isJsonSchema": true,
       "metadata": {
        "isDbfsCommandResult": false
       },
       "overflow": false,
       "plotOptions": {
        "customPlotOptions": {},
        "displayType": "table",
        "pivotAggregation": null,
        "pivotColumns": null,
        "xColumns": null,
        "yColumns": null
       },
       "removedWidgets": [],
       "schema": [
        {
         "metadata": "{}",
         "name": "body",
         "type": "\"binary\""
        },
        {
         "metadata": "{}",
         "name": "partition",
         "type": "\"string\""
        },
        {
         "metadata": "{}",
         "name": "offset",
         "type": "\"string\""
        },
        {
         "metadata": "{}",
         "name": "sequenceNumber",
         "type": "\"long\""
        },
        {
         "metadata": "{}",
         "name": "enqueuedTime",
         "type": "\"timestamp\""
        },
        {
         "metadata": "{}",
         "name": "publisher",
         "type": "\"string\""
        },
        {
         "metadata": "{}",
         "name": "partitionKey",
         "type": "\"string\""
        },
        {
         "metadata": "{}",
         "name": "properties",
         "type": "{\"type\":\"map\",\"keyType\":\"string\",\"valueType\":\"string\",\"valueContainsNull\":true}"
        },
        {
         "metadata": "{}",
         "name": "systemProperties",
         "type": "{\"type\":\"map\",\"keyType\":\"string\",\"valueType\":\"string\",\"valueContainsNull\":true}"
        }
       ],
       "type": "table"
      }
     },
     "output_type": "display_data"
    }
   ],
   "source": [
    "df = spark.readStream \\\n",
    "    .format(\"eventhubs\") \\\n",
    "    .options(**ehConfig) \\\n",
    "    .load() \\\n",
    "\n",
    "df.display()\n",
    "\n",
    "spark.sql(\"CREATE SCHEMA IF NOT EXISTS hive_metastore.transaction_bronze\")\n",
    "\n",
    "df.writeStream\\\n",
    "    .option(\"checkpointLocation\", \"/mnt/hive_metastore/transaction_bronze/data\")\\\n",
    "    .outputMode(\"append\")\\\n",
    "    .format(\"delta\")\\\n",
    "    .toTable(\"hive_metastore.transaction_bronze.data\")"
   ]
  },
  {
   "cell_type": "code",
   "execution_count": 0,
   "metadata": {
    "application/vnd.databricks.v1+cell": {
     "cellMetadata": {
      "byteLimit": 2048000,
      "implicitDf": true,
      "rowLimit": 10000
     },
     "inputWidgets": {},
     "nuid": "786e336d-67fb-41ac-ba7f-5814009507a0",
     "showTitle": false,
     "title": ""
    }
   },
   "outputs": [
    {
     "data": {
      "text/html": [
       "<style scoped>\n",
       "  .table-result-container {\n",
       "    max-height: 300px;\n",
       "    overflow: auto;\n",
       "  }\n",
       "  table, th, td {\n",
       "    border: 1px solid black;\n",
       "    border-collapse: collapse;\n",
       "  }\n",
       "  th, td {\n",
       "    padding: 5px;\n",
       "  }\n",
       "  th {\n",
       "    text-align: left;\n",
       "  }\n",
       "</style><div class='table-result-container'><table class='table-result'><thead style='background-color: white'><tr><th>body</th><th>partition</th><th>offset</th><th>sequenceNumber</th><th>enqueuedTime</th><th>publisher</th><th>partitionKey</th><th>properties</th><th>systemProperties</th></tr></thead><tbody><tr><td>ewogICJpZCI6IDUsCiAgImFjY291bnRfaWQiOiAyMTE3MzksCiAgImxpbWl0IjogNzU4MywKICAicHJvZHVjdHMiOiBbCiAgICAiRGVyaXZhdGl2ZXMiLAogICAgIkludmVzdG1lbnRTdG9jayIKICBdLAogICJ1c2VybmFtZSI= (truncated)</td><td>0</td><td>119672</td><td>130</td><td>2024-09-16T13:30:28.533+0000</td><td>null</td><td>null</td><td>Map()</td><td>Map(x-opt-sequence-number-epoch -> -1)</td></tr><tr><td>ewogICJpZCI6IDIxLAogICJhY2NvdW50X2lkIjogODA0NzI0LAogICJsaW1pdCI6IDU2OTcsCiAgInByb2R1Y3RzIjogWwogICAgIkRlcml2YXRpdmVzIiwKICAgICJJbnZlc3RtZW50U3RvY2siCiAgXSwKICAidXNlcm5hbWU= (truncated)</td><td>0</td><td>147736</td><td>146</td><td>2024-09-16T13:33:09.631+0000</td><td>null</td><td>null</td><td>Map()</td><td>Map(x-opt-sequence-number-epoch -> -1)</td></tr><tr><td>ewogICJpZCI6IDYsCiAgImFjY291bnRfaWQiOiA4NDU5NDMsCiAgImxpbWl0IjogNjk5MiwKICAicHJvZHVjdHMiOiBbCiAgICAiRGVyaXZhdGl2ZXMiLAogICAgIkludmVzdG1lbnRTdG9jayIKICBdLAogICJ1c2VybmFtZSI= (truncated)</td><td>0</td><td>121896</td><td>131</td><td>2024-09-16T13:30:38.611+0000</td><td>null</td><td>null</td><td>Map()</td><td>Map(x-opt-sequence-number-epoch -> -1)</td></tr><tr><td>ewogICJpZCI6IDEsCiAgImFjY291bnRfaWQiOiA3OTgxOTEsCiAgImxpbWl0IjogNTkzMSwKICAicHJvZHVjdHMiOiBbCiAgICAiRGVyaXZhdGl2ZXMiLAogICAgIkludmVzdG1lbnRTdG9jayIKICBdLAogICJ1c2VybmFtZSI= (truncated)</td><td>0</td><td>113232</td><td>126</td><td>2024-09-16T13:29:47.579+0000</td><td>null</td><td>null</td><td>Map()</td><td>Map(x-opt-sequence-number-epoch -> -1)</td></tr><tr><td>ewogICJpZCI6IDE1LAogICJhY2NvdW50X2lkIjogNDczODYzLAogICJsaW1pdCI6IDk2MjIsCiAgInByb2R1Y3RzIjogWwogICAgIkRlcml2YXRpdmVzIiwKICAgICJJbnZlc3RtZW50U3RvY2siCiAgXSwKICAidXNlcm5hbWU= (truncated)</td><td>0</td><td>136568</td><td>140</td><td>2024-09-16T13:32:09.270+0000</td><td>null</td><td>null</td><td>Map()</td><td>Map(x-opt-sequence-number-epoch -> -1)</td></tr><tr><td>ewogICJpZCI6IDE4LAogICJhY2NvdW50X2lkIjogODc3NTMyLAogICJsaW1pdCI6IDk5ODQsCiAgInByb2R1Y3RzIjogWwogICAgIkRlcml2YXRpdmVzIiwKICAgICJJbnZlc3RtZW50U3RvY2siCiAgXSwKICAidXNlcm5hbWU= (truncated)</td><td>0</td><td>142032</td><td>143</td><td>2024-09-16T13:32:39.443+0000</td><td>null</td><td>null</td><td>Map()</td><td>Map(x-opt-sequence-number-epoch -> -1)</td></tr><tr><td>ewogICJpZCI6IDEwLAogICJhY2NvdW50X2lkIjogNzEwNzYxLAogICJsaW1pdCI6IDU3NzYsCiAgInByb2R1Y3RzIjogWwogICAgIkRlcml2YXRpdmVzIiwKICAgICJJbnZlc3RtZW50U3RvY2siCiAgXSwKICAidXNlcm5hbWU= (truncated)</td><td>0</td><td>128352</td><td>135</td><td>2024-09-16T13:31:18.894+0000</td><td>null</td><td>null</td><td>Map()</td><td>Map(x-opt-sequence-number-epoch -> -1)</td></tr><tr><td>ewogICJpZCI6IDE5LAogICJhY2NvdW50X2lkIjogNDU4NDkxLAogICJsaW1pdCI6IDY5NDQsCiAgInByb2R1Y3RzIjogWwogICAgIkRlcml2YXRpdmVzIiwKICAgICJJbnZlc3RtZW50U3RvY2siCiAgXSwKICAidXNlcm5hbWU= (truncated)</td><td>0</td><td>144016</td><td>144</td><td>2024-09-16T13:32:49.521+0000</td><td>null</td><td>null</td><td>Map()</td><td>Map(x-opt-sequence-number-epoch -> -1)</td></tr><tr><td>ewogICJpZCI6IDE3LAogICJhY2NvdW50X2lkIjogNTY0NjEwLAogICJsaW1pdCI6IDc5MDYsCiAgInByb2R1Y3RzIjogWwogICAgIkRlcml2YXRpdmVzIiwKICAgICJJbnZlc3RtZW50U3RvY2siCiAgXSwKICAidXNlcm5hbWU= (truncated)</td><td>0</td><td>140048</td><td>142</td><td>2024-09-16T13:32:29.380+0000</td><td>null</td><td>null</td><td>Map()</td><td>Map(x-opt-sequence-number-epoch -> -1)</td></tr><tr><td>ewogICJpZCI6IDExLAogICJhY2NvdW50X2lkIjogNTE2OTIxLAogICJsaW1pdCI6IDYyOTMsCiAgInByb2R1Y3RzIjogWwogICAgIkRlcml2YXRpdmVzIiwKICAgICJJbnZlc3RtZW50U3RvY2siCiAgXSwKICAidXNlcm5hbWU= (truncated)</td><td>0</td><td>130336</td><td>136</td><td>2024-09-16T13:31:28.973+0000</td><td>null</td><td>null</td><td>Map()</td><td>Map(x-opt-sequence-number-epoch -> -1)</td></tr><tr><td>ewogICJpZCI6IDgsCiAgImFjY291bnRfaWQiOiAzNzk5NzksCiAgImxpbWl0IjogNjUxOSwKICAicHJvZHVjdHMiOiBbCiAgICAiRGVyaXZhdGl2ZXMiLAogICAgIkludmVzdG1lbnRTdG9jayIKICBdLAogICJ1c2VybmFtZSI= (truncated)</td><td>0</td><td>125368</td><td>133</td><td>2024-09-16T13:30:58.737+0000</td><td>null</td><td>null</td><td>Map()</td><td>Map(x-opt-sequence-number-epoch -> -1)</td></tr><tr><td>ewogICJpZCI6IDEzLAogICJhY2NvdW50X2lkIjogNjk3Nzg1LAogICJsaW1pdCI6IDcyNDQsCiAgInByb2R1Y3RzIjogWwogICAgIkRlcml2YXRpdmVzIiwKICAgICJJbnZlc3RtZW50U3RvY2siCiAgXSwKICAidXNlcm5hbWU= (truncated)</td><td>0</td><td>133576</td><td>138</td><td>2024-09-16T13:31:49.098+0000</td><td>null</td><td>null</td><td>Map()</td><td>Map(x-opt-sequence-number-epoch -> -1)</td></tr><tr><td>ewogICJpZCI6IDIwLAogICJhY2NvdW50X2lkIjogNzE1ODQzLAogICJsaW1pdCI6IDYyMTksCiAgInByb2R1Y3RzIjogWwogICAgIkRlcml2YXRpdmVzIiwKICAgICJJbnZlc3RtZW50U3RvY2siCiAgXSwKICAidXNlcm5hbWU= (truncated)</td><td>0</td><td>146000</td><td>145</td><td>2024-09-16T13:32:59.568+0000</td><td>null</td><td>null</td><td>Map()</td><td>Map(x-opt-sequence-number-epoch -> -1)</td></tr><tr><td>ewogICJpZCI6IDQsCiAgImFjY291bnRfaWQiOiA5MDA2NTAsCiAgImxpbWl0IjogOTQxMywKICAicHJvZHVjdHMiOiBbCiAgICAiRGVyaXZhdGl2ZXMiLAogICAgIkludmVzdG1lbnRTdG9jayIKICBdLAogICJ1c2VybmFtZSI= (truncated)</td><td>0</td><td>118184</td><td>129</td><td>2024-09-16T13:30:18.470+0000</td><td>null</td><td>null</td><td>Map()</td><td>Map(x-opt-sequence-number-epoch -> -1)</td></tr><tr><td>ewogICJpZCI6IDIsCiAgImFjY291bnRfaWQiOiA3OTg2NjMsCiAgImxpbWl0IjogNTUwOCwKICAicHJvZHVjdHMiOiBbCiAgICAiRGVyaXZhdGl2ZXMiLAogICAgIkludmVzdG1lbnRTdG9jayIKICBdLAogICJ1c2VybmFtZSI= (truncated)</td><td>0</td><td>115448</td><td>127</td><td>2024-09-16T13:29:57.657+0000</td><td>null</td><td>null</td><td>Map()</td><td>Map(x-opt-sequence-number-epoch -> -1)</td></tr><tr><td>ewogICJpZCI6IDcsCiAgImFjY291bnRfaWQiOiA4MTIxODEsCiAgImxpbWl0IjogNTY2OCwKICAicHJvZHVjdHMiOiBbCiAgICAiRGVyaXZhdGl2ZXMiLAogICAgIkludmVzdG1lbnRTdG9jayIKICBdLAogICJ1c2VybmFtZSI= (truncated)</td><td>0</td><td>124120</td><td>132</td><td>2024-09-16T13:30:48.674+0000</td><td>null</td><td>null</td><td>Map()</td><td>Map(x-opt-sequence-number-epoch -> -1)</td></tr><tr><td>ewogICJpZCI6IDEyLAogICJhY2NvdW50X2lkIjogOTQxNDg1LAogICJsaW1pdCI6IDgzNTgsCiAgInByb2R1Y3RzIjogWwogICAgIkRlcml2YXRpdmVzIiwKICAgICJJbnZlc3RtZW50U3RvY2siCiAgXSwKICAidXNlcm5hbWU= (truncated)</td><td>0</td><td>132320</td><td>137</td><td>2024-09-16T13:31:39.020+0000</td><td>null</td><td>null</td><td>Map()</td><td>Map(x-opt-sequence-number-epoch -> -1)</td></tr><tr><td>ewogICJpZCI6IDE2LAogICJhY2NvdW50X2lkIjogMTc0Mzg4LAogICJsaW1pdCI6IDk5NjksCiAgInByb2R1Y3RzIjogWwogICAgIkRlcml2YXRpdmVzIiwKICAgICJJbnZlc3RtZW50U3RvY2siCiAgXSwKICAidXNlcm5hbWU= (truncated)</td><td>0</td><td>138792</td><td>141</td><td>2024-09-16T13:32:19.333+0000</td><td>null</td><td>null</td><td>Map()</td><td>Map(x-opt-sequence-number-epoch -> -1)</td></tr><tr><td>ewogICJpZCI6IDE0LAogICJhY2NvdW50X2lkIjogNDA4NTgxLAogICJsaW1pdCI6IDY0MzQsCiAgInByb2R1Y3RzIjogWwogICAgIkRlcml2YXRpdmVzIiwKICAgICJJbnZlc3RtZW50U3RvY2siCiAgXSwKICAidXNlcm5hbWU= (truncated)</td><td>0</td><td>135312</td><td>139</td><td>2024-09-16T13:31:59.161+0000</td><td>null</td><td>null</td><td>Map()</td><td>Map(x-opt-sequence-number-epoch -> -1)</td></tr><tr><td>ewogICJpZCI6IDMsCiAgImFjY291bnRfaWQiOiA4MTAxOTUsCiAgImxpbWl0IjogOTU0MSwKICAicHJvZHVjdHMiOiBbCiAgICAiRGVyaXZhdGl2ZXMiLAogICAgIkludmVzdG1lbnRTdG9jayIKICBdLAogICJ1c2VybmFtZSI= (truncated)</td><td>0</td><td>116936</td><td>128</td><td>2024-09-16T13:30:07.736+0000</td><td>null</td><td>null</td><td>Map()</td><td>Map(x-opt-sequence-number-epoch -> -1)</td></tr><tr><td>ewogICJpZCI6IDksCiAgImFjY291bnRfaWQiOiAyOTMwNDcsCiAgImxpbWl0IjogODI2OCwKICAicHJvZHVjdHMiOiBbCiAgICAiRGVyaXZhdGl2ZXMiLAogICAgIkludmVzdG1lbnRTdG9jayIKICBdLAogICJ1c2VybmFtZSI= (truncated)</td><td>0</td><td>127104</td><td>134</td><td>2024-09-16T13:31:08.831+0000</td><td>null</td><td>null</td><td>Map()</td><td>Map(x-opt-sequence-number-epoch -> -1)</td></tr></tbody></table></div>"
      ]
     },
     "metadata": {
      "application/vnd.databricks.v1+output": {
       "addedWidgets": {},
       "aggData": [],
       "aggError": "",
       "aggOverflow": false,
       "aggSchema": [],
       "aggSeriesLimitReached": false,
       "aggType": "",
       "arguments": {},
       "columnCustomDisplayInfos": {},
       "data": [
        [
         "ewogICJpZCI6IDUsCiAgImFjY291bnRfaWQiOiAyMTE3MzksCiAgImxpbWl0IjogNzU4MywKICAicHJvZHVjdHMiOiBbCiAgICAiRGVyaXZhdGl2ZXMiLAogICAgIkludmVzdG1lbnRTdG9jayIKICBdLAogICJ1c2VybmFtZSI= (truncated)",
         "0",
         "119672",
         130,
         "2024-09-16T13:30:28.533+0000",
         null,
         null,
         {},
         {
          "x-opt-sequence-number-epoch": "-1"
         }
        ],
        [
         "ewogICJpZCI6IDIxLAogICJhY2NvdW50X2lkIjogODA0NzI0LAogICJsaW1pdCI6IDU2OTcsCiAgInByb2R1Y3RzIjogWwogICAgIkRlcml2YXRpdmVzIiwKICAgICJJbnZlc3RtZW50U3RvY2siCiAgXSwKICAidXNlcm5hbWU= (truncated)",
         "0",
         "147736",
         146,
         "2024-09-16T13:33:09.631+0000",
         null,
         null,
         {},
         {
          "x-opt-sequence-number-epoch": "-1"
         }
        ],
        [
         "ewogICJpZCI6IDYsCiAgImFjY291bnRfaWQiOiA4NDU5NDMsCiAgImxpbWl0IjogNjk5MiwKICAicHJvZHVjdHMiOiBbCiAgICAiRGVyaXZhdGl2ZXMiLAogICAgIkludmVzdG1lbnRTdG9jayIKICBdLAogICJ1c2VybmFtZSI= (truncated)",
         "0",
         "121896",
         131,
         "2024-09-16T13:30:38.611+0000",
         null,
         null,
         {},
         {
          "x-opt-sequence-number-epoch": "-1"
         }
        ],
        [
         "ewogICJpZCI6IDEsCiAgImFjY291bnRfaWQiOiA3OTgxOTEsCiAgImxpbWl0IjogNTkzMSwKICAicHJvZHVjdHMiOiBbCiAgICAiRGVyaXZhdGl2ZXMiLAogICAgIkludmVzdG1lbnRTdG9jayIKICBdLAogICJ1c2VybmFtZSI= (truncated)",
         "0",
         "113232",
         126,
         "2024-09-16T13:29:47.579+0000",
         null,
         null,
         {},
         {
          "x-opt-sequence-number-epoch": "-1"
         }
        ],
        [
         "ewogICJpZCI6IDE1LAogICJhY2NvdW50X2lkIjogNDczODYzLAogICJsaW1pdCI6IDk2MjIsCiAgInByb2R1Y3RzIjogWwogICAgIkRlcml2YXRpdmVzIiwKICAgICJJbnZlc3RtZW50U3RvY2siCiAgXSwKICAidXNlcm5hbWU= (truncated)",
         "0",
         "136568",
         140,
         "2024-09-16T13:32:09.270+0000",
         null,
         null,
         {},
         {
          "x-opt-sequence-number-epoch": "-1"
         }
        ],
        [
         "ewogICJpZCI6IDE4LAogICJhY2NvdW50X2lkIjogODc3NTMyLAogICJsaW1pdCI6IDk5ODQsCiAgInByb2R1Y3RzIjogWwogICAgIkRlcml2YXRpdmVzIiwKICAgICJJbnZlc3RtZW50U3RvY2siCiAgXSwKICAidXNlcm5hbWU= (truncated)",
         "0",
         "142032",
         143,
         "2024-09-16T13:32:39.443+0000",
         null,
         null,
         {},
         {
          "x-opt-sequence-number-epoch": "-1"
         }
        ],
        [
         "ewogICJpZCI6IDEwLAogICJhY2NvdW50X2lkIjogNzEwNzYxLAogICJsaW1pdCI6IDU3NzYsCiAgInByb2R1Y3RzIjogWwogICAgIkRlcml2YXRpdmVzIiwKICAgICJJbnZlc3RtZW50U3RvY2siCiAgXSwKICAidXNlcm5hbWU= (truncated)",
         "0",
         "128352",
         135,
         "2024-09-16T13:31:18.894+0000",
         null,
         null,
         {},
         {
          "x-opt-sequence-number-epoch": "-1"
         }
        ],
        [
         "ewogICJpZCI6IDE5LAogICJhY2NvdW50X2lkIjogNDU4NDkxLAogICJsaW1pdCI6IDY5NDQsCiAgInByb2R1Y3RzIjogWwogICAgIkRlcml2YXRpdmVzIiwKICAgICJJbnZlc3RtZW50U3RvY2siCiAgXSwKICAidXNlcm5hbWU= (truncated)",
         "0",
         "144016",
         144,
         "2024-09-16T13:32:49.521+0000",
         null,
         null,
         {},
         {
          "x-opt-sequence-number-epoch": "-1"
         }
        ],
        [
         "ewogICJpZCI6IDE3LAogICJhY2NvdW50X2lkIjogNTY0NjEwLAogICJsaW1pdCI6IDc5MDYsCiAgInByb2R1Y3RzIjogWwogICAgIkRlcml2YXRpdmVzIiwKICAgICJJbnZlc3RtZW50U3RvY2siCiAgXSwKICAidXNlcm5hbWU= (truncated)",
         "0",
         "140048",
         142,
         "2024-09-16T13:32:29.380+0000",
         null,
         null,
         {},
         {
          "x-opt-sequence-number-epoch": "-1"
         }
        ],
        [
         "ewogICJpZCI6IDExLAogICJhY2NvdW50X2lkIjogNTE2OTIxLAogICJsaW1pdCI6IDYyOTMsCiAgInByb2R1Y3RzIjogWwogICAgIkRlcml2YXRpdmVzIiwKICAgICJJbnZlc3RtZW50U3RvY2siCiAgXSwKICAidXNlcm5hbWU= (truncated)",
         "0",
         "130336",
         136,
         "2024-09-16T13:31:28.973+0000",
         null,
         null,
         {},
         {
          "x-opt-sequence-number-epoch": "-1"
         }
        ],
        [
         "ewogICJpZCI6IDgsCiAgImFjY291bnRfaWQiOiAzNzk5NzksCiAgImxpbWl0IjogNjUxOSwKICAicHJvZHVjdHMiOiBbCiAgICAiRGVyaXZhdGl2ZXMiLAogICAgIkludmVzdG1lbnRTdG9jayIKICBdLAogICJ1c2VybmFtZSI= (truncated)",
         "0",
         "125368",
         133,
         "2024-09-16T13:30:58.737+0000",
         null,
         null,
         {},
         {
          "x-opt-sequence-number-epoch": "-1"
         }
        ],
        [
         "ewogICJpZCI6IDEzLAogICJhY2NvdW50X2lkIjogNjk3Nzg1LAogICJsaW1pdCI6IDcyNDQsCiAgInByb2R1Y3RzIjogWwogICAgIkRlcml2YXRpdmVzIiwKICAgICJJbnZlc3RtZW50U3RvY2siCiAgXSwKICAidXNlcm5hbWU= (truncated)",
         "0",
         "133576",
         138,
         "2024-09-16T13:31:49.098+0000",
         null,
         null,
         {},
         {
          "x-opt-sequence-number-epoch": "-1"
         }
        ],
        [
         "ewogICJpZCI6IDIwLAogICJhY2NvdW50X2lkIjogNzE1ODQzLAogICJsaW1pdCI6IDYyMTksCiAgInByb2R1Y3RzIjogWwogICAgIkRlcml2YXRpdmVzIiwKICAgICJJbnZlc3RtZW50U3RvY2siCiAgXSwKICAidXNlcm5hbWU= (truncated)",
         "0",
         "146000",
         145,
         "2024-09-16T13:32:59.568+0000",
         null,
         null,
         {},
         {
          "x-opt-sequence-number-epoch": "-1"
         }
        ],
        [
         "ewogICJpZCI6IDQsCiAgImFjY291bnRfaWQiOiA5MDA2NTAsCiAgImxpbWl0IjogOTQxMywKICAicHJvZHVjdHMiOiBbCiAgICAiRGVyaXZhdGl2ZXMiLAogICAgIkludmVzdG1lbnRTdG9jayIKICBdLAogICJ1c2VybmFtZSI= (truncated)",
         "0",
         "118184",
         129,
         "2024-09-16T13:30:18.470+0000",
         null,
         null,
         {},
         {
          "x-opt-sequence-number-epoch": "-1"
         }
        ],
        [
         "ewogICJpZCI6IDIsCiAgImFjY291bnRfaWQiOiA3OTg2NjMsCiAgImxpbWl0IjogNTUwOCwKICAicHJvZHVjdHMiOiBbCiAgICAiRGVyaXZhdGl2ZXMiLAogICAgIkludmVzdG1lbnRTdG9jayIKICBdLAogICJ1c2VybmFtZSI= (truncated)",
         "0",
         "115448",
         127,
         "2024-09-16T13:29:57.657+0000",
         null,
         null,
         {},
         {
          "x-opt-sequence-number-epoch": "-1"
         }
        ],
        [
         "ewogICJpZCI6IDcsCiAgImFjY291bnRfaWQiOiA4MTIxODEsCiAgImxpbWl0IjogNTY2OCwKICAicHJvZHVjdHMiOiBbCiAgICAiRGVyaXZhdGl2ZXMiLAogICAgIkludmVzdG1lbnRTdG9jayIKICBdLAogICJ1c2VybmFtZSI= (truncated)",
         "0",
         "124120",
         132,
         "2024-09-16T13:30:48.674+0000",
         null,
         null,
         {},
         {
          "x-opt-sequence-number-epoch": "-1"
         }
        ],
        [
         "ewogICJpZCI6IDEyLAogICJhY2NvdW50X2lkIjogOTQxNDg1LAogICJsaW1pdCI6IDgzNTgsCiAgInByb2R1Y3RzIjogWwogICAgIkRlcml2YXRpdmVzIiwKICAgICJJbnZlc3RtZW50U3RvY2siCiAgXSwKICAidXNlcm5hbWU= (truncated)",
         "0",
         "132320",
         137,
         "2024-09-16T13:31:39.020+0000",
         null,
         null,
         {},
         {
          "x-opt-sequence-number-epoch": "-1"
         }
        ],
        [
         "ewogICJpZCI6IDE2LAogICJhY2NvdW50X2lkIjogMTc0Mzg4LAogICJsaW1pdCI6IDk5NjksCiAgInByb2R1Y3RzIjogWwogICAgIkRlcml2YXRpdmVzIiwKICAgICJJbnZlc3RtZW50U3RvY2siCiAgXSwKICAidXNlcm5hbWU= (truncated)",
         "0",
         "138792",
         141,
         "2024-09-16T13:32:19.333+0000",
         null,
         null,
         {},
         {
          "x-opt-sequence-number-epoch": "-1"
         }
        ],
        [
         "ewogICJpZCI6IDE0LAogICJhY2NvdW50X2lkIjogNDA4NTgxLAogICJsaW1pdCI6IDY0MzQsCiAgInByb2R1Y3RzIjogWwogICAgIkRlcml2YXRpdmVzIiwKICAgICJJbnZlc3RtZW50U3RvY2siCiAgXSwKICAidXNlcm5hbWU= (truncated)",
         "0",
         "135312",
         139,
         "2024-09-16T13:31:59.161+0000",
         null,
         null,
         {},
         {
          "x-opt-sequence-number-epoch": "-1"
         }
        ],
        [
         "ewogICJpZCI6IDMsCiAgImFjY291bnRfaWQiOiA4MTAxOTUsCiAgImxpbWl0IjogOTU0MSwKICAicHJvZHVjdHMiOiBbCiAgICAiRGVyaXZhdGl2ZXMiLAogICAgIkludmVzdG1lbnRTdG9jayIKICBdLAogICJ1c2VybmFtZSI= (truncated)",
         "0",
         "116936",
         128,
         "2024-09-16T13:30:07.736+0000",
         null,
         null,
         {},
         {
          "x-opt-sequence-number-epoch": "-1"
         }
        ],
        [
         "ewogICJpZCI6IDksCiAgImFjY291bnRfaWQiOiAyOTMwNDcsCiAgImxpbWl0IjogODI2OCwKICAicHJvZHVjdHMiOiBbCiAgICAiRGVyaXZhdGl2ZXMiLAogICAgIkludmVzdG1lbnRTdG9jayIKICBdLAogICJ1c2VybmFtZSI= (truncated)",
         "0",
         "127104",
         134,
         "2024-09-16T13:31:08.831+0000",
         null,
         null,
         {},
         {
          "x-opt-sequence-number-epoch": "-1"
         }
        ]
       ],
       "datasetInfos": [],
       "dbfsResultPath": null,
       "isJsonSchema": true,
       "metadata": {},
       "overflow": false,
       "plotOptions": {
        "customPlotOptions": {},
        "displayType": "table",
        "pivotAggregation": null,
        "pivotColumns": null,
        "xColumns": null,
        "yColumns": null
       },
       "removedWidgets": [],
       "schema": [
        {
         "metadata": "{}",
         "name": "body",
         "type": "\"binary\""
        },
        {
         "metadata": "{}",
         "name": "partition",
         "type": "\"string\""
        },
        {
         "metadata": "{}",
         "name": "offset",
         "type": "\"string\""
        },
        {
         "metadata": "{}",
         "name": "sequenceNumber",
         "type": "\"long\""
        },
        {
         "metadata": "{}",
         "name": "enqueuedTime",
         "type": "\"timestamp\""
        },
        {
         "metadata": "{}",
         "name": "publisher",
         "type": "\"string\""
        },
        {
         "metadata": "{}",
         "name": "partitionKey",
         "type": "\"string\""
        },
        {
         "metadata": "{}",
         "name": "properties",
         "type": "{\"type\":\"map\",\"keyType\":\"string\",\"valueType\":\"string\",\"valueContainsNull\":true}"
        },
        {
         "metadata": "{}",
         "name": "systemProperties",
         "type": "{\"type\":\"map\",\"keyType\":\"string\",\"valueType\":\"string\",\"valueContainsNull\":true}"
        }
       ],
       "type": "table"
      }
     },
     "output_type": "display_data"
    }
   ],
   "source": [
    "%sql\n",
    "select * from hive_metastore.transaction_bronze.data;"
   ]
  },
  {
   "cell_type": "markdown",
   "metadata": {
    "application/vnd.databricks.v1+cell": {
     "cellMetadata": {
      "byteLimit": 2048000,
      "rowLimit": 10000
     },
     "inputWidgets": {},
     "nuid": "dbee364e-6b7e-420f-8b98-8a12d663d880",
     "showTitle": false,
     "title": ""
    }
   },
   "source": [
    "#### Silver Layer"
   ]
  },
  {
   "cell_type": "code",
   "execution_count": 0,
   "metadata": {
    "application/vnd.databricks.v1+cell": {
     "cellMetadata": {
      "byteLimit": 2048000,
      "rowLimit": 10000
     },
     "inputWidgets": {},
     "nuid": "4b661190-f917-448b-9093-1017dde3bb25",
     "showTitle": false,
     "title": ""
    }
   },
   "outputs": [],
   "source": [
    "json_schema = StructType([\n",
    "    StructField(\"id\", IntegerType(), nullable=False),\n",
    "    StructField(\"account_id\", IntegerType(), nullable=False),\n",
    "    StructField(\"limit\", IntegerType(), nullable=False),\n",
    "    StructField(\"products\", ArrayType(StringType()), nullable=False),\n",
    "    StructField(\"username\", StringType(), nullable=False),\n",
    "    StructField(\"name\", StringType(), nullable=False),\n",
    "    StructField(\"address\", StringType(), nullable=False),\n",
    "    StructField(\"birthdate\", StructType([\n",
    "        StructField(\"$date\", TimestampType(), nullable=False)\n",
    "    ]), nullable=False),\n",
    "    StructField(\"email\", StringType(), nullable=False),\n",
    "    StructField(\"active\", BooleanType(), nullable=False),\n",
    "    StructField(\"tier_and_details\", StructType([\n",
    "        StructField(\"k\", StructType([\n",
    "            StructField(\"tier\", StringType(), nullable=False),\n",
    "            StructField(\"id\", StringType(), nullable=False),\n",
    "            StructField(\"active\", BooleanType(), nullable=False),\n",
    "            StructField(\"benefits\", ArrayType(StringType()), nullable=False)\n",
    "        ]), nullable=False),\n",
    "        StructField(\"v\", StructType([\n",
    "            StructField(\"tier\", StringType(), nullable=False),\n",
    "            StructField(\"benefits\", ArrayType(StringType()), nullable=False),\n",
    "            StructField(\"active\", BooleanType(), nullable=False),\n",
    "            StructField(\"id\", StringType(), nullable=False)\n",
    "        ]), nullable=False)\n",
    "    ]), nullable=False),\n",
    "    StructField(\"transaction_count\", IntegerType(), nullable=False),\n",
    "    StructField(\"bucket_start_date\", StructType([\n",
    "        StructField(\"$date\", StructType([\n",
    "            StructField(\"$numberLong\", StringType(), nullable=False)\n",
    "        ]), nullable=False)\n",
    "    ]), nullable=False),\n",
    "    StructField(\"bucket_end_date\", StructType([\n",
    "        StructField(\"$date\", TimestampType(), nullable=False)\n",
    "    ]), nullable=False),\n",
    "    StructField(\"transactions\", ArrayType(StructType([\n",
    "        StructField(\"date\", StructType([\n",
    "            StructField(\"$date\", TimestampType(), nullable=False)\n",
    "        ]), nullable=False),\n",
    "        StructField(\"amount\", IntegerType(), nullable=False),\n",
    "        StructField(\"transaction_code\", StringType(), nullable=False),\n",
    "        StructField(\"symbol\", StringType(), nullable=False),\n",
    "        StructField(\"price\", StringType(), nullable=False),\n",
    "        StructField(\"total\", StringType(), nullable=False)\n",
    "    ])), nullable=False)\n",
    "])\n"
   ]
  },
  {
   "cell_type": "code",
   "execution_count": 0,
   "metadata": {
    "application/vnd.databricks.v1+cell": {
     "cellMetadata": {
      "byteLimit": 2048000,
      "rowLimit": 10000
     },
     "inputWidgets": {},
     "nuid": "51b0cac0-fe2d-4147-abe4-499663ca8be7",
     "showTitle": false,
     "title": ""
    }
   },
   "outputs": [
    {
     "data": {
      "text/html": [
       "<style scoped>\n",
       "  .table-result-container {\n",
       "    max-height: 300px;\n",
       "    overflow: auto;\n",
       "  }\n",
       "  table, th, td {\n",
       "    border: 1px solid black;\n",
       "    border-collapse: collapse;\n",
       "  }\n",
       "  th, td {\n",
       "    padding: 5px;\n",
       "  }\n",
       "  th {\n",
       "    text-align: left;\n",
       "  }\n",
       "</style><div class='table-result-container'><table class='table-result'><thead style='background-color: white'><tr><th>id</th><th>account_id</th><th>limit</th><th>products</th><th>username</th><th>name</th><th>address</th><th>email</th><th>active</th><th>tier_and_details</th><th>transaction_count</th><th>transactions</th><th>timestamp</th></tr></thead><tbody><tr><td>15</td><td>473863</td><td>9622</td><td>List(Derivatives, InvestmentStock)</td><td>user15</td><td>Name 15</td><td>6722 Address Street\n",
       "City, State 33476</td><td>user15@example.com</td><td>false</td><td>List(List(Bronze, 0df078f33aa74a2e9696e0520c1a828a, true, List(sports tickets)), List(Bronze, List(24 hour dedicated line, concierge services), true, 699456451cc24f028d2aa99d7534c219))</td><td>7</td><td>List(List(List(2003-09-09T00:00:00.000+0000), 3058, buy, team, 94.92990915764075054994, 39271.06056210178940091282), List(List(2003-09-09T00:00:00.000+0000), 3729, buy, team, 40.09606082306888197309, 94347.79102649514970835298), List(List(2003-09-09T00:00:00.000+0000), 2052, buy, sap, 91.62696617269710941400, 127792.19104422286909539253), List(List(2003-09-09T00:00:00.000+0000), 9294, buy, team, 28.39682024364125112470, 103273.58555422241624910384), List(List(2003-09-09T00:00:00.000+0000), 2776, buy, sap, 97.79604460741522586886, 169544.67132019362179562449))</td><td>2024-09-16 13:32:09</td></tr><tr><td>8</td><td>379979</td><td>6519</td><td>List(Derivatives, InvestmentStock)</td><td>user8</td><td>Name 8</td><td>4305 Address Street\n",
       "City, State 46006</td><td>user8@example.com</td><td>true</td><td>List(List(Bronze, 0df078f33aa74a2e9696e0520c1a828a, true, List(sports tickets)), List(Bronze, List(24 hour dedicated line, concierge services), true, 699456451cc24f028d2aa99d7534c219))</td><td>5</td><td>List(List(List(2003-09-09T00:00:00.000+0000), 8267, sell, adbe, 84.98809880472580857713, 172426.69711941917194053531), List(List(2003-09-09T00:00:00.000+0000), 2842, sell, msft, 69.80658334170290402199, 190126.52434571276535280049), List(List(2003-09-09T00:00:00.000+0000), 8113, buy, team, 16.79973890245459955395, 66047.92688901611836627126))</td><td>2024-09-16 13:30:58</td></tr><tr><td>4</td><td>900650</td><td>9413</td><td>List(Derivatives, InvestmentStock)</td><td>user4</td><td>Name 4</td><td>2361 Address Street\n",
       "City, State 43351</td><td>user4@example.com</td><td>false</td><td>List(List(Bronze, 0df078f33aa74a2e9696e0520c1a828a, true, List(sports tickets)), List(Bronze, List(24 hour dedicated line, concierge services), true, 699456451cc24f028d2aa99d7534c219))</td><td>4</td><td>List(List(List(2003-09-09T00:00:00.000+0000), 1201, buy, adbe, 36.75711471553837839110, 78799.85879699424549471587), List(List(2003-09-09T00:00:00.000+0000), 9869, buy, team, 15.86729073710625570470, 13496.01666612100052589085))</td><td>2024-09-16 13:30:18</td></tr><tr><td>9</td><td>293047</td><td>8268</td><td>List(Derivatives, InvestmentStock)</td><td>user9</td><td>Name 9</td><td>8430 Address Street\n",
       "City, State 45065</td><td>user9@example.com</td><td>true</td><td>List(List(Bronze, 0df078f33aa74a2e9696e0520c1a828a, true, List(sports tickets)), List(Bronze, List(24 hour dedicated line, concierge services), true, 699456451cc24f028d2aa99d7534c219))</td><td>6</td><td>List(List(List(2003-09-09T00:00:00.000+0000), 5468, sell, sap, 76.54828905931904614590, 144298.99710163468262180686))</td><td>2024-09-16 13:31:08</td></tr><tr><td>21</td><td>804724</td><td>5697</td><td>List(Derivatives, InvestmentStock)</td><td>user21</td><td>Name 21</td><td>6564 Address Street\n",
       "City, State 83379</td><td>user21@example.com</td><td>false</td><td>List(List(Bronze, 0df078f33aa74a2e9696e0520c1a828a, true, List(sports tickets)), List(Bronze, List(24 hour dedicated line, concierge services), true, 699456451cc24f028d2aa99d7534c219))</td><td>2</td><td>List(List(List(2003-09-09T00:00:00.000+0000), 6199, sell, msft, 48.26088209436716880418, 181127.84389156341785565019), List(List(2003-09-09T00:00:00.000+0000), 7423, buy, sap, 19.29748079947471950391, 178000.19925047864671796560), List(List(2003-09-09T00:00:00.000+0000), 8745, buy, team, 14.32387467785918566676, 113572.06376228570297826082), List(List(2003-09-09T00:00:00.000+0000), 7727, buy, sap, 24.36184020644299863534, 19068.09101134972297586501), List(List(2003-09-09T00:00:00.000+0000), 2809, sell, msft, 51.99043277729765577533, 149939.17137468361761420965))</td><td>2024-09-16 14:12:39</td></tr><tr><td>17</td><td>564610</td><td>7906</td><td>List(Derivatives, InvestmentStock)</td><td>user17</td><td>Name 17</td><td>7308 Address Street\n",
       "City, State 76910</td><td>user17@example.com</td><td>false</td><td>List(List(Bronze, 0df078f33aa74a2e9696e0520c1a828a, true, List(sports tickets)), List(Bronze, List(24 hour dedicated line, concierge services), true, 699456451cc24f028d2aa99d7534c219))</td><td>2</td><td>List(List(List(2003-09-09T00:00:00.000+0000), 1144, buy, sap, 58.84318210510243574163, 172876.57626284728758037090), List(List(2003-09-09T00:00:00.000+0000), 5036, sell, msft, 12.72993662551035320973, 142237.54796342787449248135), List(List(2003-09-09T00:00:00.000+0000), 8902, sell, msft, 59.97696351403897097043, 146939.41589117734110914171), List(List(2003-09-09T00:00:00.000+0000), 9093, buy, sap, 18.29094576213286416078, 182711.17060213070362806320))</td><td>2024-09-16 13:32:29</td></tr><tr><td>13</td><td>697785</td><td>7244</td><td>List(Derivatives, InvestmentStock)</td><td>user13</td><td>Name 13</td><td>7467 Address Street\n",
       "City, State 12462</td><td>user13@example.com</td><td>true</td><td>List(List(Bronze, 0df078f33aa74a2e9696e0520c1a828a, true, List(sports tickets)), List(Bronze, List(24 hour dedicated line, concierge services), true, 699456451cc24f028d2aa99d7534c219))</td><td>4</td><td>List(List(List(2003-09-09T00:00:00.000+0000), 1759, buy, adbe, 54.64340870302773822687, 97818.69475430114835035056), List(List(2003-09-09T00:00:00.000+0000), 7317, sell, team, 92.18402912371045943019, 155031.63420887131360359490), List(List(2003-09-09T00:00:00.000+0000), 3939, buy, adbe, 47.54763000709779419140, 67372.07298207332496531308))</td><td>2024-09-16 13:31:49</td></tr><tr><td>1</td><td>798191</td><td>5931</td><td>List(Derivatives, InvestmentStock)</td><td>user1</td><td>Name 1</td><td>2099 Address Street\n",
       "City, State 55999</td><td>user1@example.com</td><td>true</td><td>List(List(Bronze, 0df078f33aa74a2e9696e0520c1a828a, true, List(sports tickets)), List(Bronze, List(24 hour dedicated line, concierge services), true, 699456451cc24f028d2aa99d7534c219))</td><td>8</td><td>List(List(List(2003-09-09T00:00:00.000+0000), 7404, sell, team, 67.39343185165978411533, 92230.20812429944635368884), List(List(2003-09-09T00:00:00.000+0000), 5216, buy, team, 76.48759131427019042349, 93798.99476713409239891917), List(List(2003-09-09T00:00:00.000+0000), 6566, buy, adbe, 99.73360645248541800356, 88047.55063490899919997901), List(List(2003-09-09T00:00:00.000+0000), 3289, buy, team, 23.36562804215271071939, 142731.80317382083740085363), List(List(2003-09-09T00:00:00.000+0000), 6545, sell, team, 28.13161106962397539633, 176885.15399949109996668994))</td><td>2024-09-16 13:29:47</td></tr><tr><td>11</td><td>516921</td><td>6293</td><td>List(Derivatives, InvestmentStock)</td><td>user11</td><td>Name 11</td><td>4428 Address Street\n",
       "City, State 13424</td><td>user11@example.com</td><td>true</td><td>List(List(Bronze, 0df078f33aa74a2e9696e0520c1a828a, true, List(sports tickets)), List(Bronze, List(24 hour dedicated line, concierge services), true, 699456451cc24f028d2aa99d7534c219))</td><td>6</td><td>List(List(List(2003-09-09T00:00:00.000+0000), 4428, buy, sap, 57.35156052356850153728, 78342.15896420380158815533), List(List(2003-09-09T00:00:00.000+0000), 4111, sell, adbe, 83.70465232504771790900, 77930.42290560470428317785), List(List(2003-09-09T00:00:00.000+0000), 3074, buy, msft, 82.77305815554666423850, 17877.05580443565850146115), List(List(2003-09-09T00:00:00.000+0000), 5530, buy, sap, 42.90294413394516226390, 153321.79268067853990942240))</td><td>2024-09-16 13:31:28</td></tr><tr><td>12</td><td>941485</td><td>8358</td><td>List(Derivatives, InvestmentStock)</td><td>user12</td><td>Name 12</td><td>8924 Address Street\n",
       "City, State 93815</td><td>user12@example.com</td><td>true</td><td>List(List(Bronze, 0df078f33aa74a2e9696e0520c1a828a, true, List(sports tickets)), List(Bronze, List(24 hour dedicated line, concierge services), true, 699456451cc24f028d2aa99d7534c219))</td><td>4</td><td>List(List(List(2003-09-09T00:00:00.000+0000), 6170, sell, adbe, 50.66012834959665411816, 43951.32860177059046691284))</td><td>2024-09-16 13:31:39</td></tr><tr><td>7</td><td>812181</td><td>5668</td><td>List(Derivatives, InvestmentStock)</td><td>user7</td><td>Name 7</td><td>4701 Address Street\n",
       "City, State 54110</td><td>user7@example.com</td><td>true</td><td>List(List(Bronze, 0df078f33aa74a2e9696e0520c1a828a, true, List(sports tickets)), List(Bronze, List(24 hour dedicated line, concierge services), true, 699456451cc24f028d2aa99d7534c219))</td><td>4</td><td>List(List(List(2003-09-09T00:00:00.000+0000), 1860, sell, msft, 69.21162298191629247412, 58382.94378920970484614372))</td><td>2024-09-16 13:30:48</td></tr><tr><td>5</td><td>211739</td><td>7583</td><td>List(Derivatives, InvestmentStock)</td><td>user5</td><td>Name 5</td><td>8170 Address Street\n",
       "City, State 32921</td><td>user5@example.com</td><td>false</td><td>List(List(Bronze, 0df078f33aa74a2e9696e0520c1a828a, true, List(sports tickets)), List(Bronze, List(24 hour dedicated line, concierge services), true, 699456451cc24f028d2aa99d7534c219))</td><td>6</td><td>List(List(List(2003-09-09T00:00:00.000+0000), 1425, buy, sap, 48.52458294194532584243, 92572.21255958301480859518), List(List(2003-09-09T00:00:00.000+0000), 7072, buy, sap, 28.98272119167030780318, 184030.84967120792134664953), List(List(2003-09-09T00:00:00.000+0000), 6312, sell, team, 35.95916458774187418612, 41551.95826562136062420905), List(List(2003-09-09T00:00:00.000+0000), 9122, buy, msft, 12.70733190885479757526, 170414.62674026424065232277), List(List(2003-09-09T00:00:00.000+0000), 3704, buy, msft, 55.62482129284066445507, 49991.85292328327341238037))</td><td>2024-09-16 13:30:28</td></tr><tr><td>6</td><td>845943</td><td>6992</td><td>List(Derivatives, InvestmentStock)</td><td>user6</td><td>Name 6</td><td>6514 Address Street\n",
       "City, State 11296</td><td>user6@example.com</td><td>true</td><td>List(List(Bronze, 0df078f33aa74a2e9696e0520c1a828a, true, List(sports tickets)), List(Bronze, List(24 hour dedicated line, concierge services), true, 699456451cc24f028d2aa99d7534c219))</td><td>3</td><td>List(List(List(2003-09-09T00:00:00.000+0000), 4188, sell, team, 44.87538931088390370405, 60401.34004630072013242170), List(List(2003-09-09T00:00:00.000+0000), 4784, buy, adbe, 72.04733853726558834296, 112642.07904558011796325445), List(List(2003-09-09T00:00:00.000+0000), 3828, buy, adbe, 31.88567534909782352770, 152682.17050128529081121087), List(List(2003-09-09T00:00:00.000+0000), 7189, buy, sap, 22.78103137525743093761, 89212.35896326042711734772), List(List(2003-09-09T00:00:00.000+0000), 8987, sell, adbe, 75.79944228940667017014, 117228.76377883396344259381))</td><td>2024-09-16 13:30:38</td></tr><tr><td>18</td><td>877532</td><td>9984</td><td>List(Derivatives, InvestmentStock)</td><td>user18</td><td>Name 18</td><td>5782 Address Street\n",
       "City, State 47751</td><td>user18@example.com</td><td>false</td><td>List(List(Bronze, 0df078f33aa74a2e9696e0520c1a828a, true, List(sports tickets)), List(Bronze, List(24 hour dedicated line, concierge services), true, 699456451cc24f028d2aa99d7534c219))</td><td>9</td><td>List(List(List(2003-09-09T00:00:00.000+0000), 5341, sell, sap, 93.81343328235620049327, 121714.11552648528595454991), List(List(2003-09-09T00:00:00.000+0000), 1321, sell, adbe, 95.47842222945921264454, 66168.88068556306825485080), List(List(2003-09-09T00:00:00.000+0000), 5869, buy, msft, 26.31341895918690809708, 74415.00310081487987190485), List(List(2003-09-09T00:00:00.000+0000), 1025, buy, adbe, 47.21250003755582014264, 16923.71099668611714150757))</td><td>2024-09-16 13:32:39</td></tr><tr><td>19</td><td>458491</td><td>6944</td><td>List(Derivatives, InvestmentStock)</td><td>user19</td><td>Name 19</td><td>1769 Address Street\n",
       "City, State 33793</td><td>user19@example.com</td><td>true</td><td>List(List(Bronze, 0df078f33aa74a2e9696e0520c1a828a, true, List(sports tickets)), List(Bronze, List(24 hour dedicated line, concierge services), true, 699456451cc24f028d2aa99d7534c219))</td><td>9</td><td>List(List(List(2003-09-09T00:00:00.000+0000), 6444, sell, msft, 60.01504508236588009140, 97939.96834752277936786413), List(List(2003-09-09T00:00:00.000+0000), 1592, buy, msft, 20.42555761326530472388, 50436.44210143076634267345), List(List(2003-09-09T00:00:00.000+0000), 8830, sell, adbe, 73.41813420886924745901, 79578.50021041551372036338), List(List(2003-09-09T00:00:00.000+0000), 3109, sell, sap, 77.12693861350744839456, 38653.50147456035483628511))</td><td>2024-09-16 13:32:49</td></tr><tr><td>14</td><td>408581</td><td>6434</td><td>List(Derivatives, InvestmentStock)</td><td>user14</td><td>Name 14</td><td>2488 Address Street\n",
       "City, State 82492</td><td>user14@example.com</td><td>true</td><td>List(List(Bronze, 0df078f33aa74a2e9696e0520c1a828a, true, List(sports tickets)), List(Bronze, List(24 hour dedicated line, concierge services), true, 699456451cc24f028d2aa99d7534c219))</td><td>1</td><td>List(List(List(2003-09-09T00:00:00.000+0000), 5083, buy, msft, 59.83689844673048696677, 112308.40918843276449479163))</td><td>2024-09-16 13:31:59</td></tr><tr><td>2</td><td>798663</td><td>5508</td><td>List(Derivatives, InvestmentStock)</td><td>user2</td><td>Name 2</td><td>2446 Address Street\n",
       "City, State 60347</td><td>user2@example.com</td><td>false</td><td>List(List(Bronze, 0df078f33aa74a2e9696e0520c1a828a, true, List(sports tickets)), List(Bronze, List(24 hour dedicated line, concierge services), true, 699456451cc24f028d2aa99d7534c219))</td><td>4</td><td>List(List(List(2003-09-09T00:00:00.000+0000), 1806, buy, sap, 32.26220927294741613878, 177784.84620206980616785586), List(List(2003-09-09T00:00:00.000+0000), 9511, buy, sap, 61.20478161757444013347, 146343.89646978591918013990))</td><td>2024-09-16 13:29:57</td></tr><tr><td>16</td><td>174388</td><td>9969</td><td>List(Derivatives, InvestmentStock)</td><td>user16</td><td>Name 16</td><td>3488 Address Street\n",
       "City, State 74239</td><td>user16@example.com</td><td>false</td><td>List(List(Bronze, 0df078f33aa74a2e9696e0520c1a828a, true, List(sports tickets)), List(Bronze, List(24 hour dedicated line, concierge services), true, 699456451cc24f028d2aa99d7534c219))</td><td>10</td><td>List(List(List(2003-09-09T00:00:00.000+0000), 7557, sell, sap, 38.23946785946582593851, 45847.95631305879942374304))</td><td>2024-09-16 13:32:19</td></tr><tr><td>10</td><td>710761</td><td>5776</td><td>List(Derivatives, InvestmentStock)</td><td>user10</td><td>Name 10</td><td>6215 Address Street\n",
       "City, State 79411</td><td>user10@example.com</td><td>true</td><td>List(List(Bronze, 0df078f33aa74a2e9696e0520c1a828a, true, List(sports tickets)), List(Bronze, List(24 hour dedicated line, concierge services), true, 699456451cc24f028d2aa99d7534c219))</td><td>1</td><td>List(List(List(2003-09-09T00:00:00.000+0000), 4598, buy, msft, 97.00275717188829105453, 94811.95149820616643410176), List(List(2003-09-09T00:00:00.000+0000), 6105, sell, adbe, 50.12500512761091187031, 61504.83098080223862780258), List(List(2003-09-09T00:00:00.000+0000), 8676, buy, msft, 39.80476075102464506017, 42921.32684952760610030964), List(List(2003-09-09T00:00:00.000+0000), 6497, buy, sap, 33.78021434804605860336, 39877.70800312092615058646))</td><td>2024-09-16 13:31:18</td></tr><tr><td>3</td><td>810195</td><td>9541</td><td>List(Derivatives, InvestmentStock)</td><td>user3</td><td>Name 3</td><td>4179 Address Street\n",
       "City, State 12097</td><td>user3@example.com</td><td>false</td><td>List(List(Bronze, 0df078f33aa74a2e9696e0520c1a828a, true, List(sports tickets)), List(Bronze, List(24 hour dedicated line, concierge services), true, 699456451cc24f028d2aa99d7534c219))</td><td>5</td><td>List(List(List(2003-09-09T00:00:00.000+0000), 8876, buy, msft, 95.85359629821800808713, 21077.12627738101582508534))</td><td>2024-09-16 13:30:07</td></tr><tr><td>20</td><td>715843</td><td>6219</td><td>List(Derivatives, InvestmentStock)</td><td>user20</td><td>Name 20</td><td>9638 Address Street\n",
       "City, State 97940</td><td>user20@example.com</td><td>true</td><td>List(List(Bronze, 0df078f33aa74a2e9696e0520c1a828a, true, List(sports tickets)), List(Bronze, List(24 hour dedicated line, concierge services), true, 699456451cc24f028d2aa99d7534c219))</td><td>9</td><td>List(List(List(2003-09-09T00:00:00.000+0000), 7953, buy, team, 78.52598793588322223513, 67275.42819512059213593602), List(List(2003-09-09T00:00:00.000+0000), 3918, buy, msft, 70.83468699291989878475, 118635.57435199010069482028), List(List(2003-09-09T00:00:00.000+0000), 1254, buy, msft, 59.93730484331764785111, 86228.51616160180128645152))</td><td>2024-09-16 13:32:59</td></tr></tbody></table></div>"
      ]
     },
     "metadata": {
      "application/vnd.databricks.v1+output": {
       "addedWidgets": {},
       "aggData": [],
       "aggError": "",
       "aggOverflow": false,
       "aggSchema": [],
       "aggSeriesLimitReached": false,
       "aggType": "",
       "arguments": {},
       "columnCustomDisplayInfos": {},
       "data": [
        [
         15,
         473863,
         9622,
         [
          "Derivatives",
          "InvestmentStock"
         ],
         "user15",
         "Name 15",
         "6722 Address Street\nCity, State 33476",
         "user15@example.com",
         false,
         [
          [
           "Bronze",
           "0df078f33aa74a2e9696e0520c1a828a",
           true,
           [
            "sports tickets"
           ]
          ],
          [
           "Bronze",
           [
            "24 hour dedicated line",
            "concierge services"
           ],
           true,
           "699456451cc24f028d2aa99d7534c219"
          ]
         ],
         7,
         [
          [
           [
            "2003-09-09T00:00:00.000+0000"
           ],
           3058,
           "buy",
           "team",
           "94.92990915764075054994",
           "39271.06056210178940091282"
          ],
          [
           [
            "2003-09-09T00:00:00.000+0000"
           ],
           3729,
           "buy",
           "team",
           "40.09606082306888197309",
           "94347.79102649514970835298"
          ],
          [
           [
            "2003-09-09T00:00:00.000+0000"
           ],
           2052,
           "buy",
           "sap",
           "91.62696617269710941400",
           "127792.19104422286909539253"
          ],
          [
           [
            "2003-09-09T00:00:00.000+0000"
           ],
           9294,
           "buy",
           "team",
           "28.39682024364125112470",
           "103273.58555422241624910384"
          ],
          [
           [
            "2003-09-09T00:00:00.000+0000"
           ],
           2776,
           "buy",
           "sap",
           "97.79604460741522586886",
           "169544.67132019362179562449"
          ]
         ],
         "2024-09-16 13:32:09"
        ],
        [
         8,
         379979,
         6519,
         [
          "Derivatives",
          "InvestmentStock"
         ],
         "user8",
         "Name 8",
         "4305 Address Street\nCity, State 46006",
         "user8@example.com",
         true,
         [
          [
           "Bronze",
           "0df078f33aa74a2e9696e0520c1a828a",
           true,
           [
            "sports tickets"
           ]
          ],
          [
           "Bronze",
           [
            "24 hour dedicated line",
            "concierge services"
           ],
           true,
           "699456451cc24f028d2aa99d7534c219"
          ]
         ],
         5,
         [
          [
           [
            "2003-09-09T00:00:00.000+0000"
           ],
           8267,
           "sell",
           "adbe",
           "84.98809880472580857713",
           "172426.69711941917194053531"
          ],
          [
           [
            "2003-09-09T00:00:00.000+0000"
           ],
           2842,
           "sell",
           "msft",
           "69.80658334170290402199",
           "190126.52434571276535280049"
          ],
          [
           [
            "2003-09-09T00:00:00.000+0000"
           ],
           8113,
           "buy",
           "team",
           "16.79973890245459955395",
           "66047.92688901611836627126"
          ]
         ],
         "2024-09-16 13:30:58"
        ],
        [
         4,
         900650,
         9413,
         [
          "Derivatives",
          "InvestmentStock"
         ],
         "user4",
         "Name 4",
         "2361 Address Street\nCity, State 43351",
         "user4@example.com",
         false,
         [
          [
           "Bronze",
           "0df078f33aa74a2e9696e0520c1a828a",
           true,
           [
            "sports tickets"
           ]
          ],
          [
           "Bronze",
           [
            "24 hour dedicated line",
            "concierge services"
           ],
           true,
           "699456451cc24f028d2aa99d7534c219"
          ]
         ],
         4,
         [
          [
           [
            "2003-09-09T00:00:00.000+0000"
           ],
           1201,
           "buy",
           "adbe",
           "36.75711471553837839110",
           "78799.85879699424549471587"
          ],
          [
           [
            "2003-09-09T00:00:00.000+0000"
           ],
           9869,
           "buy",
           "team",
           "15.86729073710625570470",
           "13496.01666612100052589085"
          ]
         ],
         "2024-09-16 13:30:18"
        ],
        [
         9,
         293047,
         8268,
         [
          "Derivatives",
          "InvestmentStock"
         ],
         "user9",
         "Name 9",
         "8430 Address Street\nCity, State 45065",
         "user9@example.com",
         true,
         [
          [
           "Bronze",
           "0df078f33aa74a2e9696e0520c1a828a",
           true,
           [
            "sports tickets"
           ]
          ],
          [
           "Bronze",
           [
            "24 hour dedicated line",
            "concierge services"
           ],
           true,
           "699456451cc24f028d2aa99d7534c219"
          ]
         ],
         6,
         [
          [
           [
            "2003-09-09T00:00:00.000+0000"
           ],
           5468,
           "sell",
           "sap",
           "76.54828905931904614590",
           "144298.99710163468262180686"
          ]
         ],
         "2024-09-16 13:31:08"
        ],
        [
         21,
         804724,
         5697,
         [
          "Derivatives",
          "InvestmentStock"
         ],
         "user21",
         "Name 21",
         "6564 Address Street\nCity, State 83379",
         "user21@example.com",
         false,
         [
          [
           "Bronze",
           "0df078f33aa74a2e9696e0520c1a828a",
           true,
           [
            "sports tickets"
           ]
          ],
          [
           "Bronze",
           [
            "24 hour dedicated line",
            "concierge services"
           ],
           true,
           "699456451cc24f028d2aa99d7534c219"
          ]
         ],
         2,
         [
          [
           [
            "2003-09-09T00:00:00.000+0000"
           ],
           6199,
           "sell",
           "msft",
           "48.26088209436716880418",
           "181127.84389156341785565019"
          ],
          [
           [
            "2003-09-09T00:00:00.000+0000"
           ],
           7423,
           "buy",
           "sap",
           "19.29748079947471950391",
           "178000.19925047864671796560"
          ],
          [
           [
            "2003-09-09T00:00:00.000+0000"
           ],
           8745,
           "buy",
           "team",
           "14.32387467785918566676",
           "113572.06376228570297826082"
          ],
          [
           [
            "2003-09-09T00:00:00.000+0000"
           ],
           7727,
           "buy",
           "sap",
           "24.36184020644299863534",
           "19068.09101134972297586501"
          ],
          [
           [
            "2003-09-09T00:00:00.000+0000"
           ],
           2809,
           "sell",
           "msft",
           "51.99043277729765577533",
           "149939.17137468361761420965"
          ]
         ],
         "2024-09-16 14:12:39"
        ],
        [
         17,
         564610,
         7906,
         [
          "Derivatives",
          "InvestmentStock"
         ],
         "user17",
         "Name 17",
         "7308 Address Street\nCity, State 76910",
         "user17@example.com",
         false,
         [
          [
           "Bronze",
           "0df078f33aa74a2e9696e0520c1a828a",
           true,
           [
            "sports tickets"
           ]
          ],
          [
           "Bronze",
           [
            "24 hour dedicated line",
            "concierge services"
           ],
           true,
           "699456451cc24f028d2aa99d7534c219"
          ]
         ],
         2,
         [
          [
           [
            "2003-09-09T00:00:00.000+0000"
           ],
           1144,
           "buy",
           "sap",
           "58.84318210510243574163",
           "172876.57626284728758037090"
          ],
          [
           [
            "2003-09-09T00:00:00.000+0000"
           ],
           5036,
           "sell",
           "msft",
           "12.72993662551035320973",
           "142237.54796342787449248135"
          ],
          [
           [
            "2003-09-09T00:00:00.000+0000"
           ],
           8902,
           "sell",
           "msft",
           "59.97696351403897097043",
           "146939.41589117734110914171"
          ],
          [
           [
            "2003-09-09T00:00:00.000+0000"
           ],
           9093,
           "buy",
           "sap",
           "18.29094576213286416078",
           "182711.17060213070362806320"
          ]
         ],
         "2024-09-16 13:32:29"
        ],
        [
         13,
         697785,
         7244,
         [
          "Derivatives",
          "InvestmentStock"
         ],
         "user13",
         "Name 13",
         "7467 Address Street\nCity, State 12462",
         "user13@example.com",
         true,
         [
          [
           "Bronze",
           "0df078f33aa74a2e9696e0520c1a828a",
           true,
           [
            "sports tickets"
           ]
          ],
          [
           "Bronze",
           [
            "24 hour dedicated line",
            "concierge services"
           ],
           true,
           "699456451cc24f028d2aa99d7534c219"
          ]
         ],
         4,
         [
          [
           [
            "2003-09-09T00:00:00.000+0000"
           ],
           1759,
           "buy",
           "adbe",
           "54.64340870302773822687",
           "97818.69475430114835035056"
          ],
          [
           [
            "2003-09-09T00:00:00.000+0000"
           ],
           7317,
           "sell",
           "team",
           "92.18402912371045943019",
           "155031.63420887131360359490"
          ],
          [
           [
            "2003-09-09T00:00:00.000+0000"
           ],
           3939,
           "buy",
           "adbe",
           "47.54763000709779419140",
           "67372.07298207332496531308"
          ]
         ],
         "2024-09-16 13:31:49"
        ],
        [
         1,
         798191,
         5931,
         [
          "Derivatives",
          "InvestmentStock"
         ],
         "user1",
         "Name 1",
         "2099 Address Street\nCity, State 55999",
         "user1@example.com",
         true,
         [
          [
           "Bronze",
           "0df078f33aa74a2e9696e0520c1a828a",
           true,
           [
            "sports tickets"
           ]
          ],
          [
           "Bronze",
           [
            "24 hour dedicated line",
            "concierge services"
           ],
           true,
           "699456451cc24f028d2aa99d7534c219"
          ]
         ],
         8,
         [
          [
           [
            "2003-09-09T00:00:00.000+0000"
           ],
           7404,
           "sell",
           "team",
           "67.39343185165978411533",
           "92230.20812429944635368884"
          ],
          [
           [
            "2003-09-09T00:00:00.000+0000"
           ],
           5216,
           "buy",
           "team",
           "76.48759131427019042349",
           "93798.99476713409239891917"
          ],
          [
           [
            "2003-09-09T00:00:00.000+0000"
           ],
           6566,
           "buy",
           "adbe",
           "99.73360645248541800356",
           "88047.55063490899919997901"
          ],
          [
           [
            "2003-09-09T00:00:00.000+0000"
           ],
           3289,
           "buy",
           "team",
           "23.36562804215271071939",
           "142731.80317382083740085363"
          ],
          [
           [
            "2003-09-09T00:00:00.000+0000"
           ],
           6545,
           "sell",
           "team",
           "28.13161106962397539633",
           "176885.15399949109996668994"
          ]
         ],
         "2024-09-16 13:29:47"
        ],
        [
         11,
         516921,
         6293,
         [
          "Derivatives",
          "InvestmentStock"
         ],
         "user11",
         "Name 11",
         "4428 Address Street\nCity, State 13424",
         "user11@example.com",
         true,
         [
          [
           "Bronze",
           "0df078f33aa74a2e9696e0520c1a828a",
           true,
           [
            "sports tickets"
           ]
          ],
          [
           "Bronze",
           [
            "24 hour dedicated line",
            "concierge services"
           ],
           true,
           "699456451cc24f028d2aa99d7534c219"
          ]
         ],
         6,
         [
          [
           [
            "2003-09-09T00:00:00.000+0000"
           ],
           4428,
           "buy",
           "sap",
           "57.35156052356850153728",
           "78342.15896420380158815533"
          ],
          [
           [
            "2003-09-09T00:00:00.000+0000"
           ],
           4111,
           "sell",
           "adbe",
           "83.70465232504771790900",
           "77930.42290560470428317785"
          ],
          [
           [
            "2003-09-09T00:00:00.000+0000"
           ],
           3074,
           "buy",
           "msft",
           "82.77305815554666423850",
           "17877.05580443565850146115"
          ],
          [
           [
            "2003-09-09T00:00:00.000+0000"
           ],
           5530,
           "buy",
           "sap",
           "42.90294413394516226390",
           "153321.79268067853990942240"
          ]
         ],
         "2024-09-16 13:31:28"
        ],
        [
         12,
         941485,
         8358,
         [
          "Derivatives",
          "InvestmentStock"
         ],
         "user12",
         "Name 12",
         "8924 Address Street\nCity, State 93815",
         "user12@example.com",
         true,
         [
          [
           "Bronze",
           "0df078f33aa74a2e9696e0520c1a828a",
           true,
           [
            "sports tickets"
           ]
          ],
          [
           "Bronze",
           [
            "24 hour dedicated line",
            "concierge services"
           ],
           true,
           "699456451cc24f028d2aa99d7534c219"
          ]
         ],
         4,
         [
          [
           [
            "2003-09-09T00:00:00.000+0000"
           ],
           6170,
           "sell",
           "adbe",
           "50.66012834959665411816",
           "43951.32860177059046691284"
          ]
         ],
         "2024-09-16 13:31:39"
        ],
        [
         7,
         812181,
         5668,
         [
          "Derivatives",
          "InvestmentStock"
         ],
         "user7",
         "Name 7",
         "4701 Address Street\nCity, State 54110",
         "user7@example.com",
         true,
         [
          [
           "Bronze",
           "0df078f33aa74a2e9696e0520c1a828a",
           true,
           [
            "sports tickets"
           ]
          ],
          [
           "Bronze",
           [
            "24 hour dedicated line",
            "concierge services"
           ],
           true,
           "699456451cc24f028d2aa99d7534c219"
          ]
         ],
         4,
         [
          [
           [
            "2003-09-09T00:00:00.000+0000"
           ],
           1860,
           "sell",
           "msft",
           "69.21162298191629247412",
           "58382.94378920970484614372"
          ]
         ],
         "2024-09-16 13:30:48"
        ],
        [
         5,
         211739,
         7583,
         [
          "Derivatives",
          "InvestmentStock"
         ],
         "user5",
         "Name 5",
         "8170 Address Street\nCity, State 32921",
         "user5@example.com",
         false,
         [
          [
           "Bronze",
           "0df078f33aa74a2e9696e0520c1a828a",
           true,
           [
            "sports tickets"
           ]
          ],
          [
           "Bronze",
           [
            "24 hour dedicated line",
            "concierge services"
           ],
           true,
           "699456451cc24f028d2aa99d7534c219"
          ]
         ],
         6,
         [
          [
           [
            "2003-09-09T00:00:00.000+0000"
           ],
           1425,
           "buy",
           "sap",
           "48.52458294194532584243",
           "92572.21255958301480859518"
          ],
          [
           [
            "2003-09-09T00:00:00.000+0000"
           ],
           7072,
           "buy",
           "sap",
           "28.98272119167030780318",
           "184030.84967120792134664953"
          ],
          [
           [
            "2003-09-09T00:00:00.000+0000"
           ],
           6312,
           "sell",
           "team",
           "35.95916458774187418612",
           "41551.95826562136062420905"
          ],
          [
           [
            "2003-09-09T00:00:00.000+0000"
           ],
           9122,
           "buy",
           "msft",
           "12.70733190885479757526",
           "170414.62674026424065232277"
          ],
          [
           [
            "2003-09-09T00:00:00.000+0000"
           ],
           3704,
           "buy",
           "msft",
           "55.62482129284066445507",
           "49991.85292328327341238037"
          ]
         ],
         "2024-09-16 13:30:28"
        ],
        [
         6,
         845943,
         6992,
         [
          "Derivatives",
          "InvestmentStock"
         ],
         "user6",
         "Name 6",
         "6514 Address Street\nCity, State 11296",
         "user6@example.com",
         true,
         [
          [
           "Bronze",
           "0df078f33aa74a2e9696e0520c1a828a",
           true,
           [
            "sports tickets"
           ]
          ],
          [
           "Bronze",
           [
            "24 hour dedicated line",
            "concierge services"
           ],
           true,
           "699456451cc24f028d2aa99d7534c219"
          ]
         ],
         3,
         [
          [
           [
            "2003-09-09T00:00:00.000+0000"
           ],
           4188,
           "sell",
           "team",
           "44.87538931088390370405",
           "60401.34004630072013242170"
          ],
          [
           [
            "2003-09-09T00:00:00.000+0000"
           ],
           4784,
           "buy",
           "adbe",
           "72.04733853726558834296",
           "112642.07904558011796325445"
          ],
          [
           [
            "2003-09-09T00:00:00.000+0000"
           ],
           3828,
           "buy",
           "adbe",
           "31.88567534909782352770",
           "152682.17050128529081121087"
          ],
          [
           [
            "2003-09-09T00:00:00.000+0000"
           ],
           7189,
           "buy",
           "sap",
           "22.78103137525743093761",
           "89212.35896326042711734772"
          ],
          [
           [
            "2003-09-09T00:00:00.000+0000"
           ],
           8987,
           "sell",
           "adbe",
           "75.79944228940667017014",
           "117228.76377883396344259381"
          ]
         ],
         "2024-09-16 13:30:38"
        ],
        [
         18,
         877532,
         9984,
         [
          "Derivatives",
          "InvestmentStock"
         ],
         "user18",
         "Name 18",
         "5782 Address Street\nCity, State 47751",
         "user18@example.com",
         false,
         [
          [
           "Bronze",
           "0df078f33aa74a2e9696e0520c1a828a",
           true,
           [
            "sports tickets"
           ]
          ],
          [
           "Bronze",
           [
            "24 hour dedicated line",
            "concierge services"
           ],
           true,
           "699456451cc24f028d2aa99d7534c219"
          ]
         ],
         9,
         [
          [
           [
            "2003-09-09T00:00:00.000+0000"
           ],
           5341,
           "sell",
           "sap",
           "93.81343328235620049327",
           "121714.11552648528595454991"
          ],
          [
           [
            "2003-09-09T00:00:00.000+0000"
           ],
           1321,
           "sell",
           "adbe",
           "95.47842222945921264454",
           "66168.88068556306825485080"
          ],
          [
           [
            "2003-09-09T00:00:00.000+0000"
           ],
           5869,
           "buy",
           "msft",
           "26.31341895918690809708",
           "74415.00310081487987190485"
          ],
          [
           [
            "2003-09-09T00:00:00.000+0000"
           ],
           1025,
           "buy",
           "adbe",
           "47.21250003755582014264",
           "16923.71099668611714150757"
          ]
         ],
         "2024-09-16 13:32:39"
        ],
        [
         19,
         458491,
         6944,
         [
          "Derivatives",
          "InvestmentStock"
         ],
         "user19",
         "Name 19",
         "1769 Address Street\nCity, State 33793",
         "user19@example.com",
         true,
         [
          [
           "Bronze",
           "0df078f33aa74a2e9696e0520c1a828a",
           true,
           [
            "sports tickets"
           ]
          ],
          [
           "Bronze",
           [
            "24 hour dedicated line",
            "concierge services"
           ],
           true,
           "699456451cc24f028d2aa99d7534c219"
          ]
         ],
         9,
         [
          [
           [
            "2003-09-09T00:00:00.000+0000"
           ],
           6444,
           "sell",
           "msft",
           "60.01504508236588009140",
           "97939.96834752277936786413"
          ],
          [
           [
            "2003-09-09T00:00:00.000+0000"
           ],
           1592,
           "buy",
           "msft",
           "20.42555761326530472388",
           "50436.44210143076634267345"
          ],
          [
           [
            "2003-09-09T00:00:00.000+0000"
           ],
           8830,
           "sell",
           "adbe",
           "73.41813420886924745901",
           "79578.50021041551372036338"
          ],
          [
           [
            "2003-09-09T00:00:00.000+0000"
           ],
           3109,
           "sell",
           "sap",
           "77.12693861350744839456",
           "38653.50147456035483628511"
          ]
         ],
         "2024-09-16 13:32:49"
        ],
        [
         14,
         408581,
         6434,
         [
          "Derivatives",
          "InvestmentStock"
         ],
         "user14",
         "Name 14",
         "2488 Address Street\nCity, State 82492",
         "user14@example.com",
         true,
         [
          [
           "Bronze",
           "0df078f33aa74a2e9696e0520c1a828a",
           true,
           [
            "sports tickets"
           ]
          ],
          [
           "Bronze",
           [
            "24 hour dedicated line",
            "concierge services"
           ],
           true,
           "699456451cc24f028d2aa99d7534c219"
          ]
         ],
         1,
         [
          [
           [
            "2003-09-09T00:00:00.000+0000"
           ],
           5083,
           "buy",
           "msft",
           "59.83689844673048696677",
           "112308.40918843276449479163"
          ]
         ],
         "2024-09-16 13:31:59"
        ],
        [
         2,
         798663,
         5508,
         [
          "Derivatives",
          "InvestmentStock"
         ],
         "user2",
         "Name 2",
         "2446 Address Street\nCity, State 60347",
         "user2@example.com",
         false,
         [
          [
           "Bronze",
           "0df078f33aa74a2e9696e0520c1a828a",
           true,
           [
            "sports tickets"
           ]
          ],
          [
           "Bronze",
           [
            "24 hour dedicated line",
            "concierge services"
           ],
           true,
           "699456451cc24f028d2aa99d7534c219"
          ]
         ],
         4,
         [
          [
           [
            "2003-09-09T00:00:00.000+0000"
           ],
           1806,
           "buy",
           "sap",
           "32.26220927294741613878",
           "177784.84620206980616785586"
          ],
          [
           [
            "2003-09-09T00:00:00.000+0000"
           ],
           9511,
           "buy",
           "sap",
           "61.20478161757444013347",
           "146343.89646978591918013990"
          ]
         ],
         "2024-09-16 13:29:57"
        ],
        [
         16,
         174388,
         9969,
         [
          "Derivatives",
          "InvestmentStock"
         ],
         "user16",
         "Name 16",
         "3488 Address Street\nCity, State 74239",
         "user16@example.com",
         false,
         [
          [
           "Bronze",
           "0df078f33aa74a2e9696e0520c1a828a",
           true,
           [
            "sports tickets"
           ]
          ],
          [
           "Bronze",
           [
            "24 hour dedicated line",
            "concierge services"
           ],
           true,
           "699456451cc24f028d2aa99d7534c219"
          ]
         ],
         10,
         [
          [
           [
            "2003-09-09T00:00:00.000+0000"
           ],
           7557,
           "sell",
           "sap",
           "38.23946785946582593851",
           "45847.95631305879942374304"
          ]
         ],
         "2024-09-16 13:32:19"
        ],
        [
         10,
         710761,
         5776,
         [
          "Derivatives",
          "InvestmentStock"
         ],
         "user10",
         "Name 10",
         "6215 Address Street\nCity, State 79411",
         "user10@example.com",
         true,
         [
          [
           "Bronze",
           "0df078f33aa74a2e9696e0520c1a828a",
           true,
           [
            "sports tickets"
           ]
          ],
          [
           "Bronze",
           [
            "24 hour dedicated line",
            "concierge services"
           ],
           true,
           "699456451cc24f028d2aa99d7534c219"
          ]
         ],
         1,
         [
          [
           [
            "2003-09-09T00:00:00.000+0000"
           ],
           4598,
           "buy",
           "msft",
           "97.00275717188829105453",
           "94811.95149820616643410176"
          ],
          [
           [
            "2003-09-09T00:00:00.000+0000"
           ],
           6105,
           "sell",
           "adbe",
           "50.12500512761091187031",
           "61504.83098080223862780258"
          ],
          [
           [
            "2003-09-09T00:00:00.000+0000"
           ],
           8676,
           "buy",
           "msft",
           "39.80476075102464506017",
           "42921.32684952760610030964"
          ],
          [
           [
            "2003-09-09T00:00:00.000+0000"
           ],
           6497,
           "buy",
           "sap",
           "33.78021434804605860336",
           "39877.70800312092615058646"
          ]
         ],
         "2024-09-16 13:31:18"
        ],
        [
         3,
         810195,
         9541,
         [
          "Derivatives",
          "InvestmentStock"
         ],
         "user3",
         "Name 3",
         "4179 Address Street\nCity, State 12097",
         "user3@example.com",
         false,
         [
          [
           "Bronze",
           "0df078f33aa74a2e9696e0520c1a828a",
           true,
           [
            "sports tickets"
           ]
          ],
          [
           "Bronze",
           [
            "24 hour dedicated line",
            "concierge services"
           ],
           true,
           "699456451cc24f028d2aa99d7534c219"
          ]
         ],
         5,
         [
          [
           [
            "2003-09-09T00:00:00.000+0000"
           ],
           8876,
           "buy",
           "msft",
           "95.85359629821800808713",
           "21077.12627738101582508534"
          ]
         ],
         "2024-09-16 13:30:07"
        ],
        [
         20,
         715843,
         6219,
         [
          "Derivatives",
          "InvestmentStock"
         ],
         "user20",
         "Name 20",
         "9638 Address Street\nCity, State 97940",
         "user20@example.com",
         true,
         [
          [
           "Bronze",
           "0df078f33aa74a2e9696e0520c1a828a",
           true,
           [
            "sports tickets"
           ]
          ],
          [
           "Bronze",
           [
            "24 hour dedicated line",
            "concierge services"
           ],
           true,
           "699456451cc24f028d2aa99d7534c219"
          ]
         ],
         9,
         [
          [
           [
            "2003-09-09T00:00:00.000+0000"
           ],
           7953,
           "buy",
           "team",
           "78.52598793588322223513",
           "67275.42819512059213593602"
          ],
          [
           [
            "2003-09-09T00:00:00.000+0000"
           ],
           3918,
           "buy",
           "msft",
           "70.83468699291989878475",
           "118635.57435199010069482028"
          ],
          [
           [
            "2003-09-09T00:00:00.000+0000"
           ],
           1254,
           "buy",
           "msft",
           "59.93730484331764785111",
           "86228.51616160180128645152"
          ]
         ],
         "2024-09-16 13:32:59"
        ]
       ],
       "datasetInfos": [],
       "dbfsResultPath": null,
       "isJsonSchema": true,
       "metadata": {},
       "overflow": false,
       "plotOptions": {
        "customPlotOptions": {},
        "displayType": "table",
        "pivotAggregation": null,
        "pivotColumns": null,
        "xColumns": null,
        "yColumns": null
       },
       "removedWidgets": [],
       "schema": [
        {
         "metadata": "{}",
         "name": "id",
         "type": "\"integer\""
        },
        {
         "metadata": "{}",
         "name": "account_id",
         "type": "\"integer\""
        },
        {
         "metadata": "{}",
         "name": "limit",
         "type": "\"integer\""
        },
        {
         "metadata": "{}",
         "name": "products",
         "type": "{\"type\":\"array\",\"elementType\":\"string\",\"containsNull\":true}"
        },
        {
         "metadata": "{}",
         "name": "username",
         "type": "\"string\""
        },
        {
         "metadata": "{}",
         "name": "name",
         "type": "\"string\""
        },
        {
         "metadata": "{}",
         "name": "address",
         "type": "\"string\""
        },
        {
         "metadata": "{}",
         "name": "email",
         "type": "\"string\""
        },
        {
         "metadata": "{}",
         "name": "active",
         "type": "\"boolean\""
        },
        {
         "metadata": "{}",
         "name": "tier_and_details",
         "type": "{\"type\":\"struct\",\"fields\":[{\"name\":\"k\",\"type\":{\"type\":\"struct\",\"fields\":[{\"name\":\"tier\",\"type\":\"string\",\"nullable\":true,\"metadata\":{}},{\"name\":\"id\",\"type\":\"string\",\"nullable\":true,\"metadata\":{}},{\"name\":\"active\",\"type\":\"boolean\",\"nullable\":true,\"metadata\":{}},{\"name\":\"benefits\",\"type\":{\"type\":\"array\",\"elementType\":\"string\",\"containsNull\":true},\"nullable\":true,\"metadata\":{}}]},\"nullable\":true,\"metadata\":{}},{\"name\":\"v\",\"type\":{\"type\":\"struct\",\"fields\":[{\"name\":\"tier\",\"type\":\"string\",\"nullable\":true,\"metadata\":{}},{\"name\":\"benefits\",\"type\":{\"type\":\"array\",\"elementType\":\"string\",\"containsNull\":true},\"nullable\":true,\"metadata\":{}},{\"name\":\"active\",\"type\":\"boolean\",\"nullable\":true,\"metadata\":{}},{\"name\":\"id\",\"type\":\"string\",\"nullable\":true,\"metadata\":{}}]},\"nullable\":true,\"metadata\":{}}]}"
        },
        {
         "metadata": "{}",
         "name": "transaction_count",
         "type": "\"integer\""
        },
        {
         "metadata": "{}",
         "name": "transactions",
         "type": "{\"type\":\"array\",\"elementType\":{\"type\":\"struct\",\"fields\":[{\"name\":\"date\",\"type\":{\"type\":\"struct\",\"fields\":[{\"name\":\"$date\",\"type\":\"timestamp\",\"nullable\":true,\"metadata\":{}}]},\"nullable\":true,\"metadata\":{}},{\"name\":\"amount\",\"type\":\"integer\",\"nullable\":true,\"metadata\":{}},{\"name\":\"transaction_code\",\"type\":\"string\",\"nullable\":true,\"metadata\":{}},{\"name\":\"symbol\",\"type\":\"string\",\"nullable\":true,\"metadata\":{}},{\"name\":\"price\",\"type\":\"string\",\"nullable\":true,\"metadata\":{}},{\"name\":\"total\",\"type\":\"string\",\"nullable\":true,\"metadata\":{}}]},\"containsNull\":true}"
        },
        {
         "metadata": "{}",
         "name": "timestamp",
         "type": "\"string\""
        }
       ],
       "type": "table"
      }
     },
     "output_type": "display_data"
    }
   ],
   "source": [
    "df = spark.readStream\\\n",
    "    .format(\"delta\")\\\n",
    "    .table(\"hive_metastore.transaction_bronze.data\")\\\n",
    "    .withColumn(\"body\", col(\"body\").cast(\"string\"))\\\n",
    "    .withColumn(\"body\",from_json(col(\"body\"), json_schema))\\\n",
    "    .select(\"body.id\", \"body.account_id\", \"body.limit\", \"body.products\", \"body.username\", \"body.name\", \"body.address\", \"body.email\", \"body.active\", \"body.tier_and_details\", \"body.transaction_count\", \"body.transactions\", col(\"enqueuedTime\").alias('timestamp'))\\\n",
    "    .dropDuplicates([\"id\",\"account_id\",\"limit\",\"products\",\"username\",\"name\",\"address\",\"email\",\"active\",\"tier_and_details\",\"transaction_count\",\"transactions\"])\\\n",
    "    .withColumn(\"timestamp\", date_format(from_utc_timestamp(col(\"timestamp\"), \"UTC\"), \"yyyy-MM-dd HH:mm:ss\"))\n",
    "\n",
    "df.display()\n"
   ]
  },
  {
   "cell_type": "code",
   "execution_count": 0,
   "metadata": {
    "application/vnd.databricks.v1+cell": {
     "cellMetadata": {
      "byteLimit": 2048000,
      "rowLimit": 10000
     },
     "inputWidgets": {},
     "nuid": "18db15d2-f3d1-4dd7-b5aa-ef421208b46c",
     "showTitle": false,
     "title": ""
    }
   },
   "outputs": [
    {
     "name": "stdout",
     "output_type": "stream",
     "text": [
      "Out[16]: <pyspark.sql.streaming.query.StreamingQuery at 0x7f4d90f57d60>"
     ]
    }
   ],
   "source": [
    "spark.sql(\"CREATE SCHEMA IF NOT EXISTS hive_metastore.transaction_silver\")\n",
    "\n",
    "df.writeStream\\\n",
    "    .option(\"checkpointLocation\", \"/mnt/hive_metastore/transaction_silver/data\")\\\n",
    "    .outputMode(\"append\")\\\n",
    "    .format(\"delta\")\\\n",
    "    .toTable(\"hive_metastore.transaction_silver.data\")"
   ]
  },
  {
   "cell_type": "code",
   "execution_count": 0,
   "metadata": {
    "application/vnd.databricks.v1+cell": {
     "cellMetadata": {
      "byteLimit": 2048000,
      "implicitDf": true,
      "rowLimit": 10000
     },
     "inputWidgets": {},
     "nuid": "6a3bd557-3f6a-4336-a421-6fcf790f4a6c",
     "showTitle": false,
     "title": ""
    }
   },
   "outputs": [
    {
     "data": {
      "text/html": [
       "<style scoped>\n",
       "  .table-result-container {\n",
       "    max-height: 300px;\n",
       "    overflow: auto;\n",
       "  }\n",
       "  table, th, td {\n",
       "    border: 1px solid black;\n",
       "    border-collapse: collapse;\n",
       "  }\n",
       "  th, td {\n",
       "    padding: 5px;\n",
       "  }\n",
       "  th {\n",
       "    text-align: left;\n",
       "  }\n",
       "</style><div class='table-result-container'><table class='table-result'><thead style='background-color: white'><tr><th>id</th><th>account_id</th><th>name</th><th>email</th><th>products</th><th>transactions</th><th>id</th><th>account_id</th><th>limit</th><th>products</th><th>username</th><th>name</th><th>address</th><th>email</th><th>active</th><th>tier_and_details</th><th>transaction_count</th><th>transactions</th><th>timestamp</th></tr></thead><tbody><tr><td>15</td><td>473863</td><td>Name 15</td><td>user15@example.com</td><td>List(Derivatives, InvestmentStock)</td><td>List(List(List(2003-09-09T00:00:00.000+0000), 3058, buy, team, 94.92990915764075054994, 39271.06056210178940091282), List(List(2003-09-09T00:00:00.000+0000), 3729, buy, team, 40.09606082306888197309, 94347.79102649514970835298), List(List(2003-09-09T00:00:00.000+0000), 2052, buy, sap, 91.62696617269710941400, 127792.19104422286909539253), List(List(2003-09-09T00:00:00.000+0000), 9294, buy, team, 28.39682024364125112470, 103273.58555422241624910384), List(List(2003-09-09T00:00:00.000+0000), 2776, buy, sap, 97.79604460741522586886, 169544.67132019362179562449))</td><td>15</td><td>473863</td><td>9622</td><td>List(Derivatives, InvestmentStock)</td><td>user15</td><td>Name 15</td><td>6722 Address Street\n",
       "City, State 33476</td><td>user15@example.com</td><td>false</td><td>List(List(Bronze, 0df078f33aa74a2e9696e0520c1a828a, true, List(sports tickets)), List(Bronze, List(24 hour dedicated line, concierge services), true, 699456451cc24f028d2aa99d7534c219))</td><td>7</td><td>List(List(List(2003-09-09T00:00:00.000+0000), 3058, buy, team, 94.92990915764075054994, 39271.06056210178940091282), List(List(2003-09-09T00:00:00.000+0000), 3729, buy, team, 40.09606082306888197309, 94347.79102649514970835298), List(List(2003-09-09T00:00:00.000+0000), 2052, buy, sap, 91.62696617269710941400, 127792.19104422286909539253), List(List(2003-09-09T00:00:00.000+0000), 9294, buy, team, 28.39682024364125112470, 103273.58555422241624910384), List(List(2003-09-09T00:00:00.000+0000), 2776, buy, sap, 97.79604460741522586886, 169544.67132019362179562449))</td><td>2024-09-16 13:32:09</td></tr><tr><td>8</td><td>379979</td><td>Paul Miller</td><td>user8@example.com</td><td>List(Derivatives, InvestmentStock)</td><td>List(List(List(2003-09-09T00:00:00.000+0000), 8267, sell, adbe, 84.98809880472580857713, 172426.69711941917194053531), List(List(2003-09-09T00:00:00.000+0000), 2842, sell, msft, 69.80658334170290402199, 190126.52434571276535280049), List(List(2003-09-09T00:00:00.000+0000), 8113, buy, team, 16.79973890245459955395, 66047.92688901611836627126))</td><td>8</td><td>379979</td><td>6519</td><td>List(Derivatives, InvestmentStock)</td><td>user8</td><td>Paul Miller</td><td>4305 Address Street\n",
       "City, State 46006</td><td>user8@example.com</td><td>true</td><td>List(List(Bronze, 0df078f33aa74a2e9696e0520c1a828a, true, List(sports tickets)), List(Bronze, List(24 hour dedicated line, concierge services), true, 699456451cc24f028d2aa99d7534c219))</td><td>5</td><td>List(List(List(2003-09-09T00:00:00.000+0000), 8267, sell, adbe, 84.98809880472580857713, 172426.69711941917194053531), List(List(2003-09-09T00:00:00.000+0000), 2842, sell, msft, 69.80658334170290402199, 190126.52434571276535280049), List(List(2003-09-09T00:00:00.000+0000), 8113, buy, team, 16.79973890245459955395, 66047.92688901611836627126))</td><td>2024-09-16 13:30:58</td></tr><tr><td>5</td><td>211739</td><td>Nicole Green</td><td>user5@example.com</td><td>List(Derivatives, InvestmentStock)</td><td>List(List(List(2003-09-09T00:00:00.000+0000), 1425, buy, sap, 48.52458294194532584243, 92572.21255958301480859518), List(List(2003-09-09T00:00:00.000+0000), 7072, buy, sap, 28.98272119167030780318, 184030.84967120792134664953), List(List(2003-09-09T00:00:00.000+0000), 6312, sell, team, 35.95916458774187418612, 41551.95826562136062420905), List(List(2003-09-09T00:00:00.000+0000), 9122, buy, msft, 12.70733190885479757526, 170414.62674026424065232277), List(List(2003-09-09T00:00:00.000+0000), 3704, buy, msft, 55.62482129284066445507, 49991.85292328327341238037))</td><td>5</td><td>211739</td><td>7583</td><td>List(Derivatives, InvestmentStock)</td><td>user5</td><td>Nicole Green</td><td>8170 Address Street\n",
       "City, State 32921</td><td>user5@example.com</td><td>false</td><td>List(List(Bronze, 0df078f33aa74a2e9696e0520c1a828a, true, List(sports tickets)), List(Bronze, List(24 hour dedicated line, concierge services), true, 699456451cc24f028d2aa99d7534c219))</td><td>6</td><td>List(List(List(2003-09-09T00:00:00.000+0000), 1425, buy, sap, 48.52458294194532584243, 92572.21255958301480859518), List(List(2003-09-09T00:00:00.000+0000), 7072, buy, sap, 28.98272119167030780318, 184030.84967120792134664953), List(List(2003-09-09T00:00:00.000+0000), 6312, sell, team, 35.95916458774187418612, 41551.95826562136062420905), List(List(2003-09-09T00:00:00.000+0000), 9122, buy, msft, 12.70733190885479757526, 170414.62674026424065232277), List(List(2003-09-09T00:00:00.000+0000), 3704, buy, msft, 55.62482129284066445507, 49991.85292328327341238037))</td><td>2024-09-16 13:30:28</td></tr><tr><td>21</td><td>804724</td><td>Name 21</td><td>user21@example.com</td><td>List(Derivatives, InvestmentStock)</td><td>List(List(List(2003-09-09T00:00:00.000+0000), 6199, sell, msft, 48.26088209436716880418, 181127.84389156341785565019), List(List(2003-09-09T00:00:00.000+0000), 7423, buy, sap, 19.29748079947471950391, 178000.19925047864671796560), List(List(2003-09-09T00:00:00.000+0000), 8745, buy, team, 14.32387467785918566676, 113572.06376228570297826082), List(List(2003-09-09T00:00:00.000+0000), 7727, buy, sap, 24.36184020644299863534, 19068.09101134972297586501), List(List(2003-09-09T00:00:00.000+0000), 2809, sell, msft, 51.99043277729765577533, 149939.17137468361761420965))</td><td>21</td><td>804724</td><td>5697</td><td>List(Derivatives, InvestmentStock)</td><td>user21</td><td>Name 21</td><td>6564 Address Street\n",
       "City, State 83379</td><td>user21@example.com</td><td>false</td><td>List(List(Bronze, 0df078f33aa74a2e9696e0520c1a828a, true, List(sports tickets)), List(Bronze, List(24 hour dedicated line, concierge services), true, 699456451cc24f028d2aa99d7534c219))</td><td>2</td><td>List(List(List(2003-09-09T00:00:00.000+0000), 6199, sell, msft, 48.26088209436716880418, 181127.84389156341785565019), List(List(2003-09-09T00:00:00.000+0000), 7423, buy, sap, 19.29748079947471950391, 178000.19925047864671796560), List(List(2003-09-09T00:00:00.000+0000), 8745, buy, team, 14.32387467785918566676, 113572.06376228570297826082), List(List(2003-09-09T00:00:00.000+0000), 7727, buy, sap, 24.36184020644299863534, 19068.09101134972297586501), List(List(2003-09-09T00:00:00.000+0000), 2809, sell, msft, 51.99043277729765577533, 149939.17137468361761420965))</td><td>2024-09-16 14:12:39</td></tr><tr><td>6</td><td>845943</td><td>Name 6</td><td>user6@example.com</td><td>List(Derivatives, InvestmentStock)</td><td>List(List(List(2003-09-09T00:00:00.000+0000), 4188, sell, team, 44.87538931088390370405, 60401.34004630072013242170), List(List(2003-09-09T00:00:00.000+0000), 4784, buy, adbe, 72.04733853726558834296, 112642.07904558011796325445), List(List(2003-09-09T00:00:00.000+0000), 3828, buy, adbe, 31.88567534909782352770, 152682.17050128529081121087), List(List(2003-09-09T00:00:00.000+0000), 7189, buy, sap, 22.78103137525743093761, 89212.35896326042711734772), List(List(2003-09-09T00:00:00.000+0000), 8987, sell, adbe, 75.79944228940667017014, 117228.76377883396344259381))</td><td>6</td><td>845943</td><td>6992</td><td>List(Derivatives, InvestmentStock)</td><td>user6</td><td>Name 6</td><td>6514 Address Street\n",
       "City, State 11296</td><td>user6@example.com</td><td>true</td><td>List(List(Bronze, 0df078f33aa74a2e9696e0520c1a828a, true, List(sports tickets)), List(Bronze, List(24 hour dedicated line, concierge services), true, 699456451cc24f028d2aa99d7534c219))</td><td>3</td><td>List(List(List(2003-09-09T00:00:00.000+0000), 4188, sell, team, 44.87538931088390370405, 60401.34004630072013242170), List(List(2003-09-09T00:00:00.000+0000), 4784, buy, adbe, 72.04733853726558834296, 112642.07904558011796325445), List(List(2003-09-09T00:00:00.000+0000), 3828, buy, adbe, 31.88567534909782352770, 152682.17050128529081121087), List(List(2003-09-09T00:00:00.000+0000), 7189, buy, sap, 22.78103137525743093761, 89212.35896326042711734772), List(List(2003-09-09T00:00:00.000+0000), 8987, sell, adbe, 75.79944228940667017014, 117228.76377883396344259381))</td><td>2024-09-16 13:30:38</td></tr><tr><td>1</td><td>798191</td><td>Name 1</td><td>user1@example.com</td><td>List(Derivatives, InvestmentStock)</td><td>List(List(List(2003-09-09T00:00:00.000+0000), 7404, sell, team, 67.39343185165978411533, 92230.20812429944635368884), List(List(2003-09-09T00:00:00.000+0000), 5216, buy, team, 76.48759131427019042349, 93798.99476713409239891917), List(List(2003-09-09T00:00:00.000+0000), 6566, buy, adbe, 99.73360645248541800356, 88047.55063490899919997901), List(List(2003-09-09T00:00:00.000+0000), 3289, buy, team, 23.36562804215271071939, 142731.80317382083740085363), List(List(2003-09-09T00:00:00.000+0000), 6545, sell, team, 28.13161106962397539633, 176885.15399949109996668994))</td><td>1</td><td>798191</td><td>5931</td><td>List(Derivatives, InvestmentStock)</td><td>user1</td><td>Name 1</td><td>2099 Address Street\n",
       "City, State 55999</td><td>user1@example.com</td><td>true</td><td>List(List(Bronze, 0df078f33aa74a2e9696e0520c1a828a, true, List(sports tickets)), List(Bronze, List(24 hour dedicated line, concierge services), true, 699456451cc24f028d2aa99d7534c219))</td><td>8</td><td>List(List(List(2003-09-09T00:00:00.000+0000), 7404, sell, team, 67.39343185165978411533, 92230.20812429944635368884), List(List(2003-09-09T00:00:00.000+0000), 5216, buy, team, 76.48759131427019042349, 93798.99476713409239891917), List(List(2003-09-09T00:00:00.000+0000), 6566, buy, adbe, 99.73360645248541800356, 88047.55063490899919997901), List(List(2003-09-09T00:00:00.000+0000), 3289, buy, team, 23.36562804215271071939, 142731.80317382083740085363), List(List(2003-09-09T00:00:00.000+0000), 6545, sell, team, 28.13161106962397539633, 176885.15399949109996668994))</td><td>2024-09-16 13:29:47</td></tr><tr><td>18</td><td>877532</td><td>Name 18</td><td>user18@example.com</td><td>List(Derivatives, InvestmentStock)</td><td>List(List(List(2003-09-09T00:00:00.000+0000), 5341, sell, sap, 93.81343328235620049327, 121714.11552648528595454991), List(List(2003-09-09T00:00:00.000+0000), 1321, sell, adbe, 95.47842222945921264454, 66168.88068556306825485080), List(List(2003-09-09T00:00:00.000+0000), 5869, buy, msft, 26.31341895918690809708, 74415.00310081487987190485), List(List(2003-09-09T00:00:00.000+0000), 1025, buy, adbe, 47.21250003755582014264, 16923.71099668611714150757))</td><td>18</td><td>877532</td><td>9984</td><td>List(Derivatives, InvestmentStock)</td><td>user18</td><td>Name 18</td><td>5782 Address Street\n",
       "City, State 47751</td><td>user18@example.com</td><td>false</td><td>List(List(Bronze, 0df078f33aa74a2e9696e0520c1a828a, true, List(sports tickets)), List(Bronze, List(24 hour dedicated line, concierge services), true, 699456451cc24f028d2aa99d7534c219))</td><td>9</td><td>List(List(List(2003-09-09T00:00:00.000+0000), 5341, sell, sap, 93.81343328235620049327, 121714.11552648528595454991), List(List(2003-09-09T00:00:00.000+0000), 1321, sell, adbe, 95.47842222945921264454, 66168.88068556306825485080), List(List(2003-09-09T00:00:00.000+0000), 5869, buy, msft, 26.31341895918690809708, 74415.00310081487987190485), List(List(2003-09-09T00:00:00.000+0000), 1025, buy, adbe, 47.21250003755582014264, 16923.71099668611714150757))</td><td>2024-09-16 13:32:39</td></tr><tr><td>11</td><td>516921</td><td>Name 11</td><td>user11@example.com</td><td>List(Derivatives, InvestmentStock)</td><td>List(List(List(2003-09-09T00:00:00.000+0000), 4428, buy, sap, 57.35156052356850153728, 78342.15896420380158815533), List(List(2003-09-09T00:00:00.000+0000), 4111, sell, adbe, 83.70465232504771790900, 77930.42290560470428317785), List(List(2003-09-09T00:00:00.000+0000), 3074, buy, msft, 82.77305815554666423850, 17877.05580443565850146115), List(List(2003-09-09T00:00:00.000+0000), 5530, buy, sap, 42.90294413394516226390, 153321.79268067853990942240))</td><td>11</td><td>516921</td><td>6293</td><td>List(Derivatives, InvestmentStock)</td><td>user11</td><td>Name 11</td><td>4428 Address Street\n",
       "City, State 13424</td><td>user11@example.com</td><td>true</td><td>List(List(Bronze, 0df078f33aa74a2e9696e0520c1a828a, true, List(sports tickets)), List(Bronze, List(24 hour dedicated line, concierge services), true, 699456451cc24f028d2aa99d7534c219))</td><td>6</td><td>List(List(List(2003-09-09T00:00:00.000+0000), 4428, buy, sap, 57.35156052356850153728, 78342.15896420380158815533), List(List(2003-09-09T00:00:00.000+0000), 4111, sell, adbe, 83.70465232504771790900, 77930.42290560470428317785), List(List(2003-09-09T00:00:00.000+0000), 3074, buy, msft, 82.77305815554666423850, 17877.05580443565850146115), List(List(2003-09-09T00:00:00.000+0000), 5530, buy, sap, 42.90294413394516226390, 153321.79268067853990942240))</td><td>2024-09-16 13:31:28</td></tr><tr><td>10</td><td>710761</td><td>Name 10</td><td>user10@example.com</td><td>List(Derivatives, InvestmentStock)</td><td>List(List(List(2003-09-09T00:00:00.000+0000), 4598, buy, msft, 97.00275717188829105453, 94811.95149820616643410176), List(List(2003-09-09T00:00:00.000+0000), 6105, sell, adbe, 50.12500512761091187031, 61504.83098080223862780258), List(List(2003-09-09T00:00:00.000+0000), 8676, buy, msft, 39.80476075102464506017, 42921.32684952760610030964), List(List(2003-09-09T00:00:00.000+0000), 6497, buy, sap, 33.78021434804605860336, 39877.70800312092615058646))</td><td>10</td><td>710761</td><td>5776</td><td>List(Derivatives, InvestmentStock)</td><td>user10</td><td>Name 10</td><td>6215 Address Street\n",
       "City, State 79411</td><td>user10@example.com</td><td>true</td><td>List(List(Bronze, 0df078f33aa74a2e9696e0520c1a828a, true, List(sports tickets)), List(Bronze, List(24 hour dedicated line, concierge services), true, 699456451cc24f028d2aa99d7534c219))</td><td>1</td><td>List(List(List(2003-09-09T00:00:00.000+0000), 4598, buy, msft, 97.00275717188829105453, 94811.95149820616643410176), List(List(2003-09-09T00:00:00.000+0000), 6105, sell, adbe, 50.12500512761091187031, 61504.83098080223862780258), List(List(2003-09-09T00:00:00.000+0000), 8676, buy, msft, 39.80476075102464506017, 42921.32684952760610030964), List(List(2003-09-09T00:00:00.000+0000), 6497, buy, sap, 33.78021434804605860336, 39877.70800312092615058646))</td><td>2024-09-16 13:31:18</td></tr><tr><td>19</td><td>458491</td><td>Name 19</td><td>user19@example.com</td><td>List(Derivatives, InvestmentStock)</td><td>List(List(List(2003-09-09T00:00:00.000+0000), 6444, sell, msft, 60.01504508236588009140, 97939.96834752277936786413), List(List(2003-09-09T00:00:00.000+0000), 1592, buy, msft, 20.42555761326530472388, 50436.44210143076634267345), List(List(2003-09-09T00:00:00.000+0000), 8830, sell, adbe, 73.41813420886924745901, 79578.50021041551372036338), List(List(2003-09-09T00:00:00.000+0000), 3109, sell, sap, 77.12693861350744839456, 38653.50147456035483628511))</td><td>19</td><td>458491</td><td>6944</td><td>List(Derivatives, InvestmentStock)</td><td>user19</td><td>Name 19</td><td>1769 Address Street\n",
       "City, State 33793</td><td>user19@example.com</td><td>true</td><td>List(List(Bronze, 0df078f33aa74a2e9696e0520c1a828a, true, List(sports tickets)), List(Bronze, List(24 hour dedicated line, concierge services), true, 699456451cc24f028d2aa99d7534c219))</td><td>9</td><td>List(List(List(2003-09-09T00:00:00.000+0000), 6444, sell, msft, 60.01504508236588009140, 97939.96834752277936786413), List(List(2003-09-09T00:00:00.000+0000), 1592, buy, msft, 20.42555761326530472388, 50436.44210143076634267345), List(List(2003-09-09T00:00:00.000+0000), 8830, sell, adbe, 73.41813420886924745901, 79578.50021041551372036338), List(List(2003-09-09T00:00:00.000+0000), 3109, sell, sap, 77.12693861350744839456, 38653.50147456035483628511))</td><td>2024-09-16 13:32:49</td></tr><tr><td>17</td><td>564610</td><td>Name 17</td><td>user17@example.com</td><td>List(Derivatives, InvestmentStock)</td><td>List(List(List(2003-09-09T00:00:00.000+0000), 1144, buy, sap, 58.84318210510243574163, 172876.57626284728758037090), List(List(2003-09-09T00:00:00.000+0000), 5036, sell, msft, 12.72993662551035320973, 142237.54796342787449248135), List(List(2003-09-09T00:00:00.000+0000), 8902, sell, msft, 59.97696351403897097043, 146939.41589117734110914171), List(List(2003-09-09T00:00:00.000+0000), 9093, buy, sap, 18.29094576213286416078, 182711.17060213070362806320))</td><td>17</td><td>564610</td><td>7906</td><td>List(Derivatives, InvestmentStock)</td><td>user17</td><td>Name 17</td><td>7308 Address Street\n",
       "City, State 76910</td><td>user17@example.com</td><td>false</td><td>List(List(Bronze, 0df078f33aa74a2e9696e0520c1a828a, true, List(sports tickets)), List(Bronze, List(24 hour dedicated line, concierge services), true, 699456451cc24f028d2aa99d7534c219))</td><td>2</td><td>List(List(List(2003-09-09T00:00:00.000+0000), 1144, buy, sap, 58.84318210510243574163, 172876.57626284728758037090), List(List(2003-09-09T00:00:00.000+0000), 5036, sell, msft, 12.72993662551035320973, 142237.54796342787449248135), List(List(2003-09-09T00:00:00.000+0000), 8902, sell, msft, 59.97696351403897097043, 146939.41589117734110914171), List(List(2003-09-09T00:00:00.000+0000), 9093, buy, sap, 18.29094576213286416078, 182711.17060213070362806320))</td><td>2024-09-16 13:32:29</td></tr><tr><td>13</td><td>697785</td><td>Name 13</td><td>user13@example.com</td><td>List(Derivatives, InvestmentStock)</td><td>List(List(List(2003-09-09T00:00:00.000+0000), 1759, buy, adbe, 54.64340870302773822687, 97818.69475430114835035056), List(List(2003-09-09T00:00:00.000+0000), 7317, sell, team, 92.18402912371045943019, 155031.63420887131360359490), List(List(2003-09-09T00:00:00.000+0000), 3939, buy, adbe, 47.54763000709779419140, 67372.07298207332496531308))</td><td>13</td><td>697785</td><td>7244</td><td>List(Derivatives, InvestmentStock)</td><td>user13</td><td>Name 13</td><td>7467 Address Street\n",
       "City, State 12462</td><td>user13@example.com</td><td>true</td><td>List(List(Bronze, 0df078f33aa74a2e9696e0520c1a828a, true, List(sports tickets)), List(Bronze, List(24 hour dedicated line, concierge services), true, 699456451cc24f028d2aa99d7534c219))</td><td>4</td><td>List(List(List(2003-09-09T00:00:00.000+0000), 1759, buy, adbe, 54.64340870302773822687, 97818.69475430114835035056), List(List(2003-09-09T00:00:00.000+0000), 7317, sell, team, 92.18402912371045943019, 155031.63420887131360359490), List(List(2003-09-09T00:00:00.000+0000), 3939, buy, adbe, 47.54763000709779419140, 67372.07298207332496531308))</td><td>2024-09-16 13:31:49</td></tr><tr><td>20</td><td>715843</td><td>Name 20</td><td>user20@example.com</td><td>List(Derivatives, InvestmentStock)</td><td>List(List(List(2003-09-09T00:00:00.000+0000), 7953, buy, team, 78.52598793588322223513, 67275.42819512059213593602), List(List(2003-09-09T00:00:00.000+0000), 3918, buy, msft, 70.83468699291989878475, 118635.57435199010069482028), List(List(2003-09-09T00:00:00.000+0000), 1254, buy, msft, 59.93730484331764785111, 86228.51616160180128645152))</td><td>20</td><td>715843</td><td>6219</td><td>List(Derivatives, InvestmentStock)</td><td>user20</td><td>Name 20</td><td>9638 Address Street\n",
       "City, State 97940</td><td>user20@example.com</td><td>true</td><td>List(List(Bronze, 0df078f33aa74a2e9696e0520c1a828a, true, List(sports tickets)), List(Bronze, List(24 hour dedicated line, concierge services), true, 699456451cc24f028d2aa99d7534c219))</td><td>9</td><td>List(List(List(2003-09-09T00:00:00.000+0000), 7953, buy, team, 78.52598793588322223513, 67275.42819512059213593602), List(List(2003-09-09T00:00:00.000+0000), 3918, buy, msft, 70.83468699291989878475, 118635.57435199010069482028), List(List(2003-09-09T00:00:00.000+0000), 1254, buy, msft, 59.93730484331764785111, 86228.51616160180128645152))</td><td>2024-09-16 13:32:59</td></tr><tr><td>2</td><td>798663</td><td>Name 2</td><td>user2@example.com</td><td>List(Derivatives, InvestmentStock)</td><td>List(List(List(2003-09-09T00:00:00.000+0000), 1806, buy, sap, 32.26220927294741613878, 177784.84620206980616785586), List(List(2003-09-09T00:00:00.000+0000), 9511, buy, sap, 61.20478161757444013347, 146343.89646978591918013990))</td><td>2</td><td>798663</td><td>5508</td><td>List(Derivatives, InvestmentStock)</td><td>user2</td><td>Name 2</td><td>2446 Address Street\n",
       "City, State 60347</td><td>user2@example.com</td><td>false</td><td>List(List(Bronze, 0df078f33aa74a2e9696e0520c1a828a, true, List(sports tickets)), List(Bronze, List(24 hour dedicated line, concierge services), true, 699456451cc24f028d2aa99d7534c219))</td><td>4</td><td>List(List(List(2003-09-09T00:00:00.000+0000), 1806, buy, sap, 32.26220927294741613878, 177784.84620206980616785586), List(List(2003-09-09T00:00:00.000+0000), 9511, buy, sap, 61.20478161757444013347, 146343.89646978591918013990))</td><td>2024-09-16 13:29:57</td></tr><tr><td>4</td><td>900650</td><td>Name 4</td><td>user4@example.com</td><td>List(Derivatives, InvestmentStock)</td><td>List(List(List(2003-09-09T00:00:00.000+0000), 1201, buy, adbe, 36.75711471553837839110, 78799.85879699424549471587), List(List(2003-09-09T00:00:00.000+0000), 9869, buy, team, 15.86729073710625570470, 13496.01666612100052589085))</td><td>4</td><td>900650</td><td>9413</td><td>List(Derivatives, InvestmentStock)</td><td>user4</td><td>Name 4</td><td>2361 Address Street\n",
       "City, State 43351</td><td>user4@example.com</td><td>false</td><td>List(List(Bronze, 0df078f33aa74a2e9696e0520c1a828a, true, List(sports tickets)), List(Bronze, List(24 hour dedicated line, concierge services), true, 699456451cc24f028d2aa99d7534c219))</td><td>4</td><td>List(List(List(2003-09-09T00:00:00.000+0000), 1201, buy, adbe, 36.75711471553837839110, 78799.85879699424549471587), List(List(2003-09-09T00:00:00.000+0000), 9869, buy, team, 15.86729073710625570470, 13496.01666612100052589085))</td><td>2024-09-16 13:30:18</td></tr><tr><td>16</td><td>174388</td><td>Lina Smith</td><td>user16@example.com</td><td>List(Derivatives, InvestmentStock)</td><td>List(List(List(2003-09-09T00:00:00.000+0000), 7557, sell, sap, 38.23946785946582593851, 45847.95631305879942374304))</td><td>16</td><td>174388</td><td>9969</td><td>List(Derivatives, InvestmentStock)</td><td>user16</td><td>Lina Smith</td><td>3488 Address Street\n",
       "City, State 74239</td><td>user16@example.com</td><td>false</td><td>List(List(Bronze, 0df078f33aa74a2e9696e0520c1a828a, true, List(sports tickets)), List(Bronze, List(24 hour dedicated line, concierge services), true, 699456451cc24f028d2aa99d7534c219))</td><td>10</td><td>List(List(List(2003-09-09T00:00:00.000+0000), 7557, sell, sap, 38.23946785946582593851, 45847.95631305879942374304))</td><td>2024-09-16 13:32:19</td></tr><tr><td>9</td><td>293047</td><td>Tom Tayler</td><td>user9@example.com</td><td>List(Derivatives, InvestmentStock)</td><td>List(List(List(2003-09-09T00:00:00.000+0000), 5468, sell, sap, 76.54828905931904614590, 144298.99710163468262180686))</td><td>9</td><td>293047</td><td>8268</td><td>List(Derivatives, InvestmentStock)</td><td>user9</td><td>Tom Tayler</td><td>8430 Address Street\n",
       "City, State 45065</td><td>user9@example.com</td><td>true</td><td>List(List(Bronze, 0df078f33aa74a2e9696e0520c1a828a, true, List(sports tickets)), List(Bronze, List(24 hour dedicated line, concierge services), true, 699456451cc24f028d2aa99d7534c219))</td><td>6</td><td>List(List(List(2003-09-09T00:00:00.000+0000), 5468, sell, sap, 76.54828905931904614590, 144298.99710163468262180686))</td><td>2024-09-16 13:31:08</td></tr><tr><td>14</td><td>408581</td><td>Alan Lee</td><td>user14@example.com</td><td>List(Derivatives, InvestmentStock)</td><td>List(List(List(2003-09-09T00:00:00.000+0000), 5083, buy, msft, 59.83689844673048696677, 112308.40918843276449479163))</td><td>14</td><td>408581</td><td>6434</td><td>List(Derivatives, InvestmentStock)</td><td>user14</td><td>Alan Lee</td><td>2488 Address Street\n",
       "City, State 82492</td><td>user14@example.com</td><td>true</td><td>List(List(Bronze, 0df078f33aa74a2e9696e0520c1a828a, true, List(sports tickets)), List(Bronze, List(24 hour dedicated line, concierge services), true, 699456451cc24f028d2aa99d7534c219))</td><td>1</td><td>List(List(List(2003-09-09T00:00:00.000+0000), 5083, buy, msft, 59.83689844673048696677, 112308.40918843276449479163))</td><td>2024-09-16 13:31:59</td></tr><tr><td>12</td><td>941485</td><td>Name 12</td><td>user12@example.com</td><td>List(Derivatives, InvestmentStock)</td><td>List(List(List(2003-09-09T00:00:00.000+0000), 6170, sell, adbe, 50.66012834959665411816, 43951.32860177059046691284))</td><td>12</td><td>941485</td><td>8358</td><td>List(Derivatives, InvestmentStock)</td><td>user12</td><td>Name 12</td><td>8924 Address Street\n",
       "City, State 93815</td><td>user12@example.com</td><td>true</td><td>List(List(Bronze, 0df078f33aa74a2e9696e0520c1a828a, true, List(sports tickets)), List(Bronze, List(24 hour dedicated line, concierge services), true, 699456451cc24f028d2aa99d7534c219))</td><td>4</td><td>List(List(List(2003-09-09T00:00:00.000+0000), 6170, sell, adbe, 50.66012834959665411816, 43951.32860177059046691284))</td><td>2024-09-16 13:31:39</td></tr><tr><td>7</td><td>812181</td><td>Name 7</td><td>user7@example.com</td><td>List(Derivatives, InvestmentStock)</td><td>List(List(List(2003-09-09T00:00:00.000+0000), 1860, sell, msft, 69.21162298191629247412, 58382.94378920970484614372))</td><td>7</td><td>812181</td><td>5668</td><td>List(Derivatives, InvestmentStock)</td><td>user7</td><td>Name 7</td><td>4701 Address Street\n",
       "City, State 54110</td><td>user7@example.com</td><td>true</td><td>List(List(Bronze, 0df078f33aa74a2e9696e0520c1a828a, true, List(sports tickets)), List(Bronze, List(24 hour dedicated line, concierge services), true, 699456451cc24f028d2aa99d7534c219))</td><td>4</td><td>List(List(List(2003-09-09T00:00:00.000+0000), 1860, sell, msft, 69.21162298191629247412, 58382.94378920970484614372))</td><td>2024-09-16 13:30:48</td></tr><tr><td>3</td><td>810195</td><td>Name 3</td><td>user3@example.com</td><td>List(Derivatives, InvestmentStock)</td><td>List(List(List(2003-09-09T00:00:00.000+0000), 8876, buy, msft, 95.85359629821800808713, 21077.12627738101582508534))</td><td>3</td><td>810195</td><td>9541</td><td>List(Derivatives, InvestmentStock)</td><td>user3</td><td>Name 3</td><td>4179 Address Street\n",
       "City, State 12097</td><td>user3@example.com</td><td>false</td><td>List(List(Bronze, 0df078f33aa74a2e9696e0520c1a828a, true, List(sports tickets)), List(Bronze, List(24 hour dedicated line, concierge services), true, 699456451cc24f028d2aa99d7534c219))</td><td>5</td><td>List(List(List(2003-09-09T00:00:00.000+0000), 8876, buy, msft, 95.85359629821800808713, 21077.12627738101582508534))</td><td>2024-09-16 13:30:07</td></tr></tbody></table></div>"
      ]
     },
     "metadata": {
      "application/vnd.databricks.v1+output": {
       "addedWidgets": {},
       "aggData": [],
       "aggError": "",
       "aggOverflow": false,
       "aggSchema": [],
       "aggSeriesLimitReached": false,
       "aggType": "",
       "arguments": {},
       "columnCustomDisplayInfos": {},
       "data": [
        [
         15,
         473863,
         "Name 15",
         "user15@example.com",
         [
          "Derivatives",
          "InvestmentStock"
         ],
         [
          [
           [
            "2003-09-09T00:00:00.000+0000"
           ],
           3058,
           "buy",
           "team",
           "94.92990915764075054994",
           "39271.06056210178940091282"
          ],
          [
           [
            "2003-09-09T00:00:00.000+0000"
           ],
           3729,
           "buy",
           "team",
           "40.09606082306888197309",
           "94347.79102649514970835298"
          ],
          [
           [
            "2003-09-09T00:00:00.000+0000"
           ],
           2052,
           "buy",
           "sap",
           "91.62696617269710941400",
           "127792.19104422286909539253"
          ],
          [
           [
            "2003-09-09T00:00:00.000+0000"
           ],
           9294,
           "buy",
           "team",
           "28.39682024364125112470",
           "103273.58555422241624910384"
          ],
          [
           [
            "2003-09-09T00:00:00.000+0000"
           ],
           2776,
           "buy",
           "sap",
           "97.79604460741522586886",
           "169544.67132019362179562449"
          ]
         ],
         15,
         473863,
         9622,
         [
          "Derivatives",
          "InvestmentStock"
         ],
         "user15",
         "Name 15",
         "6722 Address Street\nCity, State 33476",
         "user15@example.com",
         false,
         [
          [
           "Bronze",
           "0df078f33aa74a2e9696e0520c1a828a",
           true,
           [
            "sports tickets"
           ]
          ],
          [
           "Bronze",
           [
            "24 hour dedicated line",
            "concierge services"
           ],
           true,
           "699456451cc24f028d2aa99d7534c219"
          ]
         ],
         7,
         [
          [
           [
            "2003-09-09T00:00:00.000+0000"
           ],
           3058,
           "buy",
           "team",
           "94.92990915764075054994",
           "39271.06056210178940091282"
          ],
          [
           [
            "2003-09-09T00:00:00.000+0000"
           ],
           3729,
           "buy",
           "team",
           "40.09606082306888197309",
           "94347.79102649514970835298"
          ],
          [
           [
            "2003-09-09T00:00:00.000+0000"
           ],
           2052,
           "buy",
           "sap",
           "91.62696617269710941400",
           "127792.19104422286909539253"
          ],
          [
           [
            "2003-09-09T00:00:00.000+0000"
           ],
           9294,
           "buy",
           "team",
           "28.39682024364125112470",
           "103273.58555422241624910384"
          ],
          [
           [
            "2003-09-09T00:00:00.000+0000"
           ],
           2776,
           "buy",
           "sap",
           "97.79604460741522586886",
           "169544.67132019362179562449"
          ]
         ],
         "2024-09-16 13:32:09"
        ],
        [
         8,
         379979,
         "Paul Miller",
         "user8@example.com",
         [
          "Derivatives",
          "InvestmentStock"
         ],
         [
          [
           [
            "2003-09-09T00:00:00.000+0000"
           ],
           8267,
           "sell",
           "adbe",
           "84.98809880472580857713",
           "172426.69711941917194053531"
          ],
          [
           [
            "2003-09-09T00:00:00.000+0000"
           ],
           2842,
           "sell",
           "msft",
           "69.80658334170290402199",
           "190126.52434571276535280049"
          ],
          [
           [
            "2003-09-09T00:00:00.000+0000"
           ],
           8113,
           "buy",
           "team",
           "16.79973890245459955395",
           "66047.92688901611836627126"
          ]
         ],
         8,
         379979,
         6519,
         [
          "Derivatives",
          "InvestmentStock"
         ],
         "user8",
         "Paul Miller",
         "4305 Address Street\nCity, State 46006",
         "user8@example.com",
         true,
         [
          [
           "Bronze",
           "0df078f33aa74a2e9696e0520c1a828a",
           true,
           [
            "sports tickets"
           ]
          ],
          [
           "Bronze",
           [
            "24 hour dedicated line",
            "concierge services"
           ],
           true,
           "699456451cc24f028d2aa99d7534c219"
          ]
         ],
         5,
         [
          [
           [
            "2003-09-09T00:00:00.000+0000"
           ],
           8267,
           "sell",
           "adbe",
           "84.98809880472580857713",
           "172426.69711941917194053531"
          ],
          [
           [
            "2003-09-09T00:00:00.000+0000"
           ],
           2842,
           "sell",
           "msft",
           "69.80658334170290402199",
           "190126.52434571276535280049"
          ],
          [
           [
            "2003-09-09T00:00:00.000+0000"
           ],
           8113,
           "buy",
           "team",
           "16.79973890245459955395",
           "66047.92688901611836627126"
          ]
         ],
         "2024-09-16 13:30:58"
        ],
        [
         5,
         211739,
         "Nicole Green",
         "user5@example.com",
         [
          "Derivatives",
          "InvestmentStock"
         ],
         [
          [
           [
            "2003-09-09T00:00:00.000+0000"
           ],
           1425,
           "buy",
           "sap",
           "48.52458294194532584243",
           "92572.21255958301480859518"
          ],
          [
           [
            "2003-09-09T00:00:00.000+0000"
           ],
           7072,
           "buy",
           "sap",
           "28.98272119167030780318",
           "184030.84967120792134664953"
          ],
          [
           [
            "2003-09-09T00:00:00.000+0000"
           ],
           6312,
           "sell",
           "team",
           "35.95916458774187418612",
           "41551.95826562136062420905"
          ],
          [
           [
            "2003-09-09T00:00:00.000+0000"
           ],
           9122,
           "buy",
           "msft",
           "12.70733190885479757526",
           "170414.62674026424065232277"
          ],
          [
           [
            "2003-09-09T00:00:00.000+0000"
           ],
           3704,
           "buy",
           "msft",
           "55.62482129284066445507",
           "49991.85292328327341238037"
          ]
         ],
         5,
         211739,
         7583,
         [
          "Derivatives",
          "InvestmentStock"
         ],
         "user5",
         "Nicole Green",
         "8170 Address Street\nCity, State 32921",
         "user5@example.com",
         false,
         [
          [
           "Bronze",
           "0df078f33aa74a2e9696e0520c1a828a",
           true,
           [
            "sports tickets"
           ]
          ],
          [
           "Bronze",
           [
            "24 hour dedicated line",
            "concierge services"
           ],
           true,
           "699456451cc24f028d2aa99d7534c219"
          ]
         ],
         6,
         [
          [
           [
            "2003-09-09T00:00:00.000+0000"
           ],
           1425,
           "buy",
           "sap",
           "48.52458294194532584243",
           "92572.21255958301480859518"
          ],
          [
           [
            "2003-09-09T00:00:00.000+0000"
           ],
           7072,
           "buy",
           "sap",
           "28.98272119167030780318",
           "184030.84967120792134664953"
          ],
          [
           [
            "2003-09-09T00:00:00.000+0000"
           ],
           6312,
           "sell",
           "team",
           "35.95916458774187418612",
           "41551.95826562136062420905"
          ],
          [
           [
            "2003-09-09T00:00:00.000+0000"
           ],
           9122,
           "buy",
           "msft",
           "12.70733190885479757526",
           "170414.62674026424065232277"
          ],
          [
           [
            "2003-09-09T00:00:00.000+0000"
           ],
           3704,
           "buy",
           "msft",
           "55.62482129284066445507",
           "49991.85292328327341238037"
          ]
         ],
         "2024-09-16 13:30:28"
        ],
        [
         21,
         804724,
         "Name 21",
         "user21@example.com",
         [
          "Derivatives",
          "InvestmentStock"
         ],
         [
          [
           [
            "2003-09-09T00:00:00.000+0000"
           ],
           6199,
           "sell",
           "msft",
           "48.26088209436716880418",
           "181127.84389156341785565019"
          ],
          [
           [
            "2003-09-09T00:00:00.000+0000"
           ],
           7423,
           "buy",
           "sap",
           "19.29748079947471950391",
           "178000.19925047864671796560"
          ],
          [
           [
            "2003-09-09T00:00:00.000+0000"
           ],
           8745,
           "buy",
           "team",
           "14.32387467785918566676",
           "113572.06376228570297826082"
          ],
          [
           [
            "2003-09-09T00:00:00.000+0000"
           ],
           7727,
           "buy",
           "sap",
           "24.36184020644299863534",
           "19068.09101134972297586501"
          ],
          [
           [
            "2003-09-09T00:00:00.000+0000"
           ],
           2809,
           "sell",
           "msft",
           "51.99043277729765577533",
           "149939.17137468361761420965"
          ]
         ],
         21,
         804724,
         5697,
         [
          "Derivatives",
          "InvestmentStock"
         ],
         "user21",
         "Name 21",
         "6564 Address Street\nCity, State 83379",
         "user21@example.com",
         false,
         [
          [
           "Bronze",
           "0df078f33aa74a2e9696e0520c1a828a",
           true,
           [
            "sports tickets"
           ]
          ],
          [
           "Bronze",
           [
            "24 hour dedicated line",
            "concierge services"
           ],
           true,
           "699456451cc24f028d2aa99d7534c219"
          ]
         ],
         2,
         [
          [
           [
            "2003-09-09T00:00:00.000+0000"
           ],
           6199,
           "sell",
           "msft",
           "48.26088209436716880418",
           "181127.84389156341785565019"
          ],
          [
           [
            "2003-09-09T00:00:00.000+0000"
           ],
           7423,
           "buy",
           "sap",
           "19.29748079947471950391",
           "178000.19925047864671796560"
          ],
          [
           [
            "2003-09-09T00:00:00.000+0000"
           ],
           8745,
           "buy",
           "team",
           "14.32387467785918566676",
           "113572.06376228570297826082"
          ],
          [
           [
            "2003-09-09T00:00:00.000+0000"
           ],
           7727,
           "buy",
           "sap",
           "24.36184020644299863534",
           "19068.09101134972297586501"
          ],
          [
           [
            "2003-09-09T00:00:00.000+0000"
           ],
           2809,
           "sell",
           "msft",
           "51.99043277729765577533",
           "149939.17137468361761420965"
          ]
         ],
         "2024-09-16 14:12:39"
        ],
        [
         6,
         845943,
         "Name 6",
         "user6@example.com",
         [
          "Derivatives",
          "InvestmentStock"
         ],
         [
          [
           [
            "2003-09-09T00:00:00.000+0000"
           ],
           4188,
           "sell",
           "team",
           "44.87538931088390370405",
           "60401.34004630072013242170"
          ],
          [
           [
            "2003-09-09T00:00:00.000+0000"
           ],
           4784,
           "buy",
           "adbe",
           "72.04733853726558834296",
           "112642.07904558011796325445"
          ],
          [
           [
            "2003-09-09T00:00:00.000+0000"
           ],
           3828,
           "buy",
           "adbe",
           "31.88567534909782352770",
           "152682.17050128529081121087"
          ],
          [
           [
            "2003-09-09T00:00:00.000+0000"
           ],
           7189,
           "buy",
           "sap",
           "22.78103137525743093761",
           "89212.35896326042711734772"
          ],
          [
           [
            "2003-09-09T00:00:00.000+0000"
           ],
           8987,
           "sell",
           "adbe",
           "75.79944228940667017014",
           "117228.76377883396344259381"
          ]
         ],
         6,
         845943,
         6992,
         [
          "Derivatives",
          "InvestmentStock"
         ],
         "user6",
         "Name 6",
         "6514 Address Street\nCity, State 11296",
         "user6@example.com",
         true,
         [
          [
           "Bronze",
           "0df078f33aa74a2e9696e0520c1a828a",
           true,
           [
            "sports tickets"
           ]
          ],
          [
           "Bronze",
           [
            "24 hour dedicated line",
            "concierge services"
           ],
           true,
           "699456451cc24f028d2aa99d7534c219"
          ]
         ],
         3,
         [
          [
           [
            "2003-09-09T00:00:00.000+0000"
           ],
           4188,
           "sell",
           "team",
           "44.87538931088390370405",
           "60401.34004630072013242170"
          ],
          [
           [
            "2003-09-09T00:00:00.000+0000"
           ],
           4784,
           "buy",
           "adbe",
           "72.04733853726558834296",
           "112642.07904558011796325445"
          ],
          [
           [
            "2003-09-09T00:00:00.000+0000"
           ],
           3828,
           "buy",
           "adbe",
           "31.88567534909782352770",
           "152682.17050128529081121087"
          ],
          [
           [
            "2003-09-09T00:00:00.000+0000"
           ],
           7189,
           "buy",
           "sap",
           "22.78103137525743093761",
           "89212.35896326042711734772"
          ],
          [
           [
            "2003-09-09T00:00:00.000+0000"
           ],
           8987,
           "sell",
           "adbe",
           "75.79944228940667017014",
           "117228.76377883396344259381"
          ]
         ],
         "2024-09-16 13:30:38"
        ],
        [
         1,
         798191,
         "Name 1",
         "user1@example.com",
         [
          "Derivatives",
          "InvestmentStock"
         ],
         [
          [
           [
            "2003-09-09T00:00:00.000+0000"
           ],
           7404,
           "sell",
           "team",
           "67.39343185165978411533",
           "92230.20812429944635368884"
          ],
          [
           [
            "2003-09-09T00:00:00.000+0000"
           ],
           5216,
           "buy",
           "team",
           "76.48759131427019042349",
           "93798.99476713409239891917"
          ],
          [
           [
            "2003-09-09T00:00:00.000+0000"
           ],
           6566,
           "buy",
           "adbe",
           "99.73360645248541800356",
           "88047.55063490899919997901"
          ],
          [
           [
            "2003-09-09T00:00:00.000+0000"
           ],
           3289,
           "buy",
           "team",
           "23.36562804215271071939",
           "142731.80317382083740085363"
          ],
          [
           [
            "2003-09-09T00:00:00.000+0000"
           ],
           6545,
           "sell",
           "team",
           "28.13161106962397539633",
           "176885.15399949109996668994"
          ]
         ],
         1,
         798191,
         5931,
         [
          "Derivatives",
          "InvestmentStock"
         ],
         "user1",
         "Name 1",
         "2099 Address Street\nCity, State 55999",
         "user1@example.com",
         true,
         [
          [
           "Bronze",
           "0df078f33aa74a2e9696e0520c1a828a",
           true,
           [
            "sports tickets"
           ]
          ],
          [
           "Bronze",
           [
            "24 hour dedicated line",
            "concierge services"
           ],
           true,
           "699456451cc24f028d2aa99d7534c219"
          ]
         ],
         8,
         [
          [
           [
            "2003-09-09T00:00:00.000+0000"
           ],
           7404,
           "sell",
           "team",
           "67.39343185165978411533",
           "92230.20812429944635368884"
          ],
          [
           [
            "2003-09-09T00:00:00.000+0000"
           ],
           5216,
           "buy",
           "team",
           "76.48759131427019042349",
           "93798.99476713409239891917"
          ],
          [
           [
            "2003-09-09T00:00:00.000+0000"
           ],
           6566,
           "buy",
           "adbe",
           "99.73360645248541800356",
           "88047.55063490899919997901"
          ],
          [
           [
            "2003-09-09T00:00:00.000+0000"
           ],
           3289,
           "buy",
           "team",
           "23.36562804215271071939",
           "142731.80317382083740085363"
          ],
          [
           [
            "2003-09-09T00:00:00.000+0000"
           ],
           6545,
           "sell",
           "team",
           "28.13161106962397539633",
           "176885.15399949109996668994"
          ]
         ],
         "2024-09-16 13:29:47"
        ],
        [
         18,
         877532,
         "Name 18",
         "user18@example.com",
         [
          "Derivatives",
          "InvestmentStock"
         ],
         [
          [
           [
            "2003-09-09T00:00:00.000+0000"
           ],
           5341,
           "sell",
           "sap",
           "93.81343328235620049327",
           "121714.11552648528595454991"
          ],
          [
           [
            "2003-09-09T00:00:00.000+0000"
           ],
           1321,
           "sell",
           "adbe",
           "95.47842222945921264454",
           "66168.88068556306825485080"
          ],
          [
           [
            "2003-09-09T00:00:00.000+0000"
           ],
           5869,
           "buy",
           "msft",
           "26.31341895918690809708",
           "74415.00310081487987190485"
          ],
          [
           [
            "2003-09-09T00:00:00.000+0000"
           ],
           1025,
           "buy",
           "adbe",
           "47.21250003755582014264",
           "16923.71099668611714150757"
          ]
         ],
         18,
         877532,
         9984,
         [
          "Derivatives",
          "InvestmentStock"
         ],
         "user18",
         "Name 18",
         "5782 Address Street\nCity, State 47751",
         "user18@example.com",
         false,
         [
          [
           "Bronze",
           "0df078f33aa74a2e9696e0520c1a828a",
           true,
           [
            "sports tickets"
           ]
          ],
          [
           "Bronze",
           [
            "24 hour dedicated line",
            "concierge services"
           ],
           true,
           "699456451cc24f028d2aa99d7534c219"
          ]
         ],
         9,
         [
          [
           [
            "2003-09-09T00:00:00.000+0000"
           ],
           5341,
           "sell",
           "sap",
           "93.81343328235620049327",
           "121714.11552648528595454991"
          ],
          [
           [
            "2003-09-09T00:00:00.000+0000"
           ],
           1321,
           "sell",
           "adbe",
           "95.47842222945921264454",
           "66168.88068556306825485080"
          ],
          [
           [
            "2003-09-09T00:00:00.000+0000"
           ],
           5869,
           "buy",
           "msft",
           "26.31341895918690809708",
           "74415.00310081487987190485"
          ],
          [
           [
            "2003-09-09T00:00:00.000+0000"
           ],
           1025,
           "buy",
           "adbe",
           "47.21250003755582014264",
           "16923.71099668611714150757"
          ]
         ],
         "2024-09-16 13:32:39"
        ],
        [
         11,
         516921,
         "Name 11",
         "user11@example.com",
         [
          "Derivatives",
          "InvestmentStock"
         ],
         [
          [
           [
            "2003-09-09T00:00:00.000+0000"
           ],
           4428,
           "buy",
           "sap",
           "57.35156052356850153728",
           "78342.15896420380158815533"
          ],
          [
           [
            "2003-09-09T00:00:00.000+0000"
           ],
           4111,
           "sell",
           "adbe",
           "83.70465232504771790900",
           "77930.42290560470428317785"
          ],
          [
           [
            "2003-09-09T00:00:00.000+0000"
           ],
           3074,
           "buy",
           "msft",
           "82.77305815554666423850",
           "17877.05580443565850146115"
          ],
          [
           [
            "2003-09-09T00:00:00.000+0000"
           ],
           5530,
           "buy",
           "sap",
           "42.90294413394516226390",
           "153321.79268067853990942240"
          ]
         ],
         11,
         516921,
         6293,
         [
          "Derivatives",
          "InvestmentStock"
         ],
         "user11",
         "Name 11",
         "4428 Address Street\nCity, State 13424",
         "user11@example.com",
         true,
         [
          [
           "Bronze",
           "0df078f33aa74a2e9696e0520c1a828a",
           true,
           [
            "sports tickets"
           ]
          ],
          [
           "Bronze",
           [
            "24 hour dedicated line",
            "concierge services"
           ],
           true,
           "699456451cc24f028d2aa99d7534c219"
          ]
         ],
         6,
         [
          [
           [
            "2003-09-09T00:00:00.000+0000"
           ],
           4428,
           "buy",
           "sap",
           "57.35156052356850153728",
           "78342.15896420380158815533"
          ],
          [
           [
            "2003-09-09T00:00:00.000+0000"
           ],
           4111,
           "sell",
           "adbe",
           "83.70465232504771790900",
           "77930.42290560470428317785"
          ],
          [
           [
            "2003-09-09T00:00:00.000+0000"
           ],
           3074,
           "buy",
           "msft",
           "82.77305815554666423850",
           "17877.05580443565850146115"
          ],
          [
           [
            "2003-09-09T00:00:00.000+0000"
           ],
           5530,
           "buy",
           "sap",
           "42.90294413394516226390",
           "153321.79268067853990942240"
          ]
         ],
         "2024-09-16 13:31:28"
        ],
        [
         10,
         710761,
         "Name 10",
         "user10@example.com",
         [
          "Derivatives",
          "InvestmentStock"
         ],
         [
          [
           [
            "2003-09-09T00:00:00.000+0000"
           ],
           4598,
           "buy",
           "msft",
           "97.00275717188829105453",
           "94811.95149820616643410176"
          ],
          [
           [
            "2003-09-09T00:00:00.000+0000"
           ],
           6105,
           "sell",
           "adbe",
           "50.12500512761091187031",
           "61504.83098080223862780258"
          ],
          [
           [
            "2003-09-09T00:00:00.000+0000"
           ],
           8676,
           "buy",
           "msft",
           "39.80476075102464506017",
           "42921.32684952760610030964"
          ],
          [
           [
            "2003-09-09T00:00:00.000+0000"
           ],
           6497,
           "buy",
           "sap",
           "33.78021434804605860336",
           "39877.70800312092615058646"
          ]
         ],
         10,
         710761,
         5776,
         [
          "Derivatives",
          "InvestmentStock"
         ],
         "user10",
         "Name 10",
         "6215 Address Street\nCity, State 79411",
         "user10@example.com",
         true,
         [
          [
           "Bronze",
           "0df078f33aa74a2e9696e0520c1a828a",
           true,
           [
            "sports tickets"
           ]
          ],
          [
           "Bronze",
           [
            "24 hour dedicated line",
            "concierge services"
           ],
           true,
           "699456451cc24f028d2aa99d7534c219"
          ]
         ],
         1,
         [
          [
           [
            "2003-09-09T00:00:00.000+0000"
           ],
           4598,
           "buy",
           "msft",
           "97.00275717188829105453",
           "94811.95149820616643410176"
          ],
          [
           [
            "2003-09-09T00:00:00.000+0000"
           ],
           6105,
           "sell",
           "adbe",
           "50.12500512761091187031",
           "61504.83098080223862780258"
          ],
          [
           [
            "2003-09-09T00:00:00.000+0000"
           ],
           8676,
           "buy",
           "msft",
           "39.80476075102464506017",
           "42921.32684952760610030964"
          ],
          [
           [
            "2003-09-09T00:00:00.000+0000"
           ],
           6497,
           "buy",
           "sap",
           "33.78021434804605860336",
           "39877.70800312092615058646"
          ]
         ],
         "2024-09-16 13:31:18"
        ],
        [
         19,
         458491,
         "Name 19",
         "user19@example.com",
         [
          "Derivatives",
          "InvestmentStock"
         ],
         [
          [
           [
            "2003-09-09T00:00:00.000+0000"
           ],
           6444,
           "sell",
           "msft",
           "60.01504508236588009140",
           "97939.96834752277936786413"
          ],
          [
           [
            "2003-09-09T00:00:00.000+0000"
           ],
           1592,
           "buy",
           "msft",
           "20.42555761326530472388",
           "50436.44210143076634267345"
          ],
          [
           [
            "2003-09-09T00:00:00.000+0000"
           ],
           8830,
           "sell",
           "adbe",
           "73.41813420886924745901",
           "79578.50021041551372036338"
          ],
          [
           [
            "2003-09-09T00:00:00.000+0000"
           ],
           3109,
           "sell",
           "sap",
           "77.12693861350744839456",
           "38653.50147456035483628511"
          ]
         ],
         19,
         458491,
         6944,
         [
          "Derivatives",
          "InvestmentStock"
         ],
         "user19",
         "Name 19",
         "1769 Address Street\nCity, State 33793",
         "user19@example.com",
         true,
         [
          [
           "Bronze",
           "0df078f33aa74a2e9696e0520c1a828a",
           true,
           [
            "sports tickets"
           ]
          ],
          [
           "Bronze",
           [
            "24 hour dedicated line",
            "concierge services"
           ],
           true,
           "699456451cc24f028d2aa99d7534c219"
          ]
         ],
         9,
         [
          [
           [
            "2003-09-09T00:00:00.000+0000"
           ],
           6444,
           "sell",
           "msft",
           "60.01504508236588009140",
           "97939.96834752277936786413"
          ],
          [
           [
            "2003-09-09T00:00:00.000+0000"
           ],
           1592,
           "buy",
           "msft",
           "20.42555761326530472388",
           "50436.44210143076634267345"
          ],
          [
           [
            "2003-09-09T00:00:00.000+0000"
           ],
           8830,
           "sell",
           "adbe",
           "73.41813420886924745901",
           "79578.50021041551372036338"
          ],
          [
           [
            "2003-09-09T00:00:00.000+0000"
           ],
           3109,
           "sell",
           "sap",
           "77.12693861350744839456",
           "38653.50147456035483628511"
          ]
         ],
         "2024-09-16 13:32:49"
        ],
        [
         17,
         564610,
         "Name 17",
         "user17@example.com",
         [
          "Derivatives",
          "InvestmentStock"
         ],
         [
          [
           [
            "2003-09-09T00:00:00.000+0000"
           ],
           1144,
           "buy",
           "sap",
           "58.84318210510243574163",
           "172876.57626284728758037090"
          ],
          [
           [
            "2003-09-09T00:00:00.000+0000"
           ],
           5036,
           "sell",
           "msft",
           "12.72993662551035320973",
           "142237.54796342787449248135"
          ],
          [
           [
            "2003-09-09T00:00:00.000+0000"
           ],
           8902,
           "sell",
           "msft",
           "59.97696351403897097043",
           "146939.41589117734110914171"
          ],
          [
           [
            "2003-09-09T00:00:00.000+0000"
           ],
           9093,
           "buy",
           "sap",
           "18.29094576213286416078",
           "182711.17060213070362806320"
          ]
         ],
         17,
         564610,
         7906,
         [
          "Derivatives",
          "InvestmentStock"
         ],
         "user17",
         "Name 17",
         "7308 Address Street\nCity, State 76910",
         "user17@example.com",
         false,
         [
          [
           "Bronze",
           "0df078f33aa74a2e9696e0520c1a828a",
           true,
           [
            "sports tickets"
           ]
          ],
          [
           "Bronze",
           [
            "24 hour dedicated line",
            "concierge services"
           ],
           true,
           "699456451cc24f028d2aa99d7534c219"
          ]
         ],
         2,
         [
          [
           [
            "2003-09-09T00:00:00.000+0000"
           ],
           1144,
           "buy",
           "sap",
           "58.84318210510243574163",
           "172876.57626284728758037090"
          ],
          [
           [
            "2003-09-09T00:00:00.000+0000"
           ],
           5036,
           "sell",
           "msft",
           "12.72993662551035320973",
           "142237.54796342787449248135"
          ],
          [
           [
            "2003-09-09T00:00:00.000+0000"
           ],
           8902,
           "sell",
           "msft",
           "59.97696351403897097043",
           "146939.41589117734110914171"
          ],
          [
           [
            "2003-09-09T00:00:00.000+0000"
           ],
           9093,
           "buy",
           "sap",
           "18.29094576213286416078",
           "182711.17060213070362806320"
          ]
         ],
         "2024-09-16 13:32:29"
        ],
        [
         13,
         697785,
         "Name 13",
         "user13@example.com",
         [
          "Derivatives",
          "InvestmentStock"
         ],
         [
          [
           [
            "2003-09-09T00:00:00.000+0000"
           ],
           1759,
           "buy",
           "adbe",
           "54.64340870302773822687",
           "97818.69475430114835035056"
          ],
          [
           [
            "2003-09-09T00:00:00.000+0000"
           ],
           7317,
           "sell",
           "team",
           "92.18402912371045943019",
           "155031.63420887131360359490"
          ],
          [
           [
            "2003-09-09T00:00:00.000+0000"
           ],
           3939,
           "buy",
           "adbe",
           "47.54763000709779419140",
           "67372.07298207332496531308"
          ]
         ],
         13,
         697785,
         7244,
         [
          "Derivatives",
          "InvestmentStock"
         ],
         "user13",
         "Name 13",
         "7467 Address Street\nCity, State 12462",
         "user13@example.com",
         true,
         [
          [
           "Bronze",
           "0df078f33aa74a2e9696e0520c1a828a",
           true,
           [
            "sports tickets"
           ]
          ],
          [
           "Bronze",
           [
            "24 hour dedicated line",
            "concierge services"
           ],
           true,
           "699456451cc24f028d2aa99d7534c219"
          ]
         ],
         4,
         [
          [
           [
            "2003-09-09T00:00:00.000+0000"
           ],
           1759,
           "buy",
           "adbe",
           "54.64340870302773822687",
           "97818.69475430114835035056"
          ],
          [
           [
            "2003-09-09T00:00:00.000+0000"
           ],
           7317,
           "sell",
           "team",
           "92.18402912371045943019",
           "155031.63420887131360359490"
          ],
          [
           [
            "2003-09-09T00:00:00.000+0000"
           ],
           3939,
           "buy",
           "adbe",
           "47.54763000709779419140",
           "67372.07298207332496531308"
          ]
         ],
         "2024-09-16 13:31:49"
        ],
        [
         20,
         715843,
         "Name 20",
         "user20@example.com",
         [
          "Derivatives",
          "InvestmentStock"
         ],
         [
          [
           [
            "2003-09-09T00:00:00.000+0000"
           ],
           7953,
           "buy",
           "team",
           "78.52598793588322223513",
           "67275.42819512059213593602"
          ],
          [
           [
            "2003-09-09T00:00:00.000+0000"
           ],
           3918,
           "buy",
           "msft",
           "70.83468699291989878475",
           "118635.57435199010069482028"
          ],
          [
           [
            "2003-09-09T00:00:00.000+0000"
           ],
           1254,
           "buy",
           "msft",
           "59.93730484331764785111",
           "86228.51616160180128645152"
          ]
         ],
         20,
         715843,
         6219,
         [
          "Derivatives",
          "InvestmentStock"
         ],
         "user20",
         "Name 20",
         "9638 Address Street\nCity, State 97940",
         "user20@example.com",
         true,
         [
          [
           "Bronze",
           "0df078f33aa74a2e9696e0520c1a828a",
           true,
           [
            "sports tickets"
           ]
          ],
          [
           "Bronze",
           [
            "24 hour dedicated line",
            "concierge services"
           ],
           true,
           "699456451cc24f028d2aa99d7534c219"
          ]
         ],
         9,
         [
          [
           [
            "2003-09-09T00:00:00.000+0000"
           ],
           7953,
           "buy",
           "team",
           "78.52598793588322223513",
           "67275.42819512059213593602"
          ],
          [
           [
            "2003-09-09T00:00:00.000+0000"
           ],
           3918,
           "buy",
           "msft",
           "70.83468699291989878475",
           "118635.57435199010069482028"
          ],
          [
           [
            "2003-09-09T00:00:00.000+0000"
           ],
           1254,
           "buy",
           "msft",
           "59.93730484331764785111",
           "86228.51616160180128645152"
          ]
         ],
         "2024-09-16 13:32:59"
        ],
        [
         2,
         798663,
         "Name 2",
         "user2@example.com",
         [
          "Derivatives",
          "InvestmentStock"
         ],
         [
          [
           [
            "2003-09-09T00:00:00.000+0000"
           ],
           1806,
           "buy",
           "sap",
           "32.26220927294741613878",
           "177784.84620206980616785586"
          ],
          [
           [
            "2003-09-09T00:00:00.000+0000"
           ],
           9511,
           "buy",
           "sap",
           "61.20478161757444013347",
           "146343.89646978591918013990"
          ]
         ],
         2,
         798663,
         5508,
         [
          "Derivatives",
          "InvestmentStock"
         ],
         "user2",
         "Name 2",
         "2446 Address Street\nCity, State 60347",
         "user2@example.com",
         false,
         [
          [
           "Bronze",
           "0df078f33aa74a2e9696e0520c1a828a",
           true,
           [
            "sports tickets"
           ]
          ],
          [
           "Bronze",
           [
            "24 hour dedicated line",
            "concierge services"
           ],
           true,
           "699456451cc24f028d2aa99d7534c219"
          ]
         ],
         4,
         [
          [
           [
            "2003-09-09T00:00:00.000+0000"
           ],
           1806,
           "buy",
           "sap",
           "32.26220927294741613878",
           "177784.84620206980616785586"
          ],
          [
           [
            "2003-09-09T00:00:00.000+0000"
           ],
           9511,
           "buy",
           "sap",
           "61.20478161757444013347",
           "146343.89646978591918013990"
          ]
         ],
         "2024-09-16 13:29:57"
        ],
        [
         4,
         900650,
         "Name 4",
         "user4@example.com",
         [
          "Derivatives",
          "InvestmentStock"
         ],
         [
          [
           [
            "2003-09-09T00:00:00.000+0000"
           ],
           1201,
           "buy",
           "adbe",
           "36.75711471553837839110",
           "78799.85879699424549471587"
          ],
          [
           [
            "2003-09-09T00:00:00.000+0000"
           ],
           9869,
           "buy",
           "team",
           "15.86729073710625570470",
           "13496.01666612100052589085"
          ]
         ],
         4,
         900650,
         9413,
         [
          "Derivatives",
          "InvestmentStock"
         ],
         "user4",
         "Name 4",
         "2361 Address Street\nCity, State 43351",
         "user4@example.com",
         false,
         [
          [
           "Bronze",
           "0df078f33aa74a2e9696e0520c1a828a",
           true,
           [
            "sports tickets"
           ]
          ],
          [
           "Bronze",
           [
            "24 hour dedicated line",
            "concierge services"
           ],
           true,
           "699456451cc24f028d2aa99d7534c219"
          ]
         ],
         4,
         [
          [
           [
            "2003-09-09T00:00:00.000+0000"
           ],
           1201,
           "buy",
           "adbe",
           "36.75711471553837839110",
           "78799.85879699424549471587"
          ],
          [
           [
            "2003-09-09T00:00:00.000+0000"
           ],
           9869,
           "buy",
           "team",
           "15.86729073710625570470",
           "13496.01666612100052589085"
          ]
         ],
         "2024-09-16 13:30:18"
        ],
        [
         16,
         174388,
         "Lina Smith",
         "user16@example.com",
         [
          "Derivatives",
          "InvestmentStock"
         ],
         [
          [
           [
            "2003-09-09T00:00:00.000+0000"
           ],
           7557,
           "sell",
           "sap",
           "38.23946785946582593851",
           "45847.95631305879942374304"
          ]
         ],
         16,
         174388,
         9969,
         [
          "Derivatives",
          "InvestmentStock"
         ],
         "user16",
         "Lina Smith",
         "3488 Address Street\nCity, State 74239",
         "user16@example.com",
         false,
         [
          [
           "Bronze",
           "0df078f33aa74a2e9696e0520c1a828a",
           true,
           [
            "sports tickets"
           ]
          ],
          [
           "Bronze",
           [
            "24 hour dedicated line",
            "concierge services"
           ],
           true,
           "699456451cc24f028d2aa99d7534c219"
          ]
         ],
         10,
         [
          [
           [
            "2003-09-09T00:00:00.000+0000"
           ],
           7557,
           "sell",
           "sap",
           "38.23946785946582593851",
           "45847.95631305879942374304"
          ]
         ],
         "2024-09-16 13:32:19"
        ],
        [
         9,
         293047,
         "Tom Tayler",
         "user9@example.com",
         [
          "Derivatives",
          "InvestmentStock"
         ],
         [
          [
           [
            "2003-09-09T00:00:00.000+0000"
           ],
           5468,
           "sell",
           "sap",
           "76.54828905931904614590",
           "144298.99710163468262180686"
          ]
         ],
         9,
         293047,
         8268,
         [
          "Derivatives",
          "InvestmentStock"
         ],
         "user9",
         "Tom Tayler",
         "8430 Address Street\nCity, State 45065",
         "user9@example.com",
         true,
         [
          [
           "Bronze",
           "0df078f33aa74a2e9696e0520c1a828a",
           true,
           [
            "sports tickets"
           ]
          ],
          [
           "Bronze",
           [
            "24 hour dedicated line",
            "concierge services"
           ],
           true,
           "699456451cc24f028d2aa99d7534c219"
          ]
         ],
         6,
         [
          [
           [
            "2003-09-09T00:00:00.000+0000"
           ],
           5468,
           "sell",
           "sap",
           "76.54828905931904614590",
           "144298.99710163468262180686"
          ]
         ],
         "2024-09-16 13:31:08"
        ],
        [
         14,
         408581,
         "Alan Lee",
         "user14@example.com",
         [
          "Derivatives",
          "InvestmentStock"
         ],
         [
          [
           [
            "2003-09-09T00:00:00.000+0000"
           ],
           5083,
           "buy",
           "msft",
           "59.83689844673048696677",
           "112308.40918843276449479163"
          ]
         ],
         14,
         408581,
         6434,
         [
          "Derivatives",
          "InvestmentStock"
         ],
         "user14",
         "Alan Lee",
         "2488 Address Street\nCity, State 82492",
         "user14@example.com",
         true,
         [
          [
           "Bronze",
           "0df078f33aa74a2e9696e0520c1a828a",
           true,
           [
            "sports tickets"
           ]
          ],
          [
           "Bronze",
           [
            "24 hour dedicated line",
            "concierge services"
           ],
           true,
           "699456451cc24f028d2aa99d7534c219"
          ]
         ],
         1,
         [
          [
           [
            "2003-09-09T00:00:00.000+0000"
           ],
           5083,
           "buy",
           "msft",
           "59.83689844673048696677",
           "112308.40918843276449479163"
          ]
         ],
         "2024-09-16 13:31:59"
        ],
        [
         12,
         941485,
         "Name 12",
         "user12@example.com",
         [
          "Derivatives",
          "InvestmentStock"
         ],
         [
          [
           [
            "2003-09-09T00:00:00.000+0000"
           ],
           6170,
           "sell",
           "adbe",
           "50.66012834959665411816",
           "43951.32860177059046691284"
          ]
         ],
         12,
         941485,
         8358,
         [
          "Derivatives",
          "InvestmentStock"
         ],
         "user12",
         "Name 12",
         "8924 Address Street\nCity, State 93815",
         "user12@example.com",
         true,
         [
          [
           "Bronze",
           "0df078f33aa74a2e9696e0520c1a828a",
           true,
           [
            "sports tickets"
           ]
          ],
          [
           "Bronze",
           [
            "24 hour dedicated line",
            "concierge services"
           ],
           true,
           "699456451cc24f028d2aa99d7534c219"
          ]
         ],
         4,
         [
          [
           [
            "2003-09-09T00:00:00.000+0000"
           ],
           6170,
           "sell",
           "adbe",
           "50.66012834959665411816",
           "43951.32860177059046691284"
          ]
         ],
         "2024-09-16 13:31:39"
        ],
        [
         7,
         812181,
         "Name 7",
         "user7@example.com",
         [
          "Derivatives",
          "InvestmentStock"
         ],
         [
          [
           [
            "2003-09-09T00:00:00.000+0000"
           ],
           1860,
           "sell",
           "msft",
           "69.21162298191629247412",
           "58382.94378920970484614372"
          ]
         ],
         7,
         812181,
         5668,
         [
          "Derivatives",
          "InvestmentStock"
         ],
         "user7",
         "Name 7",
         "4701 Address Street\nCity, State 54110",
         "user7@example.com",
         true,
         [
          [
           "Bronze",
           "0df078f33aa74a2e9696e0520c1a828a",
           true,
           [
            "sports tickets"
           ]
          ],
          [
           "Bronze",
           [
            "24 hour dedicated line",
            "concierge services"
           ],
           true,
           "699456451cc24f028d2aa99d7534c219"
          ]
         ],
         4,
         [
          [
           [
            "2003-09-09T00:00:00.000+0000"
           ],
           1860,
           "sell",
           "msft",
           "69.21162298191629247412",
           "58382.94378920970484614372"
          ]
         ],
         "2024-09-16 13:30:48"
        ],
        [
         3,
         810195,
         "Name 3",
         "user3@example.com",
         [
          "Derivatives",
          "InvestmentStock"
         ],
         [
          [
           [
            "2003-09-09T00:00:00.000+0000"
           ],
           8876,
           "buy",
           "msft",
           "95.85359629821800808713",
           "21077.12627738101582508534"
          ]
         ],
         3,
         810195,
         9541,
         [
          "Derivatives",
          "InvestmentStock"
         ],
         "user3",
         "Name 3",
         "4179 Address Street\nCity, State 12097",
         "user3@example.com",
         false,
         [
          [
           "Bronze",
           "0df078f33aa74a2e9696e0520c1a828a",
           true,
           [
            "sports tickets"
           ]
          ],
          [
           "Bronze",
           [
            "24 hour dedicated line",
            "concierge services"
           ],
           true,
           "699456451cc24f028d2aa99d7534c219"
          ]
         ],
         5,
         [
          [
           [
            "2003-09-09T00:00:00.000+0000"
           ],
           8876,
           "buy",
           "msft",
           "95.85359629821800808713",
           "21077.12627738101582508534"
          ]
         ],
         "2024-09-16 13:30:07"
        ]
       ],
       "datasetInfos": [],
       "dbfsResultPath": null,
       "isJsonSchema": true,
       "metadata": {},
       "overflow": false,
       "plotOptions": {
        "customPlotOptions": {},
        "displayType": "table",
        "pivotAggregation": null,
        "pivotColumns": null,
        "xColumns": null,
        "yColumns": null
       },
       "removedWidgets": [],
       "schema": [
        {
         "metadata": "{}",
         "name": "id",
         "type": "\"integer\""
        },
        {
         "metadata": "{}",
         "name": "account_id",
         "type": "\"integer\""
        },
        {
         "metadata": "{}",
         "name": "name",
         "type": "\"string\""
        },
        {
         "metadata": "{}",
         "name": "email",
         "type": "\"string\""
        },
        {
         "metadata": "{}",
         "name": "products",
         "type": "{\"type\":\"array\",\"elementType\":\"string\",\"containsNull\":true}"
        },
        {
         "metadata": "{}",
         "name": "transactions",
         "type": "{\"type\":\"array\",\"elementType\":{\"type\":\"struct\",\"fields\":[{\"name\":\"date\",\"type\":{\"type\":\"struct\",\"fields\":[{\"name\":\"$date\",\"type\":\"timestamp\",\"nullable\":true,\"metadata\":{}}]},\"nullable\":true,\"metadata\":{}},{\"name\":\"amount\",\"type\":\"integer\",\"nullable\":true,\"metadata\":{}},{\"name\":\"transaction_code\",\"type\":\"string\",\"nullable\":true,\"metadata\":{}},{\"name\":\"symbol\",\"type\":\"string\",\"nullable\":true,\"metadata\":{}},{\"name\":\"price\",\"type\":\"string\",\"nullable\":true,\"metadata\":{}},{\"name\":\"total\",\"type\":\"string\",\"nullable\":true,\"metadata\":{}}]},\"containsNull\":true}"
        },
        {
         "metadata": "{}",
         "name": "id",
         "type": "\"integer\""
        },
        {
         "metadata": "{}",
         "name": "account_id",
         "type": "\"integer\""
        },
        {
         "metadata": "{}",
         "name": "limit",
         "type": "\"integer\""
        },
        {
         "metadata": "{}",
         "name": "products",
         "type": "{\"type\":\"array\",\"elementType\":\"string\",\"containsNull\":true}"
        },
        {
         "metadata": "{}",
         "name": "username",
         "type": "\"string\""
        },
        {
         "metadata": "{}",
         "name": "name",
         "type": "\"string\""
        },
        {
         "metadata": "{}",
         "name": "address",
         "type": "\"string\""
        },
        {
         "metadata": "{}",
         "name": "email",
         "type": "\"string\""
        },
        {
         "metadata": "{}",
         "name": "active",
         "type": "\"boolean\""
        },
        {
         "metadata": "{}",
         "name": "tier_and_details",
         "type": "{\"type\":\"struct\",\"fields\":[{\"name\":\"k\",\"type\":{\"type\":\"struct\",\"fields\":[{\"name\":\"tier\",\"type\":\"string\",\"nullable\":true,\"metadata\":{}},{\"name\":\"id\",\"type\":\"string\",\"nullable\":true,\"metadata\":{}},{\"name\":\"active\",\"type\":\"boolean\",\"nullable\":true,\"metadata\":{}},{\"name\":\"benefits\",\"type\":{\"type\":\"array\",\"elementType\":\"string\",\"containsNull\":true},\"nullable\":true,\"metadata\":{}}]},\"nullable\":true,\"metadata\":{}},{\"name\":\"v\",\"type\":{\"type\":\"struct\",\"fields\":[{\"name\":\"tier\",\"type\":\"string\",\"nullable\":true,\"metadata\":{}},{\"name\":\"benefits\",\"type\":{\"type\":\"array\",\"elementType\":\"string\",\"containsNull\":true},\"nullable\":true,\"metadata\":{}},{\"name\":\"active\",\"type\":\"boolean\",\"nullable\":true,\"metadata\":{}},{\"name\":\"id\",\"type\":\"string\",\"nullable\":true,\"metadata\":{}}]},\"nullable\":true,\"metadata\":{}}]}"
        },
        {
         "metadata": "{}",
         "name": "transaction_count",
         "type": "\"integer\""
        },
        {
         "metadata": "{}",
         "name": "transactions",
         "type": "{\"type\":\"array\",\"elementType\":{\"type\":\"struct\",\"fields\":[{\"name\":\"date\",\"type\":{\"type\":\"struct\",\"fields\":[{\"name\":\"$date\",\"type\":\"timestamp\",\"nullable\":true,\"metadata\":{}}]},\"nullable\":true,\"metadata\":{}},{\"name\":\"amount\",\"type\":\"integer\",\"nullable\":true,\"metadata\":{}},{\"name\":\"transaction_code\",\"type\":\"string\",\"nullable\":true,\"metadata\":{}},{\"name\":\"symbol\",\"type\":\"string\",\"nullable\":true,\"metadata\":{}},{\"name\":\"price\",\"type\":\"string\",\"nullable\":true,\"metadata\":{}},{\"name\":\"total\",\"type\":\"string\",\"nullable\":true,\"metadata\":{}}]},\"containsNull\":true}"
        },
        {
         "metadata": "{}",
         "name": "timestamp",
         "type": "\"string\""
        }
       ],
       "type": "table"
      }
     },
     "output_type": "display_data"
    }
   ],
   "source": [
    "%sql\n",
    "select id, account_id, name, email, products, transactions ,* from hive_metastore.transaction_silver.data;"
   ]
  },
  {
   "cell_type": "markdown",
   "metadata": {
    "application/vnd.databricks.v1+cell": {
     "cellMetadata": {
      "byteLimit": 2048000,
      "rowLimit": 10000
     },
     "inputWidgets": {},
     "nuid": "4078a144-9652-490b-adf3-348ad8780e95",
     "showTitle": false,
     "title": ""
    }
   },
   "source": [
    "#### Gold Layer"
   ]
  },
  {
   "cell_type": "code",
   "execution_count": 0,
   "metadata": {
    "application/vnd.databricks.v1+cell": {
     "cellMetadata": {
      "byteLimit": 2048000,
      "rowLimit": 10000
     },
     "inputWidgets": {},
     "nuid": "006d6309-dd21-495f-810e-166a4f45675c",
     "showTitle": false,
     "title": ""
    }
   },
   "outputs": [
    {
     "data": {
      "text/html": [
       "<style scoped>\n",
       "  .table-result-container {\n",
       "    max-height: 300px;\n",
       "    overflow: auto;\n",
       "  }\n",
       "  table, th, td {\n",
       "    border: 1px solid black;\n",
       "    border-collapse: collapse;\n",
       "  }\n",
       "  th, td {\n",
       "    padding: 5px;\n",
       "  }\n",
       "  th {\n",
       "    text-align: left;\n",
       "  }\n",
       "</style><div class='table-result-container'><table class='table-result'><thead style='background-color: white'><tr><th>id</th><th>account_id</th><th>limit</th><th>products</th><th>username</th><th>name</th><th>address</th><th>email</th><th>active</th><th>tier_and_details</th><th>transaction_count</th><th>transactions</th></tr></thead><tbody><tr><td>15</td><td>473863</td><td>10103.10</td><td>List(Derivatives, InvestmentStock)</td><td>user15</td><td>1. Name</td><td>6722 Address Street\n",
       "City, State 33476</td><td>user15@outlook.com</td><td>false</td><td>List(List(Bronze, 0df078f33aa74a2e9696e0520c1a828a, true, List(sports tickets)), List(Bronze, List(24 hour dedicated line, concierge services), true, 699456451cc24f028d2aa99d7534c219))</td><td>7</td><td>List(List(List(2003-09-09T00:00:00.000+0000), 3058, buy, team, 94.92990915764075054994, 39271.06056210178940091282), List(List(2003-09-09T00:00:00.000+0000), 3729, buy, team, 40.09606082306888197309, 94347.79102649514970835298), List(List(2003-09-09T00:00:00.000+0000), 2052, buy, sap, 91.62696617269710941400, 127792.19104422286909539253), List(List(2003-09-09T00:00:00.000+0000), 9294, buy, team, 28.39682024364125112470, 103273.58555422241624910384), List(List(2003-09-09T00:00:00.000+0000), 2776, buy, sap, 97.79604460741522586886, 169544.67132019362179562449))</td></tr><tr><td>8</td><td>379979</td><td>6844.95</td><td>List(Derivatives, InvestmentStock)</td><td>user8</td><td>M. Paul</td><td>4305 Address Street\n",
       "City, State 46006</td><td>user8@outlook.com</td><td>true</td><td>List(List(Bronze, 0df078f33aa74a2e9696e0520c1a828a, true, List(sports tickets)), List(Bronze, List(24 hour dedicated line, concierge services), true, 699456451cc24f028d2aa99d7534c219))</td><td>5</td><td>List(List(List(2003-09-09T00:00:00.000+0000), 8267, sell, adbe, 84.98809880472580857713, 172426.69711941917194053531), List(List(2003-09-09T00:00:00.000+0000), 2842, sell, msft, 69.80658334170290402199, 190126.52434571276535280049), List(List(2003-09-09T00:00:00.000+0000), 8113, buy, team, 16.79973890245459955395, 66047.92688901611836627126))</td></tr><tr><td>5</td><td>211739</td><td>7962.15</td><td>List(Derivatives, InvestmentStock)</td><td>user5</td><td>G. Nicole</td><td>8170 Address Street\n",
       "City, State 32921</td><td>user5@outlook.com</td><td>false</td><td>List(List(Bronze, 0df078f33aa74a2e9696e0520c1a828a, true, List(sports tickets)), List(Bronze, List(24 hour dedicated line, concierge services), true, 699456451cc24f028d2aa99d7534c219))</td><td>6</td><td>List(List(List(2003-09-09T00:00:00.000+0000), 1425, buy, sap, 48.52458294194532584243, 92572.21255958301480859518), List(List(2003-09-09T00:00:00.000+0000), 7072, buy, sap, 28.98272119167030780318, 184030.84967120792134664953), List(List(2003-09-09T00:00:00.000+0000), 6312, sell, team, 35.95916458774187418612, 41551.95826562136062420905), List(List(2003-09-09T00:00:00.000+0000), 9122, buy, msft, 12.70733190885479757526, 170414.62674026424065232277), List(List(2003-09-09T00:00:00.000+0000), 3704, buy, msft, 55.62482129284066445507, 49991.85292328327341238037))</td></tr><tr><td>21</td><td>804724</td><td>5981.85</td><td>List(Derivatives, InvestmentStock)</td><td>user21</td><td>2. Name</td><td>6564 Address Street\n",
       "City, State 83379</td><td>user21@outlook.com</td><td>false</td><td>List(List(Bronze, 0df078f33aa74a2e9696e0520c1a828a, true, List(sports tickets)), List(Bronze, List(24 hour dedicated line, concierge services), true, 699456451cc24f028d2aa99d7534c219))</td><td>2</td><td>List(List(List(2003-09-09T00:00:00.000+0000), 6199, sell, msft, 48.26088209436716880418, 181127.84389156341785565019), List(List(2003-09-09T00:00:00.000+0000), 7423, buy, sap, 19.29748079947471950391, 178000.19925047864671796560), List(List(2003-09-09T00:00:00.000+0000), 8745, buy, team, 14.32387467785918566676, 113572.06376228570297826082), List(List(2003-09-09T00:00:00.000+0000), 7727, buy, sap, 24.36184020644299863534, 19068.09101134972297586501), List(List(2003-09-09T00:00:00.000+0000), 2809, sell, msft, 51.99043277729765577533, 149939.17137468361761420965))</td></tr><tr><td>6</td><td>845943</td><td>7341.60</td><td>List(Derivatives, InvestmentStock)</td><td>user6</td><td>6. Name</td><td>6514 Address Street\n",
       "City, State 11296</td><td>user6@outlook.com</td><td>true</td><td>List(List(Bronze, 0df078f33aa74a2e9696e0520c1a828a, true, List(sports tickets)), List(Bronze, List(24 hour dedicated line, concierge services), true, 699456451cc24f028d2aa99d7534c219))</td><td>3</td><td>List(List(List(2003-09-09T00:00:00.000+0000), 4188, sell, team, 44.87538931088390370405, 60401.34004630072013242170), List(List(2003-09-09T00:00:00.000+0000), 4784, buy, adbe, 72.04733853726558834296, 112642.07904558011796325445), List(List(2003-09-09T00:00:00.000+0000), 3828, buy, adbe, 31.88567534909782352770, 152682.17050128529081121087), List(List(2003-09-09T00:00:00.000+0000), 7189, buy, sap, 22.78103137525743093761, 89212.35896326042711734772), List(List(2003-09-09T00:00:00.000+0000), 8987, sell, adbe, 75.79944228940667017014, 117228.76377883396344259381))</td></tr><tr><td>1</td><td>798191</td><td>6227.55</td><td>List(Derivatives, InvestmentStock)</td><td>user1</td><td>1. Name</td><td>2099 Address Street\n",
       "City, State 55999</td><td>user1@outlook.com</td><td>true</td><td>List(List(Bronze, 0df078f33aa74a2e9696e0520c1a828a, true, List(sports tickets)), List(Bronze, List(24 hour dedicated line, concierge services), true, 699456451cc24f028d2aa99d7534c219))</td><td>8</td><td>List(List(List(2003-09-09T00:00:00.000+0000), 7404, sell, team, 67.39343185165978411533, 92230.20812429944635368884), List(List(2003-09-09T00:00:00.000+0000), 5216, buy, team, 76.48759131427019042349, 93798.99476713409239891917), List(List(2003-09-09T00:00:00.000+0000), 6566, buy, adbe, 99.73360645248541800356, 88047.55063490899919997901), List(List(2003-09-09T00:00:00.000+0000), 3289, buy, team, 23.36562804215271071939, 142731.80317382083740085363), List(List(2003-09-09T00:00:00.000+0000), 6545, sell, team, 28.13161106962397539633, 176885.15399949109996668994))</td></tr><tr><td>18</td><td>877532</td><td>10483.20</td><td>List(Derivatives, InvestmentStock)</td><td>user18</td><td>1. Name</td><td>5782 Address Street\n",
       "City, State 47751</td><td>user18@outlook.com</td><td>false</td><td>List(List(Bronze, 0df078f33aa74a2e9696e0520c1a828a, true, List(sports tickets)), List(Bronze, List(24 hour dedicated line, concierge services), true, 699456451cc24f028d2aa99d7534c219))</td><td>9</td><td>List(List(List(2003-09-09T00:00:00.000+0000), 5341, sell, sap, 93.81343328235620049327, 121714.11552648528595454991), List(List(2003-09-09T00:00:00.000+0000), 1321, sell, adbe, 95.47842222945921264454, 66168.88068556306825485080), List(List(2003-09-09T00:00:00.000+0000), 5869, buy, msft, 26.31341895918690809708, 74415.00310081487987190485), List(List(2003-09-09T00:00:00.000+0000), 1025, buy, adbe, 47.21250003755582014264, 16923.71099668611714150757))</td></tr><tr><td>11</td><td>516921</td><td>6607.65</td><td>List(Derivatives, InvestmentStock)</td><td>user11</td><td>1. Name</td><td>4428 Address Street\n",
       "City, State 13424</td><td>user11@outlook.com</td><td>true</td><td>List(List(Bronze, 0df078f33aa74a2e9696e0520c1a828a, true, List(sports tickets)), List(Bronze, List(24 hour dedicated line, concierge services), true, 699456451cc24f028d2aa99d7534c219))</td><td>6</td><td>List(List(List(2003-09-09T00:00:00.000+0000), 4428, buy, sap, 57.35156052356850153728, 78342.15896420380158815533), List(List(2003-09-09T00:00:00.000+0000), 4111, sell, adbe, 83.70465232504771790900, 77930.42290560470428317785), List(List(2003-09-09T00:00:00.000+0000), 3074, buy, msft, 82.77305815554666423850, 17877.05580443565850146115), List(List(2003-09-09T00:00:00.000+0000), 5530, buy, sap, 42.90294413394516226390, 153321.79268067853990942240))</td></tr><tr><td>10</td><td>710761</td><td>6064.80</td><td>List(Derivatives, InvestmentStock)</td><td>user10</td><td>1. Name</td><td>6215 Address Street\n",
       "City, State 79411</td><td>user10@outlook.com</td><td>true</td><td>List(List(Bronze, 0df078f33aa74a2e9696e0520c1a828a, true, List(sports tickets)), List(Bronze, List(24 hour dedicated line, concierge services), true, 699456451cc24f028d2aa99d7534c219))</td><td>1</td><td>List(List(List(2003-09-09T00:00:00.000+0000), 4598, buy, msft, 97.00275717188829105453, 94811.95149820616643410176), List(List(2003-09-09T00:00:00.000+0000), 6105, sell, adbe, 50.12500512761091187031, 61504.83098080223862780258), List(List(2003-09-09T00:00:00.000+0000), 8676, buy, msft, 39.80476075102464506017, 42921.32684952760610030964), List(List(2003-09-09T00:00:00.000+0000), 6497, buy, sap, 33.78021434804605860336, 39877.70800312092615058646))</td></tr><tr><td>19</td><td>458491</td><td>7291.20</td><td>List(Derivatives, InvestmentStock)</td><td>user19</td><td>1. Name</td><td>1769 Address Street\n",
       "City, State 33793</td><td>user19@outlook.com</td><td>true</td><td>List(List(Bronze, 0df078f33aa74a2e9696e0520c1a828a, true, List(sports tickets)), List(Bronze, List(24 hour dedicated line, concierge services), true, 699456451cc24f028d2aa99d7534c219))</td><td>9</td><td>List(List(List(2003-09-09T00:00:00.000+0000), 6444, sell, msft, 60.01504508236588009140, 97939.96834752277936786413), List(List(2003-09-09T00:00:00.000+0000), 1592, buy, msft, 20.42555761326530472388, 50436.44210143076634267345), List(List(2003-09-09T00:00:00.000+0000), 8830, sell, adbe, 73.41813420886924745901, 79578.50021041551372036338), List(List(2003-09-09T00:00:00.000+0000), 3109, sell, sap, 77.12693861350744839456, 38653.50147456035483628511))</td></tr><tr><td>17</td><td>564610</td><td>8301.30</td><td>List(Derivatives, InvestmentStock)</td><td>user17</td><td>1. Name</td><td>7308 Address Street\n",
       "City, State 76910</td><td>user17@outlook.com</td><td>false</td><td>List(List(Bronze, 0df078f33aa74a2e9696e0520c1a828a, true, List(sports tickets)), List(Bronze, List(24 hour dedicated line, concierge services), true, 699456451cc24f028d2aa99d7534c219))</td><td>2</td><td>List(List(List(2003-09-09T00:00:00.000+0000), 1144, buy, sap, 58.84318210510243574163, 172876.57626284728758037090), List(List(2003-09-09T00:00:00.000+0000), 5036, sell, msft, 12.72993662551035320973, 142237.54796342787449248135), List(List(2003-09-09T00:00:00.000+0000), 8902, sell, msft, 59.97696351403897097043, 146939.41589117734110914171), List(List(2003-09-09T00:00:00.000+0000), 9093, buy, sap, 18.29094576213286416078, 182711.17060213070362806320))</td></tr><tr><td>13</td><td>697785</td><td>7606.20</td><td>List(Derivatives, InvestmentStock)</td><td>user13</td><td>1. Name</td><td>7467 Address Street\n",
       "City, State 12462</td><td>user13@outlook.com</td><td>true</td><td>List(List(Bronze, 0df078f33aa74a2e9696e0520c1a828a, true, List(sports tickets)), List(Bronze, List(24 hour dedicated line, concierge services), true, 699456451cc24f028d2aa99d7534c219))</td><td>4</td><td>List(List(List(2003-09-09T00:00:00.000+0000), 1759, buy, adbe, 54.64340870302773822687, 97818.69475430114835035056), List(List(2003-09-09T00:00:00.000+0000), 7317, sell, team, 92.18402912371045943019, 155031.63420887131360359490), List(List(2003-09-09T00:00:00.000+0000), 3939, buy, adbe, 47.54763000709779419140, 67372.07298207332496531308))</td></tr><tr><td>20</td><td>715843</td><td>6529.95</td><td>List(Derivatives, InvestmentStock)</td><td>user20</td><td>2. Name</td><td>9638 Address Street\n",
       "City, State 97940</td><td>user20@outlook.com</td><td>true</td><td>List(List(Bronze, 0df078f33aa74a2e9696e0520c1a828a, true, List(sports tickets)), List(Bronze, List(24 hour dedicated line, concierge services), true, 699456451cc24f028d2aa99d7534c219))</td><td>9</td><td>List(List(List(2003-09-09T00:00:00.000+0000), 7953, buy, team, 78.52598793588322223513, 67275.42819512059213593602), List(List(2003-09-09T00:00:00.000+0000), 3918, buy, msft, 70.83468699291989878475, 118635.57435199010069482028), List(List(2003-09-09T00:00:00.000+0000), 1254, buy, msft, 59.93730484331764785111, 86228.51616160180128645152))</td></tr><tr><td>2</td><td>798663</td><td>5783.40</td><td>List(Derivatives, InvestmentStock)</td><td>user2</td><td>2. Name</td><td>2446 Address Street\n",
       "City, State 60347</td><td>user2@outlook.com</td><td>false</td><td>List(List(Bronze, 0df078f33aa74a2e9696e0520c1a828a, true, List(sports tickets)), List(Bronze, List(24 hour dedicated line, concierge services), true, 699456451cc24f028d2aa99d7534c219))</td><td>4</td><td>List(List(List(2003-09-09T00:00:00.000+0000), 1806, buy, sap, 32.26220927294741613878, 177784.84620206980616785586), List(List(2003-09-09T00:00:00.000+0000), 9511, buy, sap, 61.20478161757444013347, 146343.89646978591918013990))</td></tr><tr><td>4</td><td>900650</td><td>9883.65</td><td>List(Derivatives, InvestmentStock)</td><td>user4</td><td>4. Name</td><td>2361 Address Street\n",
       "City, State 43351</td><td>user4@outlook.com</td><td>false</td><td>List(List(Bronze, 0df078f33aa74a2e9696e0520c1a828a, true, List(sports tickets)), List(Bronze, List(24 hour dedicated line, concierge services), true, 699456451cc24f028d2aa99d7534c219))</td><td>4</td><td>List(List(List(2003-09-09T00:00:00.000+0000), 1201, buy, adbe, 36.75711471553837839110, 78799.85879699424549471587), List(List(2003-09-09T00:00:00.000+0000), 9869, buy, team, 15.86729073710625570470, 13496.01666612100052589085))</td></tr><tr><td>16</td><td>174388</td><td>10467.45</td><td>List(Derivatives, InvestmentStock)</td><td>user16</td><td>S. Lina</td><td>3488 Address Street\n",
       "City, State 74239</td><td>user16@outlook.com</td><td>false</td><td>List(List(Bronze, 0df078f33aa74a2e9696e0520c1a828a, true, List(sports tickets)), List(Bronze, List(24 hour dedicated line, concierge services), true, 699456451cc24f028d2aa99d7534c219))</td><td>10</td><td>List(List(List(2003-09-09T00:00:00.000+0000), 7557, sell, sap, 38.23946785946582593851, 45847.95631305879942374304))</td></tr><tr><td>9</td><td>293047</td><td>8681.40</td><td>List(Derivatives, InvestmentStock)</td><td>user9</td><td>T. Tom</td><td>8430 Address Street\n",
       "City, State 45065</td><td>user9@outlook.com</td><td>true</td><td>List(List(Bronze, 0df078f33aa74a2e9696e0520c1a828a, true, List(sports tickets)), List(Bronze, List(24 hour dedicated line, concierge services), true, 699456451cc24f028d2aa99d7534c219))</td><td>6</td><td>List(List(List(2003-09-09T00:00:00.000+0000), 5468, sell, sap, 76.54828905931904614590, 144298.99710163468262180686))</td></tr><tr><td>14</td><td>408581</td><td>6755.70</td><td>List(Derivatives, InvestmentStock)</td><td>user14</td><td>L. Alan</td><td>2488 Address Street\n",
       "City, State 82492</td><td>user14@outlook.com</td><td>true</td><td>List(List(Bronze, 0df078f33aa74a2e9696e0520c1a828a, true, List(sports tickets)), List(Bronze, List(24 hour dedicated line, concierge services), true, 699456451cc24f028d2aa99d7534c219))</td><td>1</td><td>List(List(List(2003-09-09T00:00:00.000+0000), 5083, buy, msft, 59.83689844673048696677, 112308.40918843276449479163))</td></tr><tr><td>12</td><td>941485</td><td>8775.90</td><td>List(Derivatives, InvestmentStock)</td><td>user12</td><td>1. Name</td><td>8924 Address Street\n",
       "City, State 93815</td><td>user12@outlook.com</td><td>true</td><td>List(List(Bronze, 0df078f33aa74a2e9696e0520c1a828a, true, List(sports tickets)), List(Bronze, List(24 hour dedicated line, concierge services), true, 699456451cc24f028d2aa99d7534c219))</td><td>4</td><td>List(List(List(2003-09-09T00:00:00.000+0000), 6170, sell, adbe, 50.66012834959665411816, 43951.32860177059046691284))</td></tr><tr><td>7</td><td>812181</td><td>5951.40</td><td>List(Derivatives, InvestmentStock)</td><td>user7</td><td>7. Name</td><td>4701 Address Street\n",
       "City, State 54110</td><td>user7@outlook.com</td><td>true</td><td>List(List(Bronze, 0df078f33aa74a2e9696e0520c1a828a, true, List(sports tickets)), List(Bronze, List(24 hour dedicated line, concierge services), true, 699456451cc24f028d2aa99d7534c219))</td><td>4</td><td>List(List(List(2003-09-09T00:00:00.000+0000), 1860, sell, msft, 69.21162298191629247412, 58382.94378920970484614372))</td></tr><tr><td>3</td><td>810195</td><td>10018.05</td><td>List(Derivatives, InvestmentStock)</td><td>user3</td><td>3. Name</td><td>4179 Address Street\n",
       "City, State 12097</td><td>user3@outlook.com</td><td>false</td><td>List(List(Bronze, 0df078f33aa74a2e9696e0520c1a828a, true, List(sports tickets)), List(Bronze, List(24 hour dedicated line, concierge services), true, 699456451cc24f028d2aa99d7534c219))</td><td>5</td><td>List(List(List(2003-09-09T00:00:00.000+0000), 8876, buy, msft, 95.85359629821800808713, 21077.12627738101582508534))</td></tr></tbody></table></div>"
      ]
     },
     "metadata": {
      "application/vnd.databricks.v1+output": {
       "addedWidgets": {},
       "aggData": [],
       "aggError": "",
       "aggOverflow": false,
       "aggSchema": [],
       "aggSeriesLimitReached": false,
       "aggType": "",
       "arguments": {},
       "columnCustomDisplayInfos": {},
       "data": [
        [
         15,
         473863,
         "10103.10",
         [
          "Derivatives",
          "InvestmentStock"
         ],
         "user15",
         "1. Name",
         "6722 Address Street\nCity, State 33476",
         "user15@outlook.com",
         false,
         [
          [
           "Bronze",
           "0df078f33aa74a2e9696e0520c1a828a",
           true,
           [
            "sports tickets"
           ]
          ],
          [
           "Bronze",
           [
            "24 hour dedicated line",
            "concierge services"
           ],
           true,
           "699456451cc24f028d2aa99d7534c219"
          ]
         ],
         7,
         [
          [
           [
            "2003-09-09T00:00:00.000+0000"
           ],
           3058,
           "buy",
           "team",
           "94.92990915764075054994",
           "39271.06056210178940091282"
          ],
          [
           [
            "2003-09-09T00:00:00.000+0000"
           ],
           3729,
           "buy",
           "team",
           "40.09606082306888197309",
           "94347.79102649514970835298"
          ],
          [
           [
            "2003-09-09T00:00:00.000+0000"
           ],
           2052,
           "buy",
           "sap",
           "91.62696617269710941400",
           "127792.19104422286909539253"
          ],
          [
           [
            "2003-09-09T00:00:00.000+0000"
           ],
           9294,
           "buy",
           "team",
           "28.39682024364125112470",
           "103273.58555422241624910384"
          ],
          [
           [
            "2003-09-09T00:00:00.000+0000"
           ],
           2776,
           "buy",
           "sap",
           "97.79604460741522586886",
           "169544.67132019362179562449"
          ]
         ]
        ],
        [
         8,
         379979,
         "6844.95",
         [
          "Derivatives",
          "InvestmentStock"
         ],
         "user8",
         "M. Paul",
         "4305 Address Street\nCity, State 46006",
         "user8@outlook.com",
         true,
         [
          [
           "Bronze",
           "0df078f33aa74a2e9696e0520c1a828a",
           true,
           [
            "sports tickets"
           ]
          ],
          [
           "Bronze",
           [
            "24 hour dedicated line",
            "concierge services"
           ],
           true,
           "699456451cc24f028d2aa99d7534c219"
          ]
         ],
         5,
         [
          [
           [
            "2003-09-09T00:00:00.000+0000"
           ],
           8267,
           "sell",
           "adbe",
           "84.98809880472580857713",
           "172426.69711941917194053531"
          ],
          [
           [
            "2003-09-09T00:00:00.000+0000"
           ],
           2842,
           "sell",
           "msft",
           "69.80658334170290402199",
           "190126.52434571276535280049"
          ],
          [
           [
            "2003-09-09T00:00:00.000+0000"
           ],
           8113,
           "buy",
           "team",
           "16.79973890245459955395",
           "66047.92688901611836627126"
          ]
         ]
        ],
        [
         5,
         211739,
         "7962.15",
         [
          "Derivatives",
          "InvestmentStock"
         ],
         "user5",
         "G. Nicole",
         "8170 Address Street\nCity, State 32921",
         "user5@outlook.com",
         false,
         [
          [
           "Bronze",
           "0df078f33aa74a2e9696e0520c1a828a",
           true,
           [
            "sports tickets"
           ]
          ],
          [
           "Bronze",
           [
            "24 hour dedicated line",
            "concierge services"
           ],
           true,
           "699456451cc24f028d2aa99d7534c219"
          ]
         ],
         6,
         [
          [
           [
            "2003-09-09T00:00:00.000+0000"
           ],
           1425,
           "buy",
           "sap",
           "48.52458294194532584243",
           "92572.21255958301480859518"
          ],
          [
           [
            "2003-09-09T00:00:00.000+0000"
           ],
           7072,
           "buy",
           "sap",
           "28.98272119167030780318",
           "184030.84967120792134664953"
          ],
          [
           [
            "2003-09-09T00:00:00.000+0000"
           ],
           6312,
           "sell",
           "team",
           "35.95916458774187418612",
           "41551.95826562136062420905"
          ],
          [
           [
            "2003-09-09T00:00:00.000+0000"
           ],
           9122,
           "buy",
           "msft",
           "12.70733190885479757526",
           "170414.62674026424065232277"
          ],
          [
           [
            "2003-09-09T00:00:00.000+0000"
           ],
           3704,
           "buy",
           "msft",
           "55.62482129284066445507",
           "49991.85292328327341238037"
          ]
         ]
        ],
        [
         21,
         804724,
         "5981.85",
         [
          "Derivatives",
          "InvestmentStock"
         ],
         "user21",
         "2. Name",
         "6564 Address Street\nCity, State 83379",
         "user21@outlook.com",
         false,
         [
          [
           "Bronze",
           "0df078f33aa74a2e9696e0520c1a828a",
           true,
           [
            "sports tickets"
           ]
          ],
          [
           "Bronze",
           [
            "24 hour dedicated line",
            "concierge services"
           ],
           true,
           "699456451cc24f028d2aa99d7534c219"
          ]
         ],
         2,
         [
          [
           [
            "2003-09-09T00:00:00.000+0000"
           ],
           6199,
           "sell",
           "msft",
           "48.26088209436716880418",
           "181127.84389156341785565019"
          ],
          [
           [
            "2003-09-09T00:00:00.000+0000"
           ],
           7423,
           "buy",
           "sap",
           "19.29748079947471950391",
           "178000.19925047864671796560"
          ],
          [
           [
            "2003-09-09T00:00:00.000+0000"
           ],
           8745,
           "buy",
           "team",
           "14.32387467785918566676",
           "113572.06376228570297826082"
          ],
          [
           [
            "2003-09-09T00:00:00.000+0000"
           ],
           7727,
           "buy",
           "sap",
           "24.36184020644299863534",
           "19068.09101134972297586501"
          ],
          [
           [
            "2003-09-09T00:00:00.000+0000"
           ],
           2809,
           "sell",
           "msft",
           "51.99043277729765577533",
           "149939.17137468361761420965"
          ]
         ]
        ],
        [
         6,
         845943,
         "7341.60",
         [
          "Derivatives",
          "InvestmentStock"
         ],
         "user6",
         "6. Name",
         "6514 Address Street\nCity, State 11296",
         "user6@outlook.com",
         true,
         [
          [
           "Bronze",
           "0df078f33aa74a2e9696e0520c1a828a",
           true,
           [
            "sports tickets"
           ]
          ],
          [
           "Bronze",
           [
            "24 hour dedicated line",
            "concierge services"
           ],
           true,
           "699456451cc24f028d2aa99d7534c219"
          ]
         ],
         3,
         [
          [
           [
            "2003-09-09T00:00:00.000+0000"
           ],
           4188,
           "sell",
           "team",
           "44.87538931088390370405",
           "60401.34004630072013242170"
          ],
          [
           [
            "2003-09-09T00:00:00.000+0000"
           ],
           4784,
           "buy",
           "adbe",
           "72.04733853726558834296",
           "112642.07904558011796325445"
          ],
          [
           [
            "2003-09-09T00:00:00.000+0000"
           ],
           3828,
           "buy",
           "adbe",
           "31.88567534909782352770",
           "152682.17050128529081121087"
          ],
          [
           [
            "2003-09-09T00:00:00.000+0000"
           ],
           7189,
           "buy",
           "sap",
           "22.78103137525743093761",
           "89212.35896326042711734772"
          ],
          [
           [
            "2003-09-09T00:00:00.000+0000"
           ],
           8987,
           "sell",
           "adbe",
           "75.79944228940667017014",
           "117228.76377883396344259381"
          ]
         ]
        ],
        [
         1,
         798191,
         "6227.55",
         [
          "Derivatives",
          "InvestmentStock"
         ],
         "user1",
         "1. Name",
         "2099 Address Street\nCity, State 55999",
         "user1@outlook.com",
         true,
         [
          [
           "Bronze",
           "0df078f33aa74a2e9696e0520c1a828a",
           true,
           [
            "sports tickets"
           ]
          ],
          [
           "Bronze",
           [
            "24 hour dedicated line",
            "concierge services"
           ],
           true,
           "699456451cc24f028d2aa99d7534c219"
          ]
         ],
         8,
         [
          [
           [
            "2003-09-09T00:00:00.000+0000"
           ],
           7404,
           "sell",
           "team",
           "67.39343185165978411533",
           "92230.20812429944635368884"
          ],
          [
           [
            "2003-09-09T00:00:00.000+0000"
           ],
           5216,
           "buy",
           "team",
           "76.48759131427019042349",
           "93798.99476713409239891917"
          ],
          [
           [
            "2003-09-09T00:00:00.000+0000"
           ],
           6566,
           "buy",
           "adbe",
           "99.73360645248541800356",
           "88047.55063490899919997901"
          ],
          [
           [
            "2003-09-09T00:00:00.000+0000"
           ],
           3289,
           "buy",
           "team",
           "23.36562804215271071939",
           "142731.80317382083740085363"
          ],
          [
           [
            "2003-09-09T00:00:00.000+0000"
           ],
           6545,
           "sell",
           "team",
           "28.13161106962397539633",
           "176885.15399949109996668994"
          ]
         ]
        ],
        [
         18,
         877532,
         "10483.20",
         [
          "Derivatives",
          "InvestmentStock"
         ],
         "user18",
         "1. Name",
         "5782 Address Street\nCity, State 47751",
         "user18@outlook.com",
         false,
         [
          [
           "Bronze",
           "0df078f33aa74a2e9696e0520c1a828a",
           true,
           [
            "sports tickets"
           ]
          ],
          [
           "Bronze",
           [
            "24 hour dedicated line",
            "concierge services"
           ],
           true,
           "699456451cc24f028d2aa99d7534c219"
          ]
         ],
         9,
         [
          [
           [
            "2003-09-09T00:00:00.000+0000"
           ],
           5341,
           "sell",
           "sap",
           "93.81343328235620049327",
           "121714.11552648528595454991"
          ],
          [
           [
            "2003-09-09T00:00:00.000+0000"
           ],
           1321,
           "sell",
           "adbe",
           "95.47842222945921264454",
           "66168.88068556306825485080"
          ],
          [
           [
            "2003-09-09T00:00:00.000+0000"
           ],
           5869,
           "buy",
           "msft",
           "26.31341895918690809708",
           "74415.00310081487987190485"
          ],
          [
           [
            "2003-09-09T00:00:00.000+0000"
           ],
           1025,
           "buy",
           "adbe",
           "47.21250003755582014264",
           "16923.71099668611714150757"
          ]
         ]
        ],
        [
         11,
         516921,
         "6607.65",
         [
          "Derivatives",
          "InvestmentStock"
         ],
         "user11",
         "1. Name",
         "4428 Address Street\nCity, State 13424",
         "user11@outlook.com",
         true,
         [
          [
           "Bronze",
           "0df078f33aa74a2e9696e0520c1a828a",
           true,
           [
            "sports tickets"
           ]
          ],
          [
           "Bronze",
           [
            "24 hour dedicated line",
            "concierge services"
           ],
           true,
           "699456451cc24f028d2aa99d7534c219"
          ]
         ],
         6,
         [
          [
           [
            "2003-09-09T00:00:00.000+0000"
           ],
           4428,
           "buy",
           "sap",
           "57.35156052356850153728",
           "78342.15896420380158815533"
          ],
          [
           [
            "2003-09-09T00:00:00.000+0000"
           ],
           4111,
           "sell",
           "adbe",
           "83.70465232504771790900",
           "77930.42290560470428317785"
          ],
          [
           [
            "2003-09-09T00:00:00.000+0000"
           ],
           3074,
           "buy",
           "msft",
           "82.77305815554666423850",
           "17877.05580443565850146115"
          ],
          [
           [
            "2003-09-09T00:00:00.000+0000"
           ],
           5530,
           "buy",
           "sap",
           "42.90294413394516226390",
           "153321.79268067853990942240"
          ]
         ]
        ],
        [
         10,
         710761,
         "6064.80",
         [
          "Derivatives",
          "InvestmentStock"
         ],
         "user10",
         "1. Name",
         "6215 Address Street\nCity, State 79411",
         "user10@outlook.com",
         true,
         [
          [
           "Bronze",
           "0df078f33aa74a2e9696e0520c1a828a",
           true,
           [
            "sports tickets"
           ]
          ],
          [
           "Bronze",
           [
            "24 hour dedicated line",
            "concierge services"
           ],
           true,
           "699456451cc24f028d2aa99d7534c219"
          ]
         ],
         1,
         [
          [
           [
            "2003-09-09T00:00:00.000+0000"
           ],
           4598,
           "buy",
           "msft",
           "97.00275717188829105453",
           "94811.95149820616643410176"
          ],
          [
           [
            "2003-09-09T00:00:00.000+0000"
           ],
           6105,
           "sell",
           "adbe",
           "50.12500512761091187031",
           "61504.83098080223862780258"
          ],
          [
           [
            "2003-09-09T00:00:00.000+0000"
           ],
           8676,
           "buy",
           "msft",
           "39.80476075102464506017",
           "42921.32684952760610030964"
          ],
          [
           [
            "2003-09-09T00:00:00.000+0000"
           ],
           6497,
           "buy",
           "sap",
           "33.78021434804605860336",
           "39877.70800312092615058646"
          ]
         ]
        ],
        [
         19,
         458491,
         "7291.20",
         [
          "Derivatives",
          "InvestmentStock"
         ],
         "user19",
         "1. Name",
         "1769 Address Street\nCity, State 33793",
         "user19@outlook.com",
         true,
         [
          [
           "Bronze",
           "0df078f33aa74a2e9696e0520c1a828a",
           true,
           [
            "sports tickets"
           ]
          ],
          [
           "Bronze",
           [
            "24 hour dedicated line",
            "concierge services"
           ],
           true,
           "699456451cc24f028d2aa99d7534c219"
          ]
         ],
         9,
         [
          [
           [
            "2003-09-09T00:00:00.000+0000"
           ],
           6444,
           "sell",
           "msft",
           "60.01504508236588009140",
           "97939.96834752277936786413"
          ],
          [
           [
            "2003-09-09T00:00:00.000+0000"
           ],
           1592,
           "buy",
           "msft",
           "20.42555761326530472388",
           "50436.44210143076634267345"
          ],
          [
           [
            "2003-09-09T00:00:00.000+0000"
           ],
           8830,
           "sell",
           "adbe",
           "73.41813420886924745901",
           "79578.50021041551372036338"
          ],
          [
           [
            "2003-09-09T00:00:00.000+0000"
           ],
           3109,
           "sell",
           "sap",
           "77.12693861350744839456",
           "38653.50147456035483628511"
          ]
         ]
        ],
        [
         17,
         564610,
         "8301.30",
         [
          "Derivatives",
          "InvestmentStock"
         ],
         "user17",
         "1. Name",
         "7308 Address Street\nCity, State 76910",
         "user17@outlook.com",
         false,
         [
          [
           "Bronze",
           "0df078f33aa74a2e9696e0520c1a828a",
           true,
           [
            "sports tickets"
           ]
          ],
          [
           "Bronze",
           [
            "24 hour dedicated line",
            "concierge services"
           ],
           true,
           "699456451cc24f028d2aa99d7534c219"
          ]
         ],
         2,
         [
          [
           [
            "2003-09-09T00:00:00.000+0000"
           ],
           1144,
           "buy",
           "sap",
           "58.84318210510243574163",
           "172876.57626284728758037090"
          ],
          [
           [
            "2003-09-09T00:00:00.000+0000"
           ],
           5036,
           "sell",
           "msft",
           "12.72993662551035320973",
           "142237.54796342787449248135"
          ],
          [
           [
            "2003-09-09T00:00:00.000+0000"
           ],
           8902,
           "sell",
           "msft",
           "59.97696351403897097043",
           "146939.41589117734110914171"
          ],
          [
           [
            "2003-09-09T00:00:00.000+0000"
           ],
           9093,
           "buy",
           "sap",
           "18.29094576213286416078",
           "182711.17060213070362806320"
          ]
         ]
        ],
        [
         13,
         697785,
         "7606.20",
         [
          "Derivatives",
          "InvestmentStock"
         ],
         "user13",
         "1. Name",
         "7467 Address Street\nCity, State 12462",
         "user13@outlook.com",
         true,
         [
          [
           "Bronze",
           "0df078f33aa74a2e9696e0520c1a828a",
           true,
           [
            "sports tickets"
           ]
          ],
          [
           "Bronze",
           [
            "24 hour dedicated line",
            "concierge services"
           ],
           true,
           "699456451cc24f028d2aa99d7534c219"
          ]
         ],
         4,
         [
          [
           [
            "2003-09-09T00:00:00.000+0000"
           ],
           1759,
           "buy",
           "adbe",
           "54.64340870302773822687",
           "97818.69475430114835035056"
          ],
          [
           [
            "2003-09-09T00:00:00.000+0000"
           ],
           7317,
           "sell",
           "team",
           "92.18402912371045943019",
           "155031.63420887131360359490"
          ],
          [
           [
            "2003-09-09T00:00:00.000+0000"
           ],
           3939,
           "buy",
           "adbe",
           "47.54763000709779419140",
           "67372.07298207332496531308"
          ]
         ]
        ],
        [
         20,
         715843,
         "6529.95",
         [
          "Derivatives",
          "InvestmentStock"
         ],
         "user20",
         "2. Name",
         "9638 Address Street\nCity, State 97940",
         "user20@outlook.com",
         true,
         [
          [
           "Bronze",
           "0df078f33aa74a2e9696e0520c1a828a",
           true,
           [
            "sports tickets"
           ]
          ],
          [
           "Bronze",
           [
            "24 hour dedicated line",
            "concierge services"
           ],
           true,
           "699456451cc24f028d2aa99d7534c219"
          ]
         ],
         9,
         [
          [
           [
            "2003-09-09T00:00:00.000+0000"
           ],
           7953,
           "buy",
           "team",
           "78.52598793588322223513",
           "67275.42819512059213593602"
          ],
          [
           [
            "2003-09-09T00:00:00.000+0000"
           ],
           3918,
           "buy",
           "msft",
           "70.83468699291989878475",
           "118635.57435199010069482028"
          ],
          [
           [
            "2003-09-09T00:00:00.000+0000"
           ],
           1254,
           "buy",
           "msft",
           "59.93730484331764785111",
           "86228.51616160180128645152"
          ]
         ]
        ],
        [
         2,
         798663,
         "5783.40",
         [
          "Derivatives",
          "InvestmentStock"
         ],
         "user2",
         "2. Name",
         "2446 Address Street\nCity, State 60347",
         "user2@outlook.com",
         false,
         [
          [
           "Bronze",
           "0df078f33aa74a2e9696e0520c1a828a",
           true,
           [
            "sports tickets"
           ]
          ],
          [
           "Bronze",
           [
            "24 hour dedicated line",
            "concierge services"
           ],
           true,
           "699456451cc24f028d2aa99d7534c219"
          ]
         ],
         4,
         [
          [
           [
            "2003-09-09T00:00:00.000+0000"
           ],
           1806,
           "buy",
           "sap",
           "32.26220927294741613878",
           "177784.84620206980616785586"
          ],
          [
           [
            "2003-09-09T00:00:00.000+0000"
           ],
           9511,
           "buy",
           "sap",
           "61.20478161757444013347",
           "146343.89646978591918013990"
          ]
         ]
        ],
        [
         4,
         900650,
         "9883.65",
         [
          "Derivatives",
          "InvestmentStock"
         ],
         "user4",
         "4. Name",
         "2361 Address Street\nCity, State 43351",
         "user4@outlook.com",
         false,
         [
          [
           "Bronze",
           "0df078f33aa74a2e9696e0520c1a828a",
           true,
           [
            "sports tickets"
           ]
          ],
          [
           "Bronze",
           [
            "24 hour dedicated line",
            "concierge services"
           ],
           true,
           "699456451cc24f028d2aa99d7534c219"
          ]
         ],
         4,
         [
          [
           [
            "2003-09-09T00:00:00.000+0000"
           ],
           1201,
           "buy",
           "adbe",
           "36.75711471553837839110",
           "78799.85879699424549471587"
          ],
          [
           [
            "2003-09-09T00:00:00.000+0000"
           ],
           9869,
           "buy",
           "team",
           "15.86729073710625570470",
           "13496.01666612100052589085"
          ]
         ]
        ],
        [
         16,
         174388,
         "10467.45",
         [
          "Derivatives",
          "InvestmentStock"
         ],
         "user16",
         "S. Lina",
         "3488 Address Street\nCity, State 74239",
         "user16@outlook.com",
         false,
         [
          [
           "Bronze",
           "0df078f33aa74a2e9696e0520c1a828a",
           true,
           [
            "sports tickets"
           ]
          ],
          [
           "Bronze",
           [
            "24 hour dedicated line",
            "concierge services"
           ],
           true,
           "699456451cc24f028d2aa99d7534c219"
          ]
         ],
         10,
         [
          [
           [
            "2003-09-09T00:00:00.000+0000"
           ],
           7557,
           "sell",
           "sap",
           "38.23946785946582593851",
           "45847.95631305879942374304"
          ]
         ]
        ],
        [
         9,
         293047,
         "8681.40",
         [
          "Derivatives",
          "InvestmentStock"
         ],
         "user9",
         "T. Tom",
         "8430 Address Street\nCity, State 45065",
         "user9@outlook.com",
         true,
         [
          [
           "Bronze",
           "0df078f33aa74a2e9696e0520c1a828a",
           true,
           [
            "sports tickets"
           ]
          ],
          [
           "Bronze",
           [
            "24 hour dedicated line",
            "concierge services"
           ],
           true,
           "699456451cc24f028d2aa99d7534c219"
          ]
         ],
         6,
         [
          [
           [
            "2003-09-09T00:00:00.000+0000"
           ],
           5468,
           "sell",
           "sap",
           "76.54828905931904614590",
           "144298.99710163468262180686"
          ]
         ]
        ],
        [
         14,
         408581,
         "6755.70",
         [
          "Derivatives",
          "InvestmentStock"
         ],
         "user14",
         "L. Alan",
         "2488 Address Street\nCity, State 82492",
         "user14@outlook.com",
         true,
         [
          [
           "Bronze",
           "0df078f33aa74a2e9696e0520c1a828a",
           true,
           [
            "sports tickets"
           ]
          ],
          [
           "Bronze",
           [
            "24 hour dedicated line",
            "concierge services"
           ],
           true,
           "699456451cc24f028d2aa99d7534c219"
          ]
         ],
         1,
         [
          [
           [
            "2003-09-09T00:00:00.000+0000"
           ],
           5083,
           "buy",
           "msft",
           "59.83689844673048696677",
           "112308.40918843276449479163"
          ]
         ]
        ],
        [
         12,
         941485,
         "8775.90",
         [
          "Derivatives",
          "InvestmentStock"
         ],
         "user12",
         "1. Name",
         "8924 Address Street\nCity, State 93815",
         "user12@outlook.com",
         true,
         [
          [
           "Bronze",
           "0df078f33aa74a2e9696e0520c1a828a",
           true,
           [
            "sports tickets"
           ]
          ],
          [
           "Bronze",
           [
            "24 hour dedicated line",
            "concierge services"
           ],
           true,
           "699456451cc24f028d2aa99d7534c219"
          ]
         ],
         4,
         [
          [
           [
            "2003-09-09T00:00:00.000+0000"
           ],
           6170,
           "sell",
           "adbe",
           "50.66012834959665411816",
           "43951.32860177059046691284"
          ]
         ]
        ],
        [
         7,
         812181,
         "5951.40",
         [
          "Derivatives",
          "InvestmentStock"
         ],
         "user7",
         "7. Name",
         "4701 Address Street\nCity, State 54110",
         "user7@outlook.com",
         true,
         [
          [
           "Bronze",
           "0df078f33aa74a2e9696e0520c1a828a",
           true,
           [
            "sports tickets"
           ]
          ],
          [
           "Bronze",
           [
            "24 hour dedicated line",
            "concierge services"
           ],
           true,
           "699456451cc24f028d2aa99d7534c219"
          ]
         ],
         4,
         [
          [
           [
            "2003-09-09T00:00:00.000+0000"
           ],
           1860,
           "sell",
           "msft",
           "69.21162298191629247412",
           "58382.94378920970484614372"
          ]
         ]
        ],
        [
         3,
         810195,
         "10018.05",
         [
          "Derivatives",
          "InvestmentStock"
         ],
         "user3",
         "3. Name",
         "4179 Address Street\nCity, State 12097",
         "user3@outlook.com",
         false,
         [
          [
           "Bronze",
           "0df078f33aa74a2e9696e0520c1a828a",
           true,
           [
            "sports tickets"
           ]
          ],
          [
           "Bronze",
           [
            "24 hour dedicated line",
            "concierge services"
           ],
           true,
           "699456451cc24f028d2aa99d7534c219"
          ]
         ],
         5,
         [
          [
           [
            "2003-09-09T00:00:00.000+0000"
           ],
           8876,
           "buy",
           "msft",
           "95.85359629821800808713",
           "21077.12627738101582508534"
          ]
         ]
        ]
       ],
       "datasetInfos": [],
       "dbfsResultPath": null,
       "isJsonSchema": true,
       "metadata": {},
       "overflow": false,
       "plotOptions": {
        "customPlotOptions": {},
        "displayType": "table",
        "pivotAggregation": null,
        "pivotColumns": null,
        "xColumns": null,
        "yColumns": null
       },
       "removedWidgets": [],
       "schema": [
        {
         "metadata": "{}",
         "name": "id",
         "type": "\"integer\""
        },
        {
         "metadata": "{}",
         "name": "account_id",
         "type": "\"integer\""
        },
        {
         "metadata": "{}",
         "name": "limit",
         "type": "\"decimal(14,2)\""
        },
        {
         "metadata": "{}",
         "name": "products",
         "type": "{\"type\":\"array\",\"elementType\":\"string\",\"containsNull\":true}"
        },
        {
         "metadata": "{}",
         "name": "username",
         "type": "\"string\""
        },
        {
         "metadata": "{}",
         "name": "name",
         "type": "\"string\""
        },
        {
         "metadata": "{}",
         "name": "address",
         "type": "\"string\""
        },
        {
         "metadata": "{}",
         "name": "email",
         "type": "\"string\""
        },
        {
         "metadata": "{}",
         "name": "active",
         "type": "\"boolean\""
        },
        {
         "metadata": "{}",
         "name": "tier_and_details",
         "type": "{\"type\":\"struct\",\"fields\":[{\"name\":\"k\",\"type\":{\"type\":\"struct\",\"fields\":[{\"name\":\"tier\",\"type\":\"string\",\"nullable\":true,\"metadata\":{}},{\"name\":\"id\",\"type\":\"string\",\"nullable\":true,\"metadata\":{}},{\"name\":\"active\",\"type\":\"boolean\",\"nullable\":true,\"metadata\":{}},{\"name\":\"benefits\",\"type\":{\"type\":\"array\",\"elementType\":\"string\",\"containsNull\":true},\"nullable\":true,\"metadata\":{}}]},\"nullable\":true,\"metadata\":{}},{\"name\":\"v\",\"type\":{\"type\":\"struct\",\"fields\":[{\"name\":\"tier\",\"type\":\"string\",\"nullable\":true,\"metadata\":{}},{\"name\":\"benefits\",\"type\":{\"type\":\"array\",\"elementType\":\"string\",\"containsNull\":true},\"nullable\":true,\"metadata\":{}},{\"name\":\"active\",\"type\":\"boolean\",\"nullable\":true,\"metadata\":{}},{\"name\":\"id\",\"type\":\"string\",\"nullable\":true,\"metadata\":{}}]},\"nullable\":true,\"metadata\":{}}]}"
        },
        {
         "metadata": "{}",
         "name": "transaction_count",
         "type": "\"integer\""
        },
        {
         "metadata": "{}",
         "name": "transactions",
         "type": "{\"type\":\"array\",\"elementType\":{\"type\":\"struct\",\"fields\":[{\"name\":\"date\",\"type\":{\"type\":\"struct\",\"fields\":[{\"name\":\"$date\",\"type\":\"timestamp\",\"nullable\":true,\"metadata\":{}}]},\"nullable\":true,\"metadata\":{}},{\"name\":\"amount\",\"type\":\"integer\",\"nullable\":true,\"metadata\":{}},{\"name\":\"transaction_code\",\"type\":\"string\",\"nullable\":true,\"metadata\":{}},{\"name\":\"symbol\",\"type\":\"string\",\"nullable\":true,\"metadata\":{}},{\"name\":\"price\",\"type\":\"string\",\"nullable\":true,\"metadata\":{}},{\"name\":\"total\",\"type\":\"string\",\"nullable\":true,\"metadata\":{}}]},\"containsNull\":true}"
        }
       ],
       "type": "table"
      }
     },
     "output_type": "display_data"
    }
   ],
   "source": [
    "from pyspark.sql.functions import expr, col, regexp_replace\n",
    "\n",
    "df2 = spark.readStream\\\n",
    "    .format(\"delta\")\\\n",
    "    .table(\"hive_metastore.transaction_silver.data\")\\\n",
    "    .withColumn(\n",
    "    \"limit\",\n",
    "    expr(\"\"\"\n",
    "        CASE\n",
    "            WHEN array_contains(products, 'InvestmentStock') THEN limit + (limit * 0.05)\n",
    "            ELSE limit\n",
    "        END\n",
    "    \"\"\")\n",
    "    )\\\n",
    "    .withColumn(\n",
    "    \"name\",\n",
    "    expr(\"\"\"\n",
    "        concat_ws('. ',\n",
    "            upper(substring(split(name, ' ')[1], 1, 1)), \n",
    "            split(name, ' ')[0]\n",
    "        )\n",
    "    \"\"\")\n",
    "    )\\\n",
    "    .withColumn(\n",
    "    \"email\",\n",
    "    regexp_replace(col(\"email\"), \"@example\\\\.com$\", \"@outlook.com\")\n",
    "    )\\\n",
    "    .select(\"id\",\"account_id\",\"limit\",\"products\",\"username\",\"name\",\"address\",\"email\",\"active\",\"tier_and_details\",\"transaction_count\",\"transactions\")\n",
    "\n",
    "df2.display()\n"
   ]
  },
  {
   "cell_type": "code",
   "execution_count": 0,
   "metadata": {
    "application/vnd.databricks.v1+cell": {
     "cellMetadata": {
      "byteLimit": 2048000,
      "rowLimit": 10000
     },
     "inputWidgets": {},
     "nuid": "a5942ed7-c68b-4bcf-ba77-59ef105032ab",
     "showTitle": false,
     "title": ""
    }
   },
   "outputs": [],
   "source": [
    "from pyspark.sql.functions import col, explode, round, struct, when, lit, collect_list"
   ]
  },
  {
   "cell_type": "code",
   "execution_count": 0,
   "metadata": {
    "application/vnd.databricks.v1+cell": {
     "cellMetadata": {
      "byteLimit": 2048000,
      "rowLimit": 10000
     },
     "inputWidgets": {},
     "nuid": "63d829eb-4479-43f6-a92e-a56f9c0aac39",
     "showTitle": false,
     "title": ""
    }
   },
   "outputs": [],
   "source": [
    "df_flat = df2.withColumn(\"transaction\", explode(\"transactions\"))"
   ]
  },
  {
   "cell_type": "code",
   "execution_count": 0,
   "metadata": {
    "application/vnd.databricks.v1+cell": {
     "cellMetadata": {
      "byteLimit": 2048000,
      "rowLimit": 10000
     },
     "inputWidgets": {},
     "nuid": "a0d768f1-78a1-4442-b1d0-24cc2bbe6e56",
     "showTitle": false,
     "title": ""
    }
   },
   "outputs": [],
   "source": [
    "df_transformed = df_flat.withColumn(\"transaction\",\n",
    "    struct(\n",
    "        col(\"transaction.date\"),\n",
    "        col(\"transaction.amount\"),\n",
    "        col(\"transaction.transaction_code\"),\n",
    "        col(\"transaction.symbol\"),\n",
    "        round(col(\"transaction.price\"), 2).alias(\"price\"),\n",
    "        round(col(\"transaction.total\"), 2).alias(\"total\")\n",
    "    )\n",
    ")"
   ]
  },
  {
   "cell_type": "code",
   "execution_count": 0,
   "metadata": {
    "application/vnd.databricks.v1+cell": {
     "cellMetadata": {
      "byteLimit": 2048000,
      "rowLimit": 10000
     },
     "inputWidgets": {},
     "nuid": "617d0db1-9675-473b-904d-7a95e6fb864f",
     "showTitle": false,
     "title": ""
    }
   },
   "outputs": [],
   "source": [
    "df_final = df_transformed.groupBy(\"id\",\"account_id\",\"limit\",\"products\",\"username\",\"name\",\"address\",\"email\",\"active\",\"tier_and_details\",\"transaction_count\") \\\n",
    "    .agg(\n",
    "        collect_list(\"transaction\").alias(\"transactions\")\n",
    "    )\n",
    "\n",
    "df_final.display()\n"
   ]
  },
  {
   "cell_type": "code",
   "execution_count": 0,
   "metadata": {
    "application/vnd.databricks.v1+cell": {
     "cellMetadata": {},
     "inputWidgets": {},
     "nuid": "33a56b1e-739c-47e8-92a2-12ee13c29162",
     "showTitle": false,
     "title": ""
    }
   },
   "outputs": [],
   "source": [
    "spark.sql(\"CREATE SCHEMA IF NOT EXISTS hive_metastore.transaction_gold\")\n",
    "\n",
    "df2.writeStream\\\n",
    "    .option(\"checkpointLocation\", \"/mnt/hive_metastore/transaction_gold/data\")\\\n",
    "    .outputMode(\"append\")\\\n",
    "    .format(\"delta\")\\\n",
    "    .toTable(\"hive_metastore.transaction_gold.data\")"
   ]
  }
 ],
 "metadata": {
  "application/vnd.databricks.v1+notebook": {
   "dashboards": [],
   "environmentMetadata": {
    "base_environment": "",
    "client": "1"
   },
   "language": "python",
   "notebookMetadata": {
    "mostRecentlyExecutedCommandWithImplicitDF": {
     "commandId": 2163788249413651,
     "dataframes": [
      "_sqldf"
     ]
    },
    "pythonIndentUnit": 4
   },
   "notebookName": "Real Time Transaction data processing using Azure Databricks",
   "widgets": {}
  },
  "language_info": {
   "name": "python"
  }
 },
 "nbformat": 4,
 "nbformat_minor": 0
}
